{
 "cells": [
  {
   "cell_type": "markdown",
   "metadata": {
    "slideshow": {
     "slide_type": "skip"
    }
   },
   "source": [
    "## Python の基本\n",
    "\n",
    "この資料は[The Python Tutorial](https://docs.python.org/3.6/tutorial/index.html#the-python-tutorial)\n",
    "    ([日本語版](https://docs.python.jp/3/tutorial/)) および [Python for Data Analysis:Wrangling with Pandas, Numpy and IPython](http://shop.oreilly.com/product/0636920050896.do)を参考に作成した。  \n",
    "このチュートリアルでは他のプログラミング言語を習得している方を想定し、Python の特徴などを説明する。"
   ]
  },
  {
   "cell_type": "markdown",
   "metadata": {
    "slideshow": {
     "slide_type": "slide"
    }
   },
   "source": [
    "## インデント(再掲)\n",
    "\n",
    "Python では行頭の字下げ（インデント）でプログラムを構造化している。  \n",
    "同じインデントレベルの一連のプログラム文をコードブロックと呼び、インデントによる構造化は Python の特徴である。  \n",
    "他方、C, Java, Ruby といった他の言語では構造化にはおもに括弧 `{}` 、（開始から終了までがコードブロック）が利用されている。\n",
    "\n",
    "インデントはタブ、スペース(空白)いずれも使えるが、Python 標準ライブラリでは\n",
    "スペース[4文字を標準](http://pep8-ja.readthedocs.io/ja/latest/)とするスタイル(書式)を採用している。  \n",
    "**Jupyter の標準もこれを採っており講義でもこの書式を利用する。** セルでタブを入力すれば勝手に変換されるのであまり気にする必要はない。"
   ]
  },
  {
   "cell_type": "markdown",
   "metadata": {
    "slideshow": {
     "slide_type": "slide"
    }
   },
   "source": [
    "プログラムの例を使って説明する。  \n",
    "変数 `x, y` の両方が正符号をもつとき文字列を出力するプログラムは、`if` 文で以下のように書ける:  "
   ]
  },
  {
   "cell_type": "code",
   "execution_count": null,
   "metadata": {},
   "outputs": [],
   "source": [
    "x = 1\n",
    "y = 1\n",
    "if x > 0 :\n",
    "    print (\"x has the positive sign, but y is unknown\")\n",
    "    if y > 0 :\n",
    "        print (\"Both 'x' and 'y' have the positive.\")\n",
    "        "
   ]
  },
  {
   "cell_type": "markdown",
   "metadata": {},
   "source": [
    "3行目の if 文の行末の: はコードブロックの先頭を意味し、これに続く同じ字数だけインデントされた行の続く範囲までコードブロックは続く。そのコードブロックが直前の if 行の制御対象となる。\n",
    "5 行目から二重の if 文となり、この制御範囲は、二重にインデントされた 6 行目の print()関数のみのコードブロックとなる。\n",
    "8 行目のインデントされていない print()行は、いずれの if 文の制御範囲ではなく、 （x,y の符号にかかわらず）かならず実行される。"
   ]
  },
  {
   "cell_type": "markdown",
   "metadata": {
    "slideshow": {
     "slide_type": "slide"
    }
   },
   "source": [
    "## 条件分岐  `if`, `elif`, `else`\n",
    "\n",
    "`if` 文は最もよく知られる制御フロー文型であり、\n",
    "`if` と `:` の間の式を評価し、結果が`True`であれば、`:`以降のコードブロックを実行する。\n",
    "最も単純な `if` 文は以下のように書ける:\n",
    "\n",
    "----\n",
    "```Python\n",
    "if x < 0:\n",
    "    print (\"'x' is negative.\")\n",
    "```\n",
    "\n",
    "----\n",
    "\n",
    "`if` 文に続いて、一つあるいはそれ以上の `elif` 条件分岐ブロックや、全ての条件が `False` の場合実行される `else` ブロックを置くこともできる。\n",
    "\n",
    "---\n",
    "```Python\n",
    "if x < 0:\n",
    "    print(\"'x' is negative\")\n",
    "elif x == 0:\n",
    "    print(\"'x' is zero\")\n",
    "elif 0 < x < 5:\n",
    "    print(\"x is poositive but smaller than 5\")\n",
    "else:\n",
    "    print(\"x is postive and larger than or equal to 5\")\n",
    "```\n",
    "\n",
    "---\n",
    "また、`if` 文では、`if` あるいは `elif` いずれかの条件が `True` の場合以降の `elif` $\\sim$ `else` ブロックは実行されない。\n",
    "したがって、以下のプログラムでは、最初の `if True:` だけが評価される。"
   ]
  },
  {
   "cell_type": "code",
   "execution_count": null,
   "metadata": {},
   "outputs": [],
   "source": [
    "if True:\n",
    "     print(x)\n",
    "elif x < 3:\n",
    "    print (\"x is less than 3\")\n",
    "elif x < 2:\n",
    "    print (\"x is less than 2\")\n",
    "elif x < 1:\n",
    "    print (\"x is less than 1\")\n",
    "else:\n",
    "    print(x)"
   ]
  },
  {
   "cell_type": "markdown",
   "metadata": {
    "slideshow": {
     "slide_type": "slide"
    }
   },
   "source": [
    "### 練習問題\n",
    "以下のプログラムは 3 行目、5 行目の `elif` は評価されない。\n",
    "すべての `elif` 文が評価対象となるように書き換えよ。"
   ]
  },
  {
   "cell_type": "code",
   "execution_count": null,
   "metadata": {},
   "outputs": [],
   "source": [
    "if x < 3:\n",
    "    print (\"x is less than 3\")\n",
    "elif x < 2:\n",
    "    print (\"x is less than 2\")\n",
    "elif x < 1:\n",
    "    print (\"x is less than 1\")\n",
    "else:\n",
    "    print(x)"
   ]
  },
  {
   "cell_type": "markdown",
   "metadata": {
    "slideshow": {
     "slide_type": "slide"
    }
   },
   "source": [
    "## 分岐の評価\n",
    "\n",
    "`if` 文に与える条件が `or` あるいは `and` で結合された複合条件の場合、条件は左から順に評価され、\n",
    "不要（以降の式を評価するまでもなく自明）な評価は省かれる。\n",
    "例えば `or` 演算子の場合、`if a == 0 or b == 0:` では、左辺,`a == 0`,が `True` の場合、右辺,`b == 0`,を評価することなく続くコードブロックが実行される。また、`and` の場合、`if a == 0 and b == 0:` では左辺が `False` の場合、右辺を評価することなくコードブロックはスキップされる。"
   ]
  },
  {
   "cell_type": "markdown",
   "metadata": {
    "slideshow": {
     "slide_type": "subslide"
    }
   },
   "source": [
    "以下のセルで示す２つの例のうち、最初のものは変数 `x` が未定義のためエラーとなるが、２つ目は正常に実行される。\n",
    "2 つめの例では、複合条件のうち `y > 5` を評価されることなく、変数 `y` が未定義にもかかわらずプログラムは正常に終了する。"
   ]
  },
  {
   "cell_type": "code",
   "execution_count": null,
   "metadata": {},
   "outputs": [],
   "source": [
    "x = 10          # del x のエラーを抑制するため\n",
    "y = 10\n",
    "\n",
    "del x           # x を未定義に\n",
    "\n",
    "if x > 5 or y > 5: \n",
    "    print(\"'x' or 'y' is larger than 5\")"
   ]
  },
  {
   "cell_type": "code",
   "execution_count": null,
   "metadata": {},
   "outputs": [],
   "source": [
    "x = 10\n",
    "y = 10          # del y のエラーを抑制するため\n",
    "\n",
    "del y           # y を未定義に\n",
    "\n",
    "if x > 5 or y > 5: \n",
    "    print(\"'x' or 'y' is larger than 5\")\n"
   ]
  },
  {
   "cell_type": "markdown",
   "metadata": {
    "slideshow": {
     "slide_type": "-"
    }
   },
   "source": [
    "## Ternary 式(参考)\n",
    "Python では以下のように`if` $\\sim$ `else` 文を一行に書くこともできる。\n",
    "\n",
    "---\n",
    "```python\n",
    "sign = \"positive\" if x >= 0 else \"negative\" \n",
    "```\n",
    "---\n",
    "これは、以下と等価である。\n",
    "\n",
    "---\n",
    "```python\n",
    "if x >= 0 :\n",
    "    sign = \"positive\"\n",
    "else:\n",
    "    sign = \"negative\"\n",
    "```\n",
    "---\n",
    "\n",
    "また、C, Java, Ruby の三項演算子 `条件 ? 真:偽 ` と同等である。C の例では:\n",
    "\n",
    "```C\n",
    "    char *string = x > 0 ? \"positive\" : \"negative\";\n",
    "```\n"
   ]
  },
  {
   "cell_type": "markdown",
   "metadata": {
    "slideshow": {
     "slide_type": "slide"
    }
   },
   "source": [
    "## 繰り返し `for` $\\sim$ `in`\n",
    "\n",
    "`for` 文の標準的な文法は以下のとおり。\n",
    "\n",
    "---\n",
    "```Python\n",
    "for value in sequence:\n",
    "    # 実行内容\n",
    "```\n",
    "\n",
    "---\n",
    "`for` 文では `in` 以降に与えられたシーケンス型（リスト、文字列、あるいはタプル型など）ににわたって反復をおこなう。\n",
    "実行順序はシーケンス中の要素の順番となる:"
   ]
  },
  {
   "cell_type": "code",
   "execution_count": null,
   "metadata": {},
   "outputs": [],
   "source": [
    "words = [\"cat\", \"window\", \"deferenstrate\"]\n",
    "for w in words:\n",
    "    print(w, len(w))"
   ]
  },
  {
   "cell_type": "markdown",
   "metadata": {
    "slideshow": {
     "slide_type": "slide"
    }
   },
   "source": [
    "### `range()` 関数\n",
    "Python の `for` 文は、C、Java の `for` 文とは異なることに注意すること。\n",
    "C, Java では以下のように初期化、繰り返しステップと停止条件をユーザが定義できた：\n",
    "\n",
    "---\n",
    "```C\n",
    "for(int i = 0 ; i < 5 ; i++){\n",
    "    printf(\"%d\\n\", i);\n",
    "}\n",
    "```\n",
    "\n",
    "---\n",
    "\n",
    "Python の `for` 文で繰り返し回数を指定する場合、`range()` 組み込み関数が用いられる。\n",
    "`range()` 関数は引数を一つ、`n`、を与えられると、`0, 1, ... n -1`、という数列を生成する。\n",
    "上記 C プログラムは Python では以下のようになる:"
   ]
  },
  {
   "cell_type": "code",
   "execution_count": null,
   "metadata": {},
   "outputs": [],
   "source": [
    "for i in range(5):\n",
    "    print(i);"
   ]
  },
  {
   "cell_type": "markdown",
   "metadata": {
    "slideshow": {
     "slide_type": "subslide"
    }
   },
   "source": [
    "`range()` 関数はリストオブジェクトを返さないことに注意する必要がある。\n",
    "リストオブジェクトを返すと、繰り返し回数の大きな `for` 文ではリストも大きくなり無駄が多い。\n",
    "リストオブジェクトが欲しい場合は以下のようにする:"
   ]
  },
  {
   "cell_type": "code",
   "execution_count": null,
   "metadata": {},
   "outputs": [],
   "source": [
    "list(range(5)) \n",
    "# Retuen : [0,1,2,3,4]"
   ]
  },
  {
   "cell_type": "markdown",
   "metadata": {
    "slideshow": {
     "slide_type": "slide"
    }
   },
   "source": [
    "### `enumerate()` 関数\n",
    "`for` 文のシーケンス型ににわたる繰り返し処理では、処理中の要素の順序を把握したいことはよくある。\n",
    "これまで説明した範囲では以下のように書ける:"
   ]
  },
  {
   "cell_type": "code",
   "execution_count": null,
   "metadata": {},
   "outputs": [],
   "source": [
    "i = 0\n",
    "for val in some_list:\n",
    "    i += 1\n",
    "    print(i, val)\n",
    "    # くりかえさせたい処理"
   ]
  },
  {
   "cell_type": "markdown",
   "metadata": {
    "slideshow": {
     "slide_type": "subslide"
    }
   },
   "source": [
    "Python では `enumerate()` 関数が用意されており、上のプログラムは以下のように書き換えることができる:"
   ]
  },
  {
   "cell_type": "code",
   "execution_count": null,
   "metadata": {},
   "outputs": [],
   "source": [
    "for i, val in enumerate(some_list):\n",
    "    # くりかえさせたい処理"
   ]
  },
  {
   "cell_type": "markdown",
   "metadata": {
    "slideshow": {
     "slide_type": "skip"
    }
   },
   "source": [
    "### 帰属演算子 `in`\n",
    "Python では `for` ループでリストを展開する `in` とは別に、リスト内の要素の有無を検査する `in`, `not in` 演算子が定義されている。\n",
    "以下のように、`if` 文の条件に `in` が出現した場合、`for` 文とは動作が異なるので注意すること:"
   ]
  },
  {
   "cell_type": "code",
   "execution_count": null,
   "metadata": {
    "slideshow": {
     "slide_type": "skip"
    }
   },
   "outputs": [],
   "source": [
    "colors = [\"red\", \"green\", \"blue\"]\n",
    "    \n",
    "print(\"for case:\")\n",
    "for color in colors:\n",
    "    # do something\n",
    "    print(color)\n",
    "\n",
    "# color is \"blue\" as a result of the for loop\n",
    "\n",
    "print(\"if case:\")\n",
    "if color in colors:\n",
    "    # do something\n",
    "    print(color)"
   ]
  },
  {
   "cell_type": "markdown",
   "metadata": {
    "slideshow": {
     "slide_type": "skip"
    }
   },
   "source": [
    "## 繰り返し `while`\n",
    "\n",
    "`while` 文ではコードブロックでは与えられた条件が `False` となるまで繰り返される。\n",
    "下記のプログラムでは、$\\sum_{x=0}^{100}x$ が `total` の値となる:"
   ]
  },
  {
   "cell_type": "code",
   "execution_count": null,
   "metadata": {
    "slideshow": {
     "slide_type": "skip"
    }
   },
   "outputs": [],
   "source": [
    "x = 0\n",
    "total = 0 \n",
    "while x <= 100:\n",
    "    total += x"
   ]
  },
  {
   "cell_type": "markdown",
   "metadata": {},
   "source": [
    "### 練習\n",
    "以下のプログラムでは 1 秒おきに `print()` 文が永遠に実行される。\n",
    "Jupyter-notebook で止まらない場合は、\n",
    "前に説明したとおり、$\\blacksquare$ アイコン（Interrupt the Kernel）をクリックすれば停止させることができる。\n",
    "\n",
    "以下のセルのプログラムを 10 秒後に　`while` ループを終了するように書き換えよ。\n",
    "ただし、`break` 文を使わないこと:"
   ]
  },
  {
   "cell_type": "code",
   "execution_count": 1,
   "metadata": {},
   "outputs": [
    {
     "name": "stdout",
     "output_type": "stream",
     "text": [
      "Yeah!\n",
      "Yeah!\n",
      "Yeah!\n"
     ]
    },
    {
     "ename": "KeyboardInterrupt",
     "evalue": "",
     "output_type": "error",
     "traceback": [
      "\u001b[0;31m---------------------------------------------------------------------------\u001b[0m",
      "\u001b[0;31mKeyboardInterrupt\u001b[0m                         Traceback (most recent call last)",
      "\u001b[0;32m<ipython-input-1-746afc312b14>\u001b[0m in \u001b[0;36m<module>\u001b[0;34m()\u001b[0m\n\u001b[1;32m      2\u001b[0m \u001b[0;34m\u001b[0m\u001b[0m\n\u001b[1;32m      3\u001b[0m \u001b[0;32mwhile\u001b[0m\u001b[0;34m(\u001b[0m\u001b[0;32mTrue\u001b[0m\u001b[0;34m)\u001b[0m\u001b[0;34m:\u001b[0m\u001b[0;34m\u001b[0m\u001b[0m\n\u001b[0;32m----> 4\u001b[0;31m     \u001b[0msleep\u001b[0m\u001b[0;34m(\u001b[0m\u001b[0;36m1\u001b[0m\u001b[0;34m)\u001b[0m\u001b[0;34m\u001b[0m\u001b[0m\n\u001b[0m\u001b[1;32m      5\u001b[0m     \u001b[0mprint\u001b[0m\u001b[0;34m(\u001b[0m\u001b[0;34m\"Yeah!\"\u001b[0m\u001b[0;34m)\u001b[0m\u001b[0;34m\u001b[0m\u001b[0m\n",
      "\u001b[0;31mKeyboardInterrupt\u001b[0m: "
     ]
    }
   ],
   "source": [
    "from time import sleep\n",
    "\n",
    "while(True):\n",
    "    sleep(1)\n",
    "    print(\"Yeah!\")"
   ]
  },
  {
   "cell_type": "markdown",
   "metadata": {
    "slideshow": {
     "slide_type": "slide"
    }
   },
   "source": [
    "## `break` 文\n",
    "`break` 文は `for` および `while` ループのコードブロックで利用可能である。\n",
    "`break`文は実行中のプログラムで最も内側の繰り返し処理を中断し、ループを終了させる目的で利用される。\n",
    "下記のプログラムでは、`colors`リストの `\"black\"` 以降は処理されない:"
   ]
  },
  {
   "cell_type": "code",
   "execution_count": null,
   "metadata": {},
   "outputs": [],
   "source": [
    "colors = [\"red\", \"green\", \"blue\", \"black\", \"white\"]\n",
    "for c in colors:\n",
    "    if(c == \"black\"):\n",
    "           break\n",
    "    print(c)"
   ]
  },
  {
   "cell_type": "markdown",
   "metadata": {
    "slideshow": {
     "slide_type": "slide"
    }
   },
   "source": [
    "## `continute` 文\n",
    "`continue` 文は [`break`](#`break` 文)同様に、`for` および `while` ループのコードブロックで利用可能である。\n",
    "`continue`文は実行中のプログラムで最も内側の繰り返し処理を中断し、次のループ繰り返しの処理を開始する。\n",
    "\n",
    "下記のプログラムでは、`colors`リストの `\"black\"` は処理されないが　`\"white\"` は処理される:"
   ]
  },
  {
   "cell_type": "code",
   "execution_count": 13,
   "metadata": {},
   "outputs": [
    {
     "name": "stdout",
     "output_type": "stream",
     "text": [
      "red\n",
      "green\n",
      "blue\n",
      "white\n"
     ]
    }
   ],
   "source": [
    "colors = [\"red\", \"green\", \"blue\", \"black\", \"white\"]\n",
    "for c in colors:\n",
    "    if(c == \"black\"):\n",
    "           continue\n",
    "    print(c)"
   ]
  },
  {
   "cell_type": "markdown",
   "metadata": {
    "slideshow": {
     "slide_type": "skip"
    }
   },
   "source": [
    "## 再び `else`(参考)\n",
    "`for` および `while` 文では`else` ブロックを書くこともできる。\n",
    "このブロックは、ループの最後に一度だけ実行される。\n",
    "なお、`for` および `while` 文の`else` ブロックの内容は`continue` で終了したときは実行される。\n",
    "一方、`break` でループを終了したときは実行されない。\n",
    "\n"
   ]
  },
  {
   "cell_type": "code",
   "execution_count": null,
   "metadata": {
    "slideshow": {
     "slide_type": "skip"
    }
   },
   "outputs": [],
   "source": [
    "colors = [\"red\", \"green\", \"blue\", \"black\", \"white\"]\n",
    "for c in colors:\n",
    "    if(c == \"black\"):\n",
    "           continue\n",
    "    print(c)\n",
    "else:\n",
    "    print(\"\")"
   ]
  },
  {
   "cell_type": "markdown",
   "metadata": {
    "slideshow": {
     "slide_type": "skip"
    }
   },
   "source": [
    "## `pass` 文\n",
    "Python では空のコードブロックは許されていない。\n",
    "一方で、`pass` を利用した空白のコードブロックによって、プログラムがが読みやすくなる場合がある。\n",
    "例えば以下の、`if` $\\sim$ `elif` $\\sim$ `else` プログラムはエラーとなる:"
   ]
  },
  {
   "cell_type": "code",
   "execution_count": null,
   "metadata": {
    "slideshow": {
     "slide_type": "skip"
    }
   },
   "outputs": [],
   "source": [
    "x = -1\n",
    "if x < 0:\n",
    "    print(\"'x' is negative\")\n",
    "elif x == 0:\n",
    "    # blank block\n",
    "elif 0 < x < 5:\n",
    "    print(\"x is poositive but smaller than 5\")\n",
    "else:\n",
    "    print(\"x is postive and larger than or equal to 5\")"
   ]
  },
  {
   "cell_type": "markdown",
   "metadata": {
    "slideshow": {
     "slide_type": "skip"
    }
   },
   "source": [
    "上は、`pass` 文を用いて、以下のように書き換えることで正常に実行される:"
   ]
  },
  {
   "cell_type": "code",
   "execution_count": null,
   "metadata": {
    "slideshow": {
     "slide_type": "fragment"
    }
   },
   "outputs": [],
   "source": [
    "x = -1\n",
    "if x < 0:\n",
    "    print(\"'x' is negative\")\n",
    "elif x == 0:\n",
    "    pass\n",
    "elif 0 < x < 5:\n",
    "    print(\"x is poositive but smaller than 5\")\n",
    "else:\n",
    "    print(\"x is postive and larger than or equal to 5\")"
   ]
  }
 ],
 "metadata": {
  "celltoolbar": "Slideshow",
  "kernelspec": {
   "display_name": "Python 3",
   "language": "python",
   "name": "python3"
  },
  "language_info": {
   "codemirror_mode": {
    "name": "ipython",
    "version": 3
   },
   "file_extension": ".py",
   "mimetype": "text/x-python",
   "name": "python",
   "nbconvert_exporter": "python",
   "pygments_lexer": "ipython3",
   "version": "3.6.4"
  }
 },
 "nbformat": 4,
 "nbformat_minor": 2
}
