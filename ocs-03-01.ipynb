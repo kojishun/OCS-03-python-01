{
 "cells": [
  {
   "cell_type": "markdown",
   "metadata": {
    "slideshow": {
     "slide_type": "skip"
    }
   },
   "source": [
    "# jupyter-notebook の基本\n",
    "\n",
    "この資料は[The Python Tutorial](https://docs.python.org/3.6/tutorial/index.html#the-python-tutorial)\n",
    "    ([日本語版](https://docs.python.jp/3/tutorial/)) および [Python for Data Analysis:Wrangling with Pandas, Numpy and IPython](http://shop.oreilly.com/product/0636920050896.do)を参考に作成した。  \n",
    "このチュートリアルでは他のプログラミング言語を習得している方を想定し、Python の特徴などを説明する。"
   ]
  },
  {
   "cell_type": "markdown",
   "metadata": {
    "slideshow": {
     "slide_type": "slide"
    }
   },
   "source": [
    "## このコースでの Python の位置付け\n",
    "\n",
    "講義は大別して３つのスキルを学ぶ。  \n",
    "このうち最初と最後では Python 言語によるプログラミングが必要となる。\n",
    "\n",
    "- 多様なプラットフォームで動作\n",
    "    - Linux, Windows, MacOS ...\n",
    "- 多様な拡張ライブラリ・モジュール\n",
    "    - データ処理, 機械学習分野に強い  \n",
    "- インタプリタ型言語\n",
    "    - プログラムソースコードを逐次実行する  \n",
    "    Ruby, JavaScript\n",
    "    - コンパイラ型よりも実行速度は遅い:  \n",
    "    C, C++, Java, Object-C\n",
    "       - ハードウェアの高速化であまり問題にならない\n",
    "       - 過負荷はクラウド的手法（スケールアウト）によって吸収\n",
    "   - コンパイル不要でコーディング-実行までの時間が短い:\n",
    "       - 市場変化の速さに対応した最近の開発手法(アジャイル、DevOps)と相性が良い"
   ]
  },
  {
   "cell_type": "markdown",
   "metadata": {
    "slideshow": {
     "slide_type": "slide"
    }
   },
   "source": [
    "## Python (参考書)\n",
    "\n",
    "解説書は多く出版されている。\n",
    "プログラミング初心者向けというのは少なく、多くが他の言語の経験を前提としている。\n",
    "\n",
    "- オーソドックスな教科書：\n",
    "    - Bill Lubanovic, \"Introducing Python : Modern Computing in Simple Packages\", O'Reilly Media(2016)\n",
    "    - Bill Lubanovic著, 斎藤康毅監訳, 長尾高広訳, \"入門 Python 3\", オライリジャパン (2014)\n",
    "        - 日本語訳は少し古い、Jupyter には触れてない\n",
    "\n",
    "- データ解析向け：\n",
    "    - [Wes McKinney, \"Python for Data Analysis: Data Wrangling with Pandas, NumPy, and IPython\", O'Reilly Media(2017)](http://shop.oreilly.com/product/0636920050896.do)\n",
    "        - Jupyter 環境に対応\n",
    "        \n",
    "- オリジナルのチュートリアル：\n",
    "    - 英語: https://docs.python.org/3/tutorial/index.html\n",
    "    - 日本語: https://docs.python.jp/3/tutorial/index.html\n",
    "        - 他の言語の経験（みなさんの場合は Ruby?）[オリジナル](https://docs.python.org/3.6/tutorial/index.html#the-python-tutorial)のチュートリアルを見ればひととおりのプログラムは書ける（はず）。"
   ]
  },
  {
   "cell_type": "markdown",
   "metadata": {
    "slideshow": {
     "slide_type": "slide"
    }
   },
   "source": [
    "## jupyter-notebook と Python 言語の関係\n",
    "\n",
    "jupyter-notebook と Python 言語の関係をよく聞かれるので、整理しておく:\n",
    "\n",
    "- jupyter-notebook : Web ブラウザを利用した対話的なプログラミング環境\n",
    "    データは jupyter-notebook 形式(拡張子は .ipynb)で保存する\n",
    "- Python 言語 : プログラミング言語\n",
    "    Python プログラム(.py)として扱う\n",
    "\n",
    "前者は jupyter-notebook 環境での利用に限られるが、\n",
    "後者はコンピュータに Python インタープリタさえインストールされていれば動作する。\n",
    "\n",
    "OS のコンソールから `foo.py` を実行するには以下のようにおこなう:\n",
    "\n",
    "```console\n",
    "$ python foo.py\n",
    "あるいは\n",
    "$ python3 foo.py\n",
    "```"
   ]
  },
  {
   "cell_type": "markdown",
   "metadata": {
    "slideshow": {
     "slide_type": "slide"
    }
   },
   "source": [
    "#### 練習 \n",
    "\n",
    "jupyter-notebook のコンソールで python プログラムを実行してみる。  \n",
    "残念ながら ECCS の Windows  では動かない、MacOS に切り替えてください。  \n",
    "\n",
    "jupyter-notebook の Home 画面で、`New->Terminal` を選択して、ターミナル、プロンプトあるいはコンソールとも呼ばれる、を起動する。  \n",
    "OS の CLI (Command Line Interface) 画面となるので、例えば以下を実行する:\n",
    "\n",
    "```console\n",
    "$ pwd\n",
    "```\n",
    "\n",
    "GitHub Classroom のレポジトリに移動し、以下を実行する:\n",
    "\n",
    "```console\n",
    "$ python hello_world.py\n",
    "```"
   ]
  },
  {
   "cell_type": "markdown",
   "metadata": {
    "slideshow": {
     "slide_type": "skip"
    }
   },
   "source": [
    "### Python プログラムの文字コード\n",
    "\n",
    "Python の標準プログラム形式では、ヘッダ行が定義されておりプログラムで使用する文字コードや、Unix 環境では Python インタープリタのファイルパスなどを記述する。 Python の標準文字コードは Unicode である。これを明示的に書くには:\n",
    "\n",
    "---\n",
    "```Python\n",
    "# -*- coding: utf-8 -*-\n",
    "```\n",
    "\n",
    "---\n",
    "これに代えて WIndows などで使われてきた Shift-JIS を利用する場合は、先頭行を以下のように記述する:\n",
    "\n",
    "---\n",
    "```Python\n",
    "# -*- coding: shift-jis -*-\n",
    "```"
   ]
  },
  {
   "cell_type": "markdown",
   "metadata": {
    "slideshow": {
     "slide_type": "skip"
    }
   },
   "source": [
    "UNIX ではプログラムスクリプトの先頭行には、そのスクリプトを読み込むインタプリタを指定する（shebang 行）。  \n",
    "このケースでは先頭行は例えば、以下のように 2 行となる:\n",
    "\n",
    "---\n",
    "```Python\n",
    "#!/usr/bin/env python3\n",
    "# -*- coding: utf-8 -*-\n",
    "```"
   ]
  },
  {
   "cell_type": "markdown",
   "metadata": {
    "slideshow": {
     "slide_type": "slide"
    }
   },
   "source": [
    "## jupyter-notebook で Python プログラムをあつかう\n",
    "\n",
    "jupyter-notebook で Python プログラムをあつかうには大きく２種類の方法がある:\n",
    "\n",
    "1. jupyter-notebook で Python プログラムを開く\n",
    "1. jupyter-notebook 形式を Python プログラム(.py)に変換する\n",
    "\n",
    "### 1. jupyter-notebook で Python プログラムを開く\n",
    "jupyter-notebook で直接 Python プログラムファイルを開くには。\n",
    "（jupyter-notebook 起動時に表示される）ファイルマネージャ画面で、`New -> Text file` を選択すると、エディタ画面に遷移する。\n",
    "エディタで .py 拡張子をもつファイル名に変更すれば良い。\n",
    "\n",
    "### 2. jupyter-notebook 形式を Python プログラム(.py)に変換する\n",
    "講義で利用している jupyter-notebook を .py としてセーブするには、`File -> Download as -> Python(.py)`を選択すればよい。\n",
    "コードセルだけがプログラム行として有効になりその他の行は # でコメントアウトされた Python プログラムファイルがダウンロードファイルに生成される。\n",
    "環境によっては、.py ではなく .htmlファイルとして保存されるかもしれないが、ファイル名を変更すれば Python プログラムファイルとして利用できる。\n",
    "juoyter-notebook を Python ファイルとして保存した場合、全てのコードセルの内容を一度に実行するプログラムとして保存されます。jupyter-notebook のようにセル単位の実行とはならないことに注意する必要があります。"
   ]
  },
  {
   "cell_type": "markdown",
   "metadata": {
    "slideshow": {
     "slide_type": "slide"
    }
   },
   "source": [
    "### 講義での利用方法（＊＊重要＊＊）\n",
    "講義では、とくに指定のない限り（動作する） Python プログラム形式 (.py)として提出すること。\n",
    "実際には、セルで動作を確認したプログラムスクリプトをクリップボードにコピー、Python プログラムエディタにペーストする\n",
    "という方法が現実的と思われる。"
   ]
  },
  {
   "cell_type": "markdown",
   "metadata": {
    "slideshow": {
     "slide_type": "subslide"
    }
   },
   "source": [
    "### 練習\n",
    "Github による Python プログラムの課題提出に慣れる目的でおこなう。自信のある受講生はこの課題をスキップしてよい。\n",
    "一連のスライドが終わったあとで、step-by-step でやり方を示す。\n",
    "\n",
    "`print()` 関数で文字列 Hello U-Tokyo を印字する、Python プログラム、`hellow_u_tokyo.py` を作成せよ。\n",
    "提出は指示にしたがって GitHub Classroom でおこなうこと。"
   ]
  },
  {
   "cell_type": "code",
   "execution_count": 1,
   "metadata": {},
   "outputs": [
    {
     "name": "stdout",
     "output_type": "stream",
     "text": [
      "Hello World\n"
     ]
    }
   ],
   "source": [
    "print(\"Hello World\")"
   ]
  },
  {
   "cell_type": "markdown",
   "metadata": {
    "slideshow": {
     "slide_type": "slide"
    }
   },
   "source": [
    "# jupyter-notebook を 電卓代わりに使ってみる\n",
    "ここから先は [Python チュートリアル](https://docs.python.jp/3/tutorial/) ([英語版]  (https://docs.python.jp/3/tutorial/index.html))の *3.1 Python を電卓として使う* を jupyter-notebook 用にアレンジしてある。チュートリアルの内容も試しながら読みすすめること。"
   ]
  },
  {
   "cell_type": "markdown",
   "metadata": {
    "slideshow": {
     "slide_type": "slide"
    }
   },
   "source": [
    "## code セルの実行\n",
    "前に説明したように、code, Markdown の 2 種類のセルを利用する。\n",
    "入力プロンプト `In[]` が表示された、code セルで、「実行」、すなわち　Cell->Run Cell、あるいは Run ボタンをクリック、あるいは Shift-Enter を入力、するとセル内のスクリプト（プログラム行）が実行される。  \n",
    "実行結果が `Out[]` が表示されたセルに出力される。　　\n",
    "\n",
    "以下のセルを実行してみる。"
   ]
  },
  {
   "cell_type": "code",
   "execution_count": 9,
   "metadata": {},
   "outputs": [
    {
     "data": {
      "text/plain": [
       "20"
      ]
     },
     "execution_count": 9,
     "metadata": {},
     "output_type": "execute_result"
    }
   ],
   "source": [
    "10 + 10"
   ]
  },
  {
   "cell_type": "markdown",
   "metadata": {},
   "source": [
    "出力セルには、セルの最終行のオブジェクト、この場合実行結果、が表示される:"
   ]
  },
  {
   "cell_type": "code",
   "execution_count": 7,
   "metadata": {},
   "outputs": [
    {
     "data": {
      "text/plain": [
       "2"
      ]
     },
     "execution_count": 7,
     "metadata": {},
     "output_type": "execute_result"
    }
   ],
   "source": [
    "10+10\n",
    "1+1"
   ]
  },
  {
   "cell_type": "markdown",
   "metadata": {
    "slideshow": {
     "slide_type": "subslide"
    }
   },
   "source": [
    "途中経過の情報が必要であれば、`print()`関数などで標準出力に表示させる:"
   ]
  },
  {
   "cell_type": "code",
   "execution_count": 8,
   "metadata": {},
   "outputs": [
    {
     "name": "stdout",
     "output_type": "stream",
     "text": [
      "20\n"
     ]
    },
    {
     "data": {
      "text/plain": [
       "2"
      ]
     },
     "execution_count": 8,
     "metadata": {},
     "output_type": "execute_result"
    }
   ],
   "source": [
    "print(10 + 10)\n",
    "1+1"
   ]
  },
  {
   "cell_type": "markdown",
   "metadata": {
    "slideshow": {
     "slide_type": "subslide"
    }
   },
   "source": [
    "エラーも出力される:"
   ]
  },
  {
   "cell_type": "code",
   "execution_count": 5,
   "metadata": {},
   "outputs": [
    {
     "ename": "ZeroDivisionError",
     "evalue": "division by zero",
     "output_type": "error",
     "traceback": [
      "\u001b[0;31m---------------------------------------------------------------------------\u001b[0m",
      "\u001b[0;31mZeroDivisionError\u001b[0m                         Traceback (most recent call last)",
      "\u001b[0;32m<ipython-input-5-9e1622b385b6>\u001b[0m in \u001b[0;36m<module>\u001b[0;34m()\u001b[0m\n\u001b[0;32m----> 1\u001b[0;31m \u001b[0;36m1\u001b[0m\u001b[0;34m/\u001b[0m\u001b[0;36m0\u001b[0m\u001b[0;34m\u001b[0m\u001b[0m\n\u001b[0m",
      "\u001b[0;31mZeroDivisionError\u001b[0m: division by zero"
     ]
    }
   ],
   "source": [
    "1/0"
   ]
  },
  {
   "cell_type": "markdown",
   "metadata": {
    "slideshow": {
     "slide_type": "slide"
    }
   },
   "source": [
    "### エラー出力\n",
    "エラーがでても慌てず出力をよく読むこと。"
   ]
  },
  {
   "cell_type": "markdown",
   "metadata": {
    "slideshow": {
     "slide_type": "slide"
    }
   },
   "source": [
    "## 数\n",
    "\n",
    "### 整数型・浮動小数点型\n",
    "整数(`int`)、浮動小数点型(`float`)などが使える。  \n",
    "自動的に変換されるので単純な計算では型を気にせず使うことができる。\n",
    "\n",
    "### べき乗、剰余\n",
    "四則演算 `+-*/`に加えて、べき(冪)に、`**`、除算（小数点以下切り捨て）に`//`剰余に `%` が使えます。"
   ]
  },
  {
   "cell_type": "code",
   "execution_count": null,
   "metadata": {},
   "outputs": [],
   "source": [
    "2**3"
   ]
  },
  {
   "cell_type": "code",
   "execution_count": 3,
   "metadata": {},
   "outputs": [
    {
     "data": {
      "text/plain": [
       "23"
      ]
     },
     "execution_count": 3,
     "metadata": {},
     "output_type": "execute_result"
    }
   ],
   "source": [
    "123 % 50"
   ]
  },
  {
   "cell_type": "code",
   "execution_count": 16,
   "metadata": {},
   "outputs": [
    {
     "data": {
      "text/plain": [
       "2.5"
      ]
     },
     "execution_count": 16,
     "metadata": {},
     "output_type": "execute_result"
    }
   ],
   "source": [
    "(50 - 5 * 6) / 8  # division always returns a floating point number"
   ]
  },
  {
   "cell_type": "code",
   "execution_count": 4,
   "metadata": {},
   "outputs": [
    {
     "data": {
      "text/plain": [
       "14.0"
      ]
     },
     "execution_count": 4,
     "metadata": {},
     "output_type": "execute_result"
    }
   ],
   "source": [
    "4 * 3.75 - 1"
   ]
  },
  {
   "cell_type": "markdown",
   "metadata": {
    "slideshow": {
     "slide_type": "slide"
    }
   },
   "source": [
    "### 複素数型（課題で使います）\n",
    "さらに標準で複素数型(`complex`)もサポートしている。虚数部は`j` または `J` 接尾辞で示す:"
   ]
  },
  {
   "cell_type": "code",
   "execution_count": 1,
   "metadata": {},
   "outputs": [
    {
     "data": {
      "text/plain": [
       "(10+0j)"
      ]
     },
     "execution_count": 1,
     "metadata": {},
     "output_type": "execute_result"
    }
   ],
   "source": [
    "(3 + 1j) * (3 - 1j) # 3**2 - (j**2)"
   ]
  },
  {
   "cell_type": "markdown",
   "metadata": {},
   "source": [
    "以下はエラーになるので注意する:"
   ]
  },
  {
   "cell_type": "code",
   "execution_count": 2,
   "metadata": {},
   "outputs": [
    {
     "ename": "NameError",
     "evalue": "name 'j' is not defined",
     "output_type": "error",
     "traceback": [
      "\u001b[0;31m---------------------------------------------------------------------------\u001b[0m",
      "\u001b[0;31mNameError\u001b[0m                                 Traceback (most recent call last)",
      "\u001b[0;32m<ipython-input-2-5de6974dc9da>\u001b[0m in \u001b[0;36m<module>\u001b[0;34m()\u001b[0m\n\u001b[0;32m----> 1\u001b[0;31m \u001b[0;34m(\u001b[0m\u001b[0;36m3\u001b[0m \u001b[0;34m+\u001b[0m \u001b[0mj\u001b[0m\u001b[0;34m)\u001b[0m \u001b[0;34m*\u001b[0m \u001b[0;34m(\u001b[0m \u001b[0;36m3\u001b[0m \u001b[0;34m-\u001b[0m \u001b[0mj\u001b[0m\u001b[0;34m)\u001b[0m\u001b[0;34m\u001b[0m\u001b[0m\n\u001b[0m",
      "\u001b[0;31mNameError\u001b[0m: name 'j' is not defined"
     ]
    }
   ],
   "source": [
    "(3 + j) * ( 3 - j)"
   ]
  },
  {
   "cell_type": "markdown",
   "metadata": {
    "slideshow": {
     "slide_type": "skip"
    }
   },
   "source": [
    "## 変数\n",
    "等号(=)は変数に代入、厳密には名前とオブジェクトを束縛(binding)、するときに使う: "
   ]
  },
  {
   "cell_type": "code",
   "execution_count": 13,
   "metadata": {
    "slideshow": {
     "slide_type": "skip"
    }
   },
   "outputs": [
    {
     "data": {
      "text/plain": [
       "100"
      ]
     },
     "execution_count": 13,
     "metadata": {},
     "output_type": "execute_result"
    }
   ],
   "source": [
    "width = 20\n",
    "height = 5\n",
    "width * height"
   ]
  },
  {
   "cell_type": "markdown",
   "metadata": {
    "slideshow": {
     "slide_type": "skip"
    }
   },
   "source": [
    "未定義の変数はエラーになります:"
   ]
  },
  {
   "cell_type": "code",
   "execution_count": 1,
   "metadata": {
    "slideshow": {
     "slide_type": "skip"
    }
   },
   "outputs": [
    {
     "ename": "NameError",
     "evalue": "name 'a' is not defined",
     "output_type": "error",
     "traceback": [
      "\u001b[0;31m---------------------------------------------------------------------------\u001b[0m",
      "\u001b[0;31mNameError\u001b[0m                                 Traceback (most recent call last)",
      "\u001b[0;32m<ipython-input-1-3f786850e387>\u001b[0m in \u001b[0;36m<module>\u001b[0;34m()\u001b[0m\n\u001b[0;32m----> 1\u001b[0;31m \u001b[0ma\u001b[0m\u001b[0;34m\u001b[0m\u001b[0m\n\u001b[0m",
      "\u001b[0;31mNameError\u001b[0m: name 'a' is not defined"
     ]
    }
   ],
   "source": [
    "del a   # 万一変数が定義されていたときのおまじない。\n",
    "a"
   ]
  },
  {
   "cell_type": "markdown",
   "metadata": {
    "slideshow": {
     "slide_type": "skip"
    }
   },
   "source": [
    "###### 変数(続き)\n",
    "###   `_`(参考)\n",
    "対話モードで最後に表示された結果は変数 `_` に代入される。 電卓として使う際に有用である:"
   ]
  },
  {
   "cell_type": "code",
   "execution_count": null,
   "metadata": {
    "slideshow": {
     "slide_type": "skip"
    }
   },
   "outputs": [],
   "source": [
    "100+100"
   ]
  },
  {
   "cell_type": "code",
   "execution_count": null,
   "metadata": {
    "slideshow": {
     "slide_type": "skip"
    }
   },
   "outputs": [],
   "source": [
    "_ * 1.08    # The price including tax"
   ]
  },
  {
   "cell_type": "markdown",
   "metadata": {
    "slideshow": {
     "slide_type": "skip"
    }
   },
   "source": [
    "##### 変数(続き)\n",
    "### 補足\n",
    "同じ変数に何度でも代入できる。  \n",
    "変数の名前には、アルファベット(a-zA-Z)、数字のならび(0-9)、アンダースコア(_)、が使える。\n",
    "- ただし最初の文字に数字は使えない\n",
    "- 変数で最初の文字の _ は特別な意味に使われることがある。  \n",
    "   一般の変数では使わない方が無難。"
   ]
  },
  {
   "cell_type": "markdown",
   "metadata": {
    "slideshow": {
     "slide_type": "slide"
    }
   },
   "source": [
    "## 関数の実行\n",
    "\n",
    "以下のように簡単に関数を呼び出せる。この場合 `print()` が関数。"
   ]
  },
  {
   "cell_type": "code",
   "execution_count": 9,
   "metadata": {},
   "outputs": [
    {
     "name": "stdout",
     "output_type": "stream",
     "text": [
      "10\n"
     ]
    }
   ],
   "source": [
    "x = 10\n",
    "print(x)"
   ]
  },
  {
   "cell_type": "markdown",
   "metadata": {
    "slideshow": {
     "slide_type": "slide"
    }
   },
   "source": [
    "## セルで実行中の Python プログラムの停止\n",
    "セル内のプログラム実行中は、プロンプト`In[*]`が表示される。  \n",
    "当該セルは command モードとなる。  \n",
    "実行中のプログラムは、カーネル割り込み \"Kernel\" -> \"Interrupt\" あるいは四角いアイコンによって停止させることができる。必ずしも停止するとは限らないが...."
   ]
  },
  {
   "cell_type": "code",
   "execution_count": null,
   "metadata": {},
   "outputs": [],
   "source": [
    "# Run program with Shift-Enter\n",
    "# Then try to stop program by using kernel-interrupt\n",
    "\n",
    "# This program is not an infinite loop\n",
    "i = 1000000000\n",
    "while(i > 0):\n",
    "    i = i - 1"
   ]
  },
  {
   "cell_type": "markdown",
   "metadata": {
    "slideshow": {
     "slide_type": "slide"
    }
   },
   "source": [
    "## タブキーによる自動補完\n",
    "セルの入力にあたってはタブキーによる自動補完が利用できる。jupyter-notebook の自動補完ではオブジェクト、関数、ディレクトリなどあらゆる変数の名前空間が検索対象となる。"
   ]
  },
  {
   "cell_type": "code",
   "execution_count": null,
   "metadata": {},
   "outputs": [],
   "source": [
    "# Variables completion example\n",
    "apple = 27\n",
    "ant = 42"
   ]
  },
  {
   "cell_type": "code",
   "execution_count": null,
   "metadata": {},
   "outputs": [],
   "source": [
    "# Type a<Tab>\n",
    "a"
   ]
  },
  {
   "cell_type": "code",
   "execution_count": null,
   "metadata": {},
   "outputs": [],
   "source": [
    "# Methods completion example\n",
    "b = [1,2,3]"
   ]
  },
  {
   "cell_type": "code",
   "execution_count": null,
   "metadata": {},
   "outputs": [],
   "source": [
    "# Type \"b<Tab>\"\n",
    "b"
   ]
  },
  {
   "cell_type": "code",
   "execution_count": null,
   "metadata": {},
   "outputs": [],
   "source": [
    "# Completion example on modules\n",
    "import datetime"
   ]
  },
  {
   "cell_type": "code",
   "execution_count": null,
   "metadata": {},
   "outputs": [],
   "source": [
    "# Type \"datetime.<Tab>\"\n",
    "datetime."
   ]
  },
  {
   "cell_type": "markdown",
   "metadata": {
    "slideshow": {
     "slide_type": "slide"
    }
   },
   "source": [
    "## イントロスペクション\n",
    "クエスチョンマーク(?)を前後に入力、セルを実行することで変数、関数、オブジェクト、の情報を得ることができる:"
   ]
  },
  {
   "cell_type": "code",
   "execution_count": 3,
   "metadata": {},
   "outputs": [],
   "source": [
    "# Introspect variables\n",
    "b = [1,2,3]"
   ]
  },
  {
   "cell_type": "code",
   "execution_count": 4,
   "metadata": {},
   "outputs": [],
   "source": [
    "# Type \"b?\" then shift-enter\n",
    "b?"
   ]
  },
  {
   "cell_type": "markdown",
   "metadata": {
    "slideshow": {
     "slide_type": "subslide"
    }
   },
   "source": [
    "関数の場合:"
   ]
  },
  {
   "cell_type": "code",
   "execution_count": null,
   "metadata": {},
   "outputs": [],
   "source": [
    "# Introspect functions\n",
    "# Shift-Enter (Run Cells)\n",
    "print?"
   ]
  },
  {
   "cell_type": "markdown",
   "metadata": {
    "slideshow": {
     "slide_type": "subslide"
    }
   },
   "source": [
    "関数の情報(Docstringが定義されていれば)`?`あるいはソースコード`??`:"
   ]
  },
  {
   "cell_type": "code",
   "execution_count": null,
   "metadata": {},
   "outputs": [],
   "source": [
    "# Introspect own defined functions and show its source code.\n",
    "def do_nothing(a,b):\n",
    "    \"\"\"\n",
    "    Docstring part of\n",
    "    do nothing function\n",
    "    \"\"\"\n",
    "    pass"
   ]
  },
  {
   "cell_type": "code",
   "execution_count": null,
   "metadata": {},
   "outputs": [],
   "source": [
    "# Shiift-Enter\n",
    "do_nothing?"
   ]
  },
  {
   "cell_type": "code",
   "execution_count": null,
   "metadata": {},
   "outputs": [],
   "source": [
    "# Shiift-Enter\n",
    "do_nothing??"
   ]
  },
  {
   "cell_type": "markdown",
   "metadata": {
    "slideshow": {
     "slide_type": "subslide"
    }
   },
   "source": [
    "よく覚えていないときはワイルドカード(\\*)も利用できる。"
   ]
  },
  {
   "cell_type": "code",
   "execution_count": null,
   "metadata": {},
   "outputs": [],
   "source": [
    "# Wildcard with introspect\n",
    "# Shiift-Enter\n",
    "p*t*?"
   ]
  },
  {
   "cell_type": "markdown",
   "metadata": {
    "slideshow": {
     "slide_type": "slide"
    }
   },
   "source": [
    "# jupyter-notebook の magic コマンド\n",
    "\n",
    "code セルでは、Python スクリプト以外に、`%` で開始される magic コマンドもサポートされている。  \n",
    "magic コマンドによって、プログラムに読み込み、OS コマンドの実行などが jupyter-notebook からおこなえる。"
   ]
  },
  {
   "cell_type": "markdown",
   "metadata": {
    "slideshow": {
     "slide_type": "skip"
    }
   },
   "source": [
    "## Python プログラムの実行、読み込み\n",
    "\n",
    "`%run プログラム.py` を実行すれば、外部の Python プログラムが実行される。  \n",
    "また、`%load プログラム.py`を実行すれば、外部プログラムを読み込む。"
   ]
  },
  {
   "cell_type": "markdown",
   "metadata": {
    "slideshow": {
     "slide_type": "skip"
    }
   },
   "source": [
    "## カレントディレクトリの表示、移動\n",
    "\n",
    "`%pwd` で現在の作業ディレクトリ(カレントディレクトリ)を表示する。  \n",
    "`%cd ディレクトリ名` で指定されたディレクトリにカレントディレクトリを移動する。"
   ]
  },
  {
   "cell_type": "code",
   "execution_count": null,
   "metadata": {
    "slideshow": {
     "slide_type": "skip"
    }
   },
   "outputs": [],
   "source": [
    "# Print current directory\n",
    "# Shift-run\n",
    "%pwd"
   ]
  },
  {
   "cell_type": "markdown",
   "metadata": {
    "slideshow": {
     "slide_type": "skip"
    }
   },
   "source": [
    "## 外部コマンドの実行\n",
    "\n",
    "`!プログラム名`でセルから外部プログラムを実行することができる。\n",
    "もちろん実行パスに入っている必要がある:"
   ]
  },
  {
   "cell_type": "code",
   "execution_count": null,
   "metadata": {
    "slideshow": {
     "slide_type": "skip"
    }
   },
   "outputs": [],
   "source": [
    "# For Linux, MacOS and Unix\n",
    "# Call external programs\n",
    "# Shift-Enter\n",
    "!pwd\n",
    "!ls"
   ]
  },
  {
   "cell_type": "code",
   "execution_count": null,
   "metadata": {
    "slideshow": {
     "slide_type": "skip"
    }
   },
   "outputs": [],
   "source": [
    "# For Windows\n",
    "# Call external programs\n",
    "# Shift-Enter\n",
    "!cwd\n",
    "!dir"
   ]
  },
  {
   "cell_type": "markdown",
   "metadata": {
    "slideshow": {
     "slide_type": "slide"
    }
   },
   "source": [
    "## matplotlib との統合（課題で使います）\n",
    "matplotlib はデータ可視化に広く利用されている Python モジュールである。  \n",
    "jupyter-notebook では matplotlib の出力をセルに表示できる。  \n",
    "この機能を利用するには、`%matplotlib inline` を実行する:"
   ]
  },
  {
   "cell_type": "code",
   "execution_count": 9,
   "metadata": {},
   "outputs": [
    {
     "data": {
      "image/png": "[encoded data removed]",
      "text/plain": [
       "<matplotlib.figure.Figure at 0x1132d1748>"
      ]
     },
     "metadata": {},
     "output_type": "display_data"
    }
   ],
   "source": [
    "%matplotlib inline\n",
    "import matplotlib.pyplot as plt\n",
    "fig, ax = plt.subplots()\n",
    "x = [0, 1, 2, 3,  4,  5,  6,  7,  8,  9]\n",
    "y = [0, 1, 4, 9, 16, 25, 36, 49, 64, 81]  # プログラムについて教えていないことになっているので要素を書き出します。\n",
    "ax.plot(x, x)                             # y = x の直線\n",
    "ax.plot(x, y)                             # Default で重ね書きします。\n",
    "plt.show()"
   ]
  },
  {
   "cell_type": "markdown",
   "metadata": {
    "slideshow": {
     "slide_type": "subslide"
    }
   },
   "source": [
    "matplotlib の出力を画像ファイルとして保存するには `matplotlib.pyplot.savefig()`を利用すれば良い。  \n",
    "`savefig()`は `matplotlib.pyplot.show()`の前に呼ぶこと:"
   ]
  },
  {
   "cell_type": "code",
   "execution_count": 10,
   "metadata": {},
   "outputs": [
    {
     "data": {
      "image/png": "[encoded data removed]",
      "text/plain": [
       "<matplotlib.figure.Figure at 0x11332fb00>"
      ]
     },
     "metadata": {},
     "output_type": "display_data"
    }
   ],
   "source": [
    "%matplotlib inline\n",
    "import matplotlib.pyplot as plt\n",
    "fig, ax = plt.subplots()\n",
    "x = [0, 1, 2, 3,  4,  5,  6,  7,  8,  9]\n",
    "y = [0, 1, 4, 9, 16, 25, 36, 49, 64, 81]  # プログラムについて教えていないことになっているので要素を書き出します。\n",
    "# 前のセルの描画はすでに壊れているのでもう一度呼ぶ\n",
    "ax.plot(x, x)                                   # y = x の直線\n",
    "ax.plot(x, y)                                   # Default で重ね書きします。\n",
    "ax.set_aspect(0.1)                              # 縦横比を指定したいとき\n",
    "plt.savefig(\"sample.png\", bbox_inches=\"tight\")  # グラフのハミ出しを抑制するオプションをいれてある\n",
    "plt.show()"
   ]
  },
  {
   "cell_type": "markdown",
   "metadata": {
    "slideshow": {
     "slide_type": "subslide"
    }
   },
   "source": [
    "## 練習\n",
    "実行後、保存したファイルを表示してみること。"
   ]
  }
 ],
 "metadata": {
  "celltoolbar": "Slideshow",
  "kernelspec": {
   "display_name": "Python 3",
   "language": "python",
   "name": "python3"
  },
  "language_info": {
   "codemirror_mode": {
    "name": "ipython",
    "version": 3
   },
   "file_extension": ".py",
   "mimetype": "text/x-python",
   "name": "python",
   "nbconvert_exporter": "python",
   "pygments_lexer": "ipython3",
   "version": "3.6.3"
  }
 },
 "nbformat": 4,
 "nbformat_minor": 2
}
