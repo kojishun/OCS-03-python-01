{
 "cells": [
  {
   "cell_type": "markdown",
   "metadata": {
    "slideshow": {
     "slide_type": "skip"
    }
   },
   "source": [
    "# jupyter-notebook の基本\n",
    "\n",
    "この資料は[The Python Tutorial](https://docs.python.org/3.6/tutorial/index.html#the-python-tutorial)\n",
    "    ([日本語版](https://docs.python.jp/3/tutorial/)) および [Python for Data Analysis:Wrangling with Pandas, Numpy and IPython](http://shop.oreilly.com/product/0636920050896.do)を参考に作成した。  \n",
    "このチュートリアルでは他のプログラミング言語を習得している方を想定し、Python の特徴などを説明する。"
   ]
  },
  {
   "cell_type": "markdown",
   "metadata": {
    "slideshow": {
     "slide_type": "slide"
    }
   },
   "source": [
    "## このコースでの Python の位置付け\n",
    "\n",
    "講義は大別して３つのスキルを学ぶ。  \n",
    "このうち最初と最後では Python 言語によるプログラミングが必要となる。\n",
    "\n",
    "- 多様なプラットフォームで動作\n",
    "    - Linux, Windows, MacOS ...\n",
    "- 多様な拡張ライブラリ・モジュール\n",
    "    - データ処理, 機械学習分野に強い  \n",
    "- インタプリタ型言語\n",
    "    - プログラムソースコードを逐次実行する  \n",
    "    Ruby, JavaScript\n",
    "    - コンパイラ型よりも実行速度は遅い:  \n",
    "    C, C++, Java, Object-C\n",
    "       - ハードウェアの高速化であまり問題にならない\n",
    "       - 過負荷はクラウド的手法（スケールアウト）によって吸収\n",
    "   - コンパイル不要でコーディング-実行までの時間が短い:\n",
    "       - 市場変化の速さに対応した最近の開発手法(アジャイル、DevOps)と相性が良い"
   ]
  },
  {
   "attachments": {},
   "cell_type": "markdown",
   "metadata": {
    "slideshow": {
     "slide_type": "slide"
    }
   },
   "source": [
    "## Python (参考書)\n",
    "\n",
    "解説書は多く出版されている。\n",
    "プログラミング初心者向けというのは少なく、多くが他の言語の経験を前提としている。\n",
    "\n",
    "- オーソドックスな教科書：\n",
    "    - Bill Lubanovic, \"Introducing Python : Modern Computing in Simple Packages\", O'Reilly Media(2016)\n",
    "    - Bill Lubanovic著, 斎藤康毅監訳, 長尾高広訳, \"入門 Python 3\", オライリジャパン (2014)\n",
    "        - 日本語訳は少し古い、Jupyter には触れてない\n",
    "\n",
    "- データ解析向け：\n",
    "    - [Wes McKinney, \"Python for Data Analysis: Data Wrangling with Pandas, NumPy, and IPython\", O'Reilly Media(2017)](http://shop.oreilly.com/product/0636920050896.do)\n",
    "        - Jupyter 環境に対応\n",
    "\n",
    "- 東京大学 Python プログラミング入門：\n",
    "    - プリグラム経験のない学生向けの講義で作成した[教科書（学内限定）](https://drive.google.com/open?id=1yEljd2mxLqVLSJylmjTXPUer8cLXL9AU)がある。\n",
    "    \n",
    "- オリジナルのチュートリアル：\n",
    "    - 英語: https://docs.python.org/3/tutorial/index.html\n",
    "    - 日本語: https://docs.python.jp/3/tutorial/index.html\n",
    "        - 他の言語の経験（みなさんの場合は Ruby?）[オリジナル](https://docs.python.org/3.6/tutorial/index.html#the-python-tutorial)のチュートリアルを見ればひととおりのプログラムは書ける（はず）。"
   ]
  },
  {
   "cell_type": "markdown",
   "metadata": {
    "slideshow": {
     "slide_type": "slide"
    }
   },
   "source": [
    "## jupyter-notebook と Python 言語の関係\n",
    "\n",
    "jupyter-notebook と Python 言語の関係をよく聞かれるので、整理しておく:\n",
    "\n",
    "- jupyter-notebook : Web ブラウザを利用した対話的なプログラミング環境\n",
    "    データは jupyter-notebook 形式(拡張子は .ipynb)で保存する\n",
    "- Python 言語 : プログラミング言語\n",
    "    Python プログラム(.py)として扱う\n",
    "\n",
    "前者は jupyter-notebook 環境での利用に限られるが、\n",
    "後者はコンピュータに Python インタープリタさえインストールされていれば動作する。\n",
    "\n",
    "OS のコンソールから `foo.py` を実行するには以下のようにおこなう:\n",
    "\n",
    "```console\n",
    "$ python foo.py\n",
    "あるいは\n",
    "$ python3 foo.py\n",
    "```"
   ]
  },
  {
   "cell_type": "markdown",
   "metadata": {
    "slideshow": {
     "slide_type": "slide"
    }
   },
   "source": [
    "#### 練習 \n",
    "\n",
    "jupyter-notebook のコンソールで python プログラムを実行してみる。  \n",
    "残念ながら ECCS の Windows  では動かない、**MacOS** に切り替えてください。  \n",
    "\n",
    "jupyter-notebook の Home 画面で、`New->Terminal` を選択して、ターミナル、プロンプトあるいはコンソールとも呼ばれる、を起動する。  \n",
    "OS の CLI (Command Line Interface) 画面となるので、例えば以下を実行する:\n",
    "\n",
    "```console\n",
    "$ pwd\n",
    "```\n",
    "\n",
    "GitHub Classroom のレポジトリに移動し、以下を実行する:\n",
    "\n",
    "```console\n",
    "$ python hello_world.py\n",
    "```"
   ]
  },
  {
   "cell_type": "markdown",
   "metadata": {
    "slideshow": {
     "slide_type": "skip"
    }
   },
   "source": [
    "### Python プログラムの文字コード(参考)\n",
    "\n",
    "Python の標準プログラム形式では、ヘッダ行が定義されておりプログラムで使用する文字コードや、Unix 環境では Python インタープリタのファイルパスなどを記述する。 Python の標準文字コードは Unicode である。これを明示的に書くには:\n",
    "\n",
    "---\n",
    "```Python\n",
    "# -*- coding: utf-8 -*-\n",
    "```\n",
    "\n",
    "---\n",
    "これに代えて WIndows などで使われてきた Shift-JIS を利用する場合は、先頭行を以下のように記述する:\n",
    "\n",
    "---\n",
    "```Python\n",
    "# -*- coding: shift-jis -*-\n",
    "```"
   ]
  },
  {
   "cell_type": "markdown",
   "metadata": {
    "slideshow": {
     "slide_type": "skip"
    }
   },
   "source": [
    "UNIX ではプログラムスクリプトの先頭行には、そのスクリプトを読み込むインタプリタを指定する（shebang 行）。  \n",
    "このケースでは先頭行は例えば、以下のように 2 行となる:\n",
    "\n",
    "---\n",
    "```Python\n",
    "#!/usr/bin/env python3\n",
    "# -*- coding: utf-8 -*-\n",
    "```"
   ]
  },
  {
   "cell_type": "markdown",
   "metadata": {
    "slideshow": {
     "slide_type": "slide"
    }
   },
   "source": [
    "## jupyter-notebook で Python プログラムをあつかう\n",
    "\n",
    "jupyter-notebook で Python プログラムをあつかうには大きく２種類の方法がある:\n",
    "\n",
    "1. jupyter-notebook で Python プログラムを開く\n",
    "1. jupyter-notebook 形式を Python プログラム(.py)に変換する\n",
    "\n",
    "### 1. jupyter-notebook で Python プログラムを開く\n",
    "jupyter-notebook で直接 Python プログラムファイルを開くには。\n",
    "（jupyter-notebook 起動時に表示される）ファイルマネージャ画面で、`New -> Text file` を選択すると、エディタ画面に遷移する。\n",
    "エディタで .py 拡張子をもつファイル名に変更すれば良い。\n",
    "\n",
    "### 2. jupyter-notebook 形式を Python プログラム(.py)に変換する\n",
    "講義で利用している jupyter-notebook を .py としてセーブするには、`File -> Download as -> Python(.py)`を選択すればよい。\n",
    "コードセルだけがプログラム行として有効になりその他の行は # でコメントアウトされた Python プログラムファイルがダウンロードファイルに生成される。\n",
    "環境によっては、.py ではなく .htmlファイルとして保存されるかもしれないが、ファイル名を変更すれば Python プログラムファイルとして利用できる。\n",
    "jupyter-notebook を Python ファイルとして保存した場合、全てのコードセルの内容を一度に実行するプログラムとして保存されます。jupyter-notebook のようにセル単位の実行とはならないことに注意する必要があります。"
   ]
  },
  {
   "cell_type": "markdown",
   "metadata": {
    "slideshow": {
     "slide_type": "slide"
    }
   },
   "source": [
    "### 講義での利用方法（＊＊重要＊＊）\n",
    "講義では、とくに指定のない限り（動作する） Python プログラム形式 (.py)として提出すること。\n",
    "実際には、セルで動作を確認したプログラムスクリプトをクリップボードにコピー、Python プログラムエディタにペーストする\n",
    "という方法が現実的と思われる。  \n",
    "もちろん自身が普段使い慣れているエディタを利用してもかまわない。"
   ]
  },
  {
   "cell_type": "markdown",
   "metadata": {
    "slideshow": {
     "slide_type": "subslide"
    }
   },
   "source": [
    "### 練習\n",
    "Github による Python プログラムの課題提出に慣れる目的でおこなう。自信のある受講生はこの課題をスキップしてよい。\n",
    "一連のスライドが終わったあとで、step-by-step でやり方を示す。\n",
    "\n",
    "`print()` 関数で文字列 Hello U-Tokyo を印字する、Python プログラム、`hellow_u_tokyo.py` を作成せよ。\n",
    "提出は指示にしたがって GitHub Classroom でおこなうこと。"
   ]
  },
  {
   "cell_type": "code",
   "execution_count": 5,
   "metadata": {},
   "outputs": [
    {
     "name": "stdout",
     "output_type": "stream",
     "text": [
      "Hello World\n"
     ]
    }
   ],
   "source": [
    "print(\"Hello World\")"
   ]
  },
  {
   "cell_type": "markdown",
   "metadata": {
    "slideshow": {
     "slide_type": "slide"
    }
   },
   "source": [
    "# jupyter-notebook を 電卓代わりに使ってみる\n",
    "ここから先は [Python チュートリアル](https://docs.python.jp/3/tutorial/) ([英語版]  (https://docs.python.jp/3/tutorial/index.html))の *3.1 Python を電卓として使う* を jupyter-notebook 用にアレンジしてある。チュートリアルの内容も試しながら読みすすめること。"
   ]
  },
  {
   "cell_type": "markdown",
   "metadata": {
    "slideshow": {
     "slide_type": "slide"
    }
   },
   "source": [
    "## code セルの実行\n",
    "前に説明したように、code, Markdown の 2 種類のセルを利用する。\n",
    "入力プロンプト `In[]` が表示された、code セルで、「実行」、すなわち　Cell->Run Cell、あるいは Run ボタンをクリック、あるいは Shift-Enter を入力、するとセル内のスクリプト（プログラム行）が実行される。  \n",
    "実行結果が `Out[]` が表示されたセルに出力される。　　\n",
    "\n",
    "以下のセルを実行してみる。"
   ]
  },
  {
   "cell_type": "code",
   "execution_count": 7,
   "metadata": {},
   "outputs": [
    {
     "data": {
      "text/plain": [
       "30"
      ]
     },
     "execution_count": 7,
     "metadata": {},
     "output_type": "execute_result"
    }
   ],
   "source": [
    "10 + 20"
   ]
  },
  {
   "cell_type": "markdown",
   "metadata": {},
   "source": [
    "出力セルには、セルの最終行のオブジェクト、この場合実行結果、が表示される:"
   ]
  },
  {
   "cell_type": "code",
   "execution_count": 8,
   "metadata": {},
   "outputs": [
    {
     "data": {
      "text/plain": [
       "2"
      ]
     },
     "execution_count": 8,
     "metadata": {},
     "output_type": "execute_result"
    }
   ],
   "source": [
    "10+10\n",
    "1+1"
   ]
  },
  {
   "cell_type": "markdown",
   "metadata": {
    "slideshow": {
     "slide_type": "subslide"
    }
   },
   "source": [
    "途中経過の情報が必要であれば、`print()`関数などで標準出力に表示させる:"
   ]
  },
  {
   "cell_type": "code",
   "execution_count": 8,
   "metadata": {},
   "outputs": [
    {
     "name": "stdout",
     "output_type": "stream",
     "text": [
      "20\n"
     ]
    },
    {
     "data": {
      "text/plain": [
       "2"
      ]
     },
     "execution_count": 8,
     "metadata": {},
     "output_type": "execute_result"
    }
   ],
   "source": [
    "print(10 + 10)\n",
    "1+1"
   ]
  },
  {
   "cell_type": "markdown",
   "metadata": {
    "slideshow": {
     "slide_type": "subslide"
    }
   },
   "source": [
    "エラーも出力される:"
   ]
  },
  {
   "cell_type": "code",
   "execution_count": 5,
   "metadata": {},
   "outputs": [
    {
     "ename": "ZeroDivisionError",
     "evalue": "division by zero",
     "output_type": "error",
     "traceback": [
      "\u001b[0;31m---------------------------------------------------------------------------\u001b[0m",
      "\u001b[0;31mZeroDivisionError\u001b[0m                         Traceback (most recent call last)",
      "\u001b[0;32m<ipython-input-5-9e1622b385b6>\u001b[0m in \u001b[0;36m<module>\u001b[0;34m()\u001b[0m\n\u001b[0;32m----> 1\u001b[0;31m \u001b[0;36m1\u001b[0m\u001b[0;34m/\u001b[0m\u001b[0;36m0\u001b[0m\u001b[0;34m\u001b[0m\u001b[0m\n\u001b[0m",
      "\u001b[0;31mZeroDivisionError\u001b[0m: division by zero"
     ]
    }
   ],
   "source": [
    "1/0"
   ]
  },
  {
   "cell_type": "markdown",
   "metadata": {
    "slideshow": {
     "slide_type": "slide"
    }
   },
   "source": [
    "### エラー出力\n",
    "エラーがでても慌てず出力を読み、理解に努めること。\n",
    "適切に対処しなければ先にはすすめない。"
   ]
  },
  {
   "cell_type": "markdown",
   "metadata": {
    "slideshow": {
     "slide_type": "slide"
    }
   },
   "source": [
    "## 数\n",
    "\n",
    "### 整数型・浮動小数点型\n",
    "整数(`int`)、浮動小数点型(`float`)などが使える。  \n",
    "自動的に変換されるので単純な計算では型を気にせず使うことができる。\n",
    "\n",
    "### べき乗、剰余\n",
    "四則演算 `+-*/`に加えて、べき(冪)に、`**`、除算（小数点以下切り捨て）に`//`剰余に `%` が使えます。"
   ]
  },
  {
   "cell_type": "code",
   "execution_count": null,
   "metadata": {},
   "outputs": [],
   "source": [
    "2**3"
   ]
  },
  {
   "cell_type": "code",
   "execution_count": 3,
   "metadata": {},
   "outputs": [
    {
     "data": {
      "text/plain": [
       "23"
      ]
     },
     "execution_count": 3,
     "metadata": {},
     "output_type": "execute_result"
    }
   ],
   "source": [
    "123 % 50"
   ]
  },
  {
   "cell_type": "code",
   "execution_count": 16,
   "metadata": {},
   "outputs": [
    {
     "data": {
      "text/plain": [
       "2.5"
      ]
     },
     "execution_count": 16,
     "metadata": {},
     "output_type": "execute_result"
    }
   ],
   "source": [
    "(50 - 5 * 6) / 8  # division always returns a floating point number"
   ]
  },
  {
   "cell_type": "code",
   "execution_count": 4,
   "metadata": {},
   "outputs": [
    {
     "data": {
      "text/plain": [
       "14.0"
      ]
     },
     "execution_count": 4,
     "metadata": {},
     "output_type": "execute_result"
    }
   ],
   "source": [
    "4 * 3.75 - 1"
   ]
  },
  {
   "cell_type": "markdown",
   "metadata": {
    "slideshow": {
     "slide_type": "slide"
    }
   },
   "source": [
    "### 複素数型（課題で使います）\n",
    "さらに標準で複素数型(`complex`)もサポートしている。虚数部は`j` または `J` 接尾辞で示す:"
   ]
  },
  {
   "cell_type": "code",
   "execution_count": 1,
   "metadata": {},
   "outputs": [
    {
     "data": {
      "text/plain": [
       "(10+0j)"
      ]
     },
     "execution_count": 1,
     "metadata": {},
     "output_type": "execute_result"
    }
   ],
   "source": [
    "(3 + 1j) * (3 - 1j) # 3**2 - (j**2)"
   ]
  },
  {
   "cell_type": "markdown",
   "metadata": {},
   "source": [
    "以下はエラーになるので注意する:"
   ]
  },
  {
   "cell_type": "code",
   "execution_count": 2,
   "metadata": {},
   "outputs": [
    {
     "ename": "NameError",
     "evalue": "name 'j' is not defined",
     "output_type": "error",
     "traceback": [
      "\u001b[0;31m---------------------------------------------------------------------------\u001b[0m",
      "\u001b[0;31mNameError\u001b[0m                                 Traceback (most recent call last)",
      "\u001b[0;32m<ipython-input-2-5de6974dc9da>\u001b[0m in \u001b[0;36m<module>\u001b[0;34m()\u001b[0m\n\u001b[0;32m----> 1\u001b[0;31m \u001b[0;34m(\u001b[0m\u001b[0;36m3\u001b[0m \u001b[0;34m+\u001b[0m \u001b[0mj\u001b[0m\u001b[0;34m)\u001b[0m \u001b[0;34m*\u001b[0m \u001b[0;34m(\u001b[0m \u001b[0;36m3\u001b[0m \u001b[0;34m-\u001b[0m \u001b[0mj\u001b[0m\u001b[0;34m)\u001b[0m\u001b[0;34m\u001b[0m\u001b[0m\n\u001b[0m",
      "\u001b[0;31mNameError\u001b[0m: name 'j' is not defined"
     ]
    }
   ],
   "source": [
    "(3 + j) * ( 3 - j)"
   ]
  },
  {
   "cell_type": "markdown",
   "metadata": {
    "slideshow": {
     "slide_type": "skip"
    }
   },
   "source": [
    "## 変数\n",
    "等号(=)は変数に代入、厳密には名前とオブジェクトを束縛(binding)、するときに使う: "
   ]
  },
  {
   "cell_type": "code",
   "execution_count": 13,
   "metadata": {
    "slideshow": {
     "slide_type": "skip"
    }
   },
   "outputs": [
    {
     "data": {
      "text/plain": [
       "100"
      ]
     },
     "execution_count": 13,
     "metadata": {},
     "output_type": "execute_result"
    }
   ],
   "source": [
    "width = 20\n",
    "height = 5\n",
    "width * height"
   ]
  },
  {
   "cell_type": "markdown",
   "metadata": {
    "slideshow": {
     "slide_type": "skip"
    }
   },
   "source": [
    "未定義の変数はエラーになります:"
   ]
  },
  {
   "cell_type": "code",
   "execution_count": 1,
   "metadata": {
    "slideshow": {
     "slide_type": "skip"
    }
   },
   "outputs": [
    {
     "ename": "NameError",
     "evalue": "name 'a' is not defined",
     "output_type": "error",
     "traceback": [
      "\u001b[0;31m---------------------------------------------------------------------------\u001b[0m",
      "\u001b[0;31mNameError\u001b[0m                                 Traceback (most recent call last)",
      "\u001b[0;32m<ipython-input-1-3f786850e387>\u001b[0m in \u001b[0;36m<module>\u001b[0;34m()\u001b[0m\n\u001b[0;32m----> 1\u001b[0;31m \u001b[0ma\u001b[0m\u001b[0;34m\u001b[0m\u001b[0m\n\u001b[0m",
      "\u001b[0;31mNameError\u001b[0m: name 'a' is not defined"
     ]
    }
   ],
   "source": [
    "del a   # 万一変数が定義されていたときのおまじない。\n",
    "a"
   ]
  },
  {
   "cell_type": "markdown",
   "metadata": {
    "slideshow": {
     "slide_type": "skip"
    }
   },
   "source": [
    "###### 変数(続き)\n",
    "###   `_`(参考)\n",
    "対話モードで最後に表示された結果は変数 `_` に代入される。 電卓として使う際に有用である:"
   ]
  },
  {
   "cell_type": "code",
   "execution_count": null,
   "metadata": {
    "slideshow": {
     "slide_type": "skip"
    }
   },
   "outputs": [],
   "source": [
    "100+100"
   ]
  },
  {
   "cell_type": "code",
   "execution_count": null,
   "metadata": {
    "slideshow": {
     "slide_type": "skip"
    }
   },
   "outputs": [],
   "source": [
    "_ * 1.08    # The price including tax"
   ]
  },
  {
   "cell_type": "markdown",
   "metadata": {
    "slideshow": {
     "slide_type": "skip"
    }
   },
   "source": [
    "##### 変数(続き)\n",
    "### 補足\n",
    "同じ変数に何度でも代入できる。  \n",
    "変数の名前には、アルファベット(a-zA-Z)、数字のならび(0-9)、アンダースコア(_)、が使える。\n",
    "- ただし最初の文字に数字は使えない\n",
    "- 変数で最初の文字の _ は特別な意味に使われることがある。  \n",
    "   一般の変数では使わない方が無難。"
   ]
  },
  {
   "cell_type": "markdown",
   "metadata": {
    "slideshow": {
     "slide_type": "slide"
    }
   },
   "source": [
    "## 関数の実行\n",
    "\n",
    "以下のように簡単に関数を呼び出せる。この場合 `print()` が関数。"
   ]
  },
  {
   "cell_type": "code",
   "execution_count": 9,
   "metadata": {},
   "outputs": [
    {
     "name": "stdout",
     "output_type": "stream",
     "text": [
      "10\n"
     ]
    }
   ],
   "source": [
    "x = 10\n",
    "print(x)"
   ]
  },
  {
   "cell_type": "markdown",
   "metadata": {
    "slideshow": {
     "slide_type": "slide"
    }
   },
   "source": [
    "## セルで実行中の Python プログラムの停止\n",
    "セル内のプログラム実行中は、プロンプト`In[*]`が表示される。  \n",
    "当該セルは command モードとなる。  \n",
    "実行中のプログラムは、カーネル割り込み \"Kernel\" -> \"Interrupt\" あるいは四角いアイコンによって停止させることができる。必ずしも停止するとは限らないが...."
   ]
  },
  {
   "cell_type": "code",
   "execution_count": null,
   "metadata": {},
   "outputs": [],
   "source": [
    "# Run program with Shift-Enter\n",
    "# Then try to stop program by using kernel-interrupt\n",
    "\n",
    "# This program is not an infinite loop\n",
    "i = 1000000000\n",
    "while(i > 0):\n",
    "    i = i - 1"
   ]
  },
  {
   "cell_type": "markdown",
   "metadata": {
    "slideshow": {
     "slide_type": "slide"
    }
   },
   "source": [
    "## タブキーによる自動補完\n",
    "セルの入力にあたってはタブキーによる自動補完が利用できる。jupyter-notebook の自動補完ではオブジェクト、関数、ディレクトリなどあらゆる変数の名前空間が検索対象となる。"
   ]
  },
  {
   "cell_type": "code",
   "execution_count": 9,
   "metadata": {},
   "outputs": [],
   "source": [
    "# Variables completion example\n",
    "apple = 27\n",
    "ant = 42"
   ]
  },
  {
   "cell_type": "code",
   "execution_count": null,
   "metadata": {},
   "outputs": [],
   "source": [
    "# Type a<Tab>\n",
    "a"
   ]
  },
  {
   "cell_type": "code",
   "execution_count": 10,
   "metadata": {},
   "outputs": [],
   "source": [
    "# Methods completion example\n",
    "b = [1,2,3]"
   ]
  },
  {
   "cell_type": "code",
   "execution_count": null,
   "metadata": {},
   "outputs": [],
   "source": [
    "# Type \"b<Tab>\"\n",
    "b"
   ]
  },
  {
   "cell_type": "code",
   "execution_count": null,
   "metadata": {},
   "outputs": [],
   "source": [
    "# Completion example on modules\n",
    "import datetime"
   ]
  },
  {
   "cell_type": "code",
   "execution_count": null,
   "metadata": {},
   "outputs": [],
   "source": [
    "# Type \"datetime.<Tab>\"\n",
    "datetime."
   ]
  },
  {
   "cell_type": "markdown",
   "metadata": {
    "slideshow": {
     "slide_type": "slide"
    }
   },
   "source": [
    "## イントロスペクション\n",
    "クエスチョンマーク(?)を前後に入力、セルを実行することで変数、関数、オブジェクト、の情報を得ることができる:"
   ]
  },
  {
   "cell_type": "code",
   "execution_count": 3,
   "metadata": {},
   "outputs": [],
   "source": [
    "# Introspect variables\n",
    "b = [1,2,3]"
   ]
  },
  {
   "cell_type": "code",
   "execution_count": 4,
   "metadata": {},
   "outputs": [],
   "source": [
    "# Type \"b?\" then shift-enter\n",
    "b?"
   ]
  },
  {
   "cell_type": "markdown",
   "metadata": {
    "slideshow": {
     "slide_type": "subslide"
    }
   },
   "source": [
    "関数の場合:"
   ]
  },
  {
   "cell_type": "code",
   "execution_count": 11,
   "metadata": {},
   "outputs": [],
   "source": [
    "# Introspect functions\n",
    "# Shift-Enter (Run Cells)\n",
    "print?"
   ]
  },
  {
   "cell_type": "markdown",
   "metadata": {
    "slideshow": {
     "slide_type": "subslide"
    }
   },
   "source": [
    "関数の情報(Docstringが定義されていれば)`?`あるいはソースコード`??`:"
   ]
  },
  {
   "cell_type": "code",
   "execution_count": null,
   "metadata": {},
   "outputs": [],
   "source": [
    "# Introspect own defined functions and show its source code.\n",
    "def do_nothing(a,b):\n",
    "    \"\"\"\n",
    "    Docstring part of\n",
    "    do nothing function\n",
    "    \"\"\"\n",
    "    pass"
   ]
  },
  {
   "cell_type": "code",
   "execution_count": null,
   "metadata": {},
   "outputs": [],
   "source": [
    "# Shiift-Enter\n",
    "do_nothing?"
   ]
  },
  {
   "cell_type": "code",
   "execution_count": null,
   "metadata": {},
   "outputs": [],
   "source": [
    "# Shiift-Enter\n",
    "do_nothing??"
   ]
  },
  {
   "cell_type": "markdown",
   "metadata": {
    "slideshow": {
     "slide_type": "subslide"
    }
   },
   "source": [
    "よく覚えていないときはワイルドカード(\\*)も利用できる。"
   ]
  },
  {
   "cell_type": "code",
   "execution_count": null,
   "metadata": {},
   "outputs": [],
   "source": [
    "# Wildcard with introspect\n",
    "# Shiift-Enter\n",
    "p*t*?"
   ]
  },
  {
   "cell_type": "markdown",
   "metadata": {
    "slideshow": {
     "slide_type": "slide"
    }
   },
   "source": [
    "# jupyter-notebook の magic コマンド\n",
    "\n",
    "code セルでは、Python スクリプト以外に、`%` で開始される magic コマンドもサポートされている。  \n",
    "magic コマンドによって、プログラムに読み込み、OS コマンドの実行などが jupyter-notebook からおこなえる。"
   ]
  },
  {
   "cell_type": "markdown",
   "metadata": {
    "slideshow": {
     "slide_type": "skip"
    }
   },
   "source": [
    "## Python プログラムの実行、読み込み\n",
    "\n",
    "`%run プログラム.py` を実行すれば、外部の Python プログラムが実行される。  \n",
    "また、`%load プログラム.py`を実行すれば、外部プログラムを読み込む。"
   ]
  },
  {
   "cell_type": "markdown",
   "metadata": {
    "slideshow": {
     "slide_type": "skip"
    }
   },
   "source": [
    "## カレントディレクトリの表示、移動\n",
    "\n",
    "`%pwd` で現在の作業ディレクトリ(カレントディレクトリ)を表示する。  \n",
    "`%cd ディレクトリ名` で指定されたディレクトリにカレントディレクトリを移動する。"
   ]
  },
  {
   "cell_type": "code",
   "execution_count": null,
   "metadata": {
    "slideshow": {
     "slide_type": "skip"
    }
   },
   "outputs": [],
   "source": [
    "# Print current directory\n",
    "# Shift-run\n",
    "%pwd"
   ]
  },
  {
   "cell_type": "markdown",
   "metadata": {
    "slideshow": {
     "slide_type": "skip"
    }
   },
   "source": [
    "## 外部コマンドの実行(参考)\n",
    "\n",
    "`!プログラム名`でセルから外部プログラムを実行することができる。\n",
    "もちろん実行パスに入っている必要がある:"
   ]
  },
  {
   "cell_type": "code",
   "execution_count": null,
   "metadata": {
    "slideshow": {
     "slide_type": "skip"
    }
   },
   "outputs": [],
   "source": [
    "# For Linux, MacOS and Unix\n",
    "# Call external programs\n",
    "# Shift-Enter\n",
    "!pwd\n",
    "!ls"
   ]
  },
  {
   "cell_type": "code",
   "execution_count": null,
   "metadata": {
    "slideshow": {
     "slide_type": "skip"
    }
   },
   "outputs": [],
   "source": [
    "# For Windows\n",
    "# Call external programs\n",
    "# Shift-Enter\n",
    "!cwd\n",
    "!dir"
   ]
  },
  {
   "cell_type": "markdown",
   "metadata": {
    "slideshow": {
     "slide_type": "slide"
    }
   },
   "source": [
    "## matplotlib との統合（課題で使います）\n",
    "matplotlib はデータ可視化に広く利用されている Python モジュールである。  \n",
    "jupyter-notebook では matplotlib の出力をセルに表示できる。  \n",
    "この機能を利用するには、冒頭で `%matplotlib inline` あるいは `%matplotlib notebook`を実行する:"
   ]
  },
  {
   "cell_type": "code",
   "execution_count": 1,
   "metadata": {},
   "outputs": [
    {
     "data": {
      "application/javascript": [
       "/* Put everything inside the global mpl namespace */\n",
       "window.mpl = {};\n",
       "\n",
       "\n",
       "mpl.get_websocket_type = function() {\n",
       "    if (typeof(WebSocket) !== 'undefined') {\n",
       "        return WebSocket;\n",
       "    } else if (typeof(MozWebSocket) !== 'undefined') {\n",
       "        return MozWebSocket;\n",
       "    } else {\n",
       "        alert('Your browser does not have WebSocket support.' +\n",
       "              'Please try Chrome, Safari or Firefox ≥ 6. ' +\n",
       "              'Firefox 4 and 5 are also supported but you ' +\n",
       "              'have to enable WebSockets in about:config.');\n",
       "    };\n",
       "}\n",
       "\n",
       "mpl.figure = function(figure_id, websocket, ondownload, parent_element) {\n",
       "    this.id = figure_id;\n",
       "\n",
       "    this.ws = websocket;\n",
       "\n",
       "    this.supports_binary = (this.ws.binaryType != undefined);\n",
       "\n",
       "    if (!this.supports_binary) {\n",
       "        var warnings = document.getElementById(\"mpl-warnings\");\n",
       "        if (warnings) {\n",
       "            warnings.style.display = 'block';\n",
       "            warnings.textContent = (\n",
       "                \"This browser does not support binary websocket messages. \" +\n",
       "                    \"Performance may be slow.\");\n",
       "        }\n",
       "    }\n",
       "\n",
       "    this.imageObj = new Image();\n",
       "\n",
       "    this.context = undefined;\n",
       "    this.message = undefined;\n",
       "    this.canvas = undefined;\n",
       "    this.rubberband_canvas = undefined;\n",
       "    this.rubberband_context = undefined;\n",
       "    this.format_dropdown = undefined;\n",
       "\n",
       "    this.image_mode = 'full';\n",
       "\n",
       "    this.root = $('<div/>');\n",
       "    this._root_extra_style(this.root)\n",
       "    this.root.attr('style', 'display: inline-block');\n",
       "\n",
       "    $(parent_element).append(this.root);\n",
       "\n",
       "    this._init_header(this);\n",
       "    this._init_canvas(this);\n",
       "    this._init_toolbar(this);\n",
       "\n",
       "    var fig = this;\n",
       "\n",
       "    this.waiting = false;\n",
       "\n",
       "    this.ws.onopen =  function () {\n",
       "            fig.send_message(\"supports_binary\", {value: fig.supports_binary});\n",
       "            fig.send_message(\"send_image_mode\", {});\n",
       "            if (mpl.ratio != 1) {\n",
       "                fig.send_message(\"set_dpi_ratio\", {'dpi_ratio': mpl.ratio});\n",
       "            }\n",
       "            fig.send_message(\"refresh\", {});\n",
       "        }\n",
       "\n",
       "    this.imageObj.onload = function() {\n",
       "            if (fig.image_mode == 'full') {\n",
       "                // Full images could contain transparency (where diff images\n",
       "                // almost always do), so we need to clear the canvas so that\n",
       "                // there is no ghosting.\n",
       "                fig.context.clearRect(0, 0, fig.canvas.width, fig.canvas.height);\n",
       "            }\n",
       "            fig.context.drawImage(fig.imageObj, 0, 0);\n",
       "        };\n",
       "\n",
       "    this.imageObj.onunload = function() {\n",
       "        fig.ws.close();\n",
       "    }\n",
       "\n",
       "    this.ws.onmessage = this._make_on_message_function(this);\n",
       "\n",
       "    this.ondownload = ondownload;\n",
       "}\n",
       "\n",
       "mpl.figure.prototype._init_header = function() {\n",
       "    var titlebar = $(\n",
       "        '<div class=\"ui-dialog-titlebar ui-widget-header ui-corner-all ' +\n",
       "        'ui-helper-clearfix\"/>');\n",
       "    var titletext = $(\n",
       "        '<div class=\"ui-dialog-title\" style=\"width: 100%; ' +\n",
       "        'text-align: center; padding: 3px;\"/>');\n",
       "    titlebar.append(titletext)\n",
       "    this.root.append(titlebar);\n",
       "    this.header = titletext[0];\n",
       "}\n",
       "\n",
       "\n",
       "\n",
       "mpl.figure.prototype._canvas_extra_style = function(canvas_div) {\n",
       "\n",
       "}\n",
       "\n",
       "\n",
       "mpl.figure.prototype._root_extra_style = function(canvas_div) {\n",
       "\n",
       "}\n",
       "\n",
       "mpl.figure.prototype._init_canvas = function() {\n",
       "    var fig = this;\n",
       "\n",
       "    var canvas_div = $('<div/>');\n",
       "\n",
       "    canvas_div.attr('style', 'position: relative; clear: both; outline: 0');\n",
       "\n",
       "    function canvas_keyboard_event(event) {\n",
       "        return fig.key_event(event, event['data']);\n",
       "    }\n",
       "\n",
       "    canvas_div.keydown('key_press', canvas_keyboard_event);\n",
       "    canvas_div.keyup('key_release', canvas_keyboard_event);\n",
       "    this.canvas_div = canvas_div\n",
       "    this._canvas_extra_style(canvas_div)\n",
       "    this.root.append(canvas_div);\n",
       "\n",
       "    var canvas = $('<canvas/>');\n",
       "    canvas.addClass('mpl-canvas');\n",
       "    canvas.attr('style', \"left: 0; top: 0; z-index: 0; outline: 0\")\n",
       "\n",
       "    this.canvas = canvas[0];\n",
       "    this.context = canvas[0].getContext(\"2d\");\n",
       "\n",
       "    var backingStore = this.context.backingStorePixelRatio ||\n",
       "\tthis.context.webkitBackingStorePixelRatio ||\n",
       "\tthis.context.mozBackingStorePixelRatio ||\n",
       "\tthis.context.msBackingStorePixelRatio ||\n",
       "\tthis.context.oBackingStorePixelRatio ||\n",
       "\tthis.context.backingStorePixelRatio || 1;\n",
       "\n",
       "    mpl.ratio = (window.devicePixelRatio || 1) / backingStore;\n",
       "\n",
       "    var rubberband = $('<canvas/>');\n",
       "    rubberband.attr('style', \"position: absolute; left: 0; top: 0; z-index: 1;\")\n",
       "\n",
       "    var pass_mouse_events = true;\n",
       "\n",
       "    canvas_div.resizable({\n",
       "        start: function(event, ui) {\n",
       "            pass_mouse_events = false;\n",
       "        },\n",
       "        resize: function(event, ui) {\n",
       "            fig.request_resize(ui.size.width, ui.size.height);\n",
       "        },\n",
       "        stop: function(event, ui) {\n",
       "            pass_mouse_events = true;\n",
       "            fig.request_resize(ui.size.width, ui.size.height);\n",
       "        },\n",
       "    });\n",
       "\n",
       "    function mouse_event_fn(event) {\n",
       "        if (pass_mouse_events)\n",
       "            return fig.mouse_event(event, event['data']);\n",
       "    }\n",
       "\n",
       "    rubberband.mousedown('button_press', mouse_event_fn);\n",
       "    rubberband.mouseup('button_release', mouse_event_fn);\n",
       "    // Throttle sequential mouse events to 1 every 20ms.\n",
       "    rubberband.mousemove('motion_notify', mouse_event_fn);\n",
       "\n",
       "    rubberband.mouseenter('figure_enter', mouse_event_fn);\n",
       "    rubberband.mouseleave('figure_leave', mouse_event_fn);\n",
       "\n",
       "    canvas_div.on(\"wheel\", function (event) {\n",
       "        event = event.originalEvent;\n",
       "        event['data'] = 'scroll'\n",
       "        if (event.deltaY < 0) {\n",
       "            event.step = 1;\n",
       "        } else {\n",
       "            event.step = -1;\n",
       "        }\n",
       "        mouse_event_fn(event);\n",
       "    });\n",
       "\n",
       "    canvas_div.append(canvas);\n",
       "    canvas_div.append(rubberband);\n",
       "\n",
       "    this.rubberband = rubberband;\n",
       "    this.rubberband_canvas = rubberband[0];\n",
       "    this.rubberband_context = rubberband[0].getContext(\"2d\");\n",
       "    this.rubberband_context.strokeStyle = \"#000000\";\n",
       "\n",
       "    this._resize_canvas = function(width, height) {\n",
       "        // Keep the size of the canvas, canvas container, and rubber band\n",
       "        // canvas in synch.\n",
       "        canvas_div.css('width', width)\n",
       "        canvas_div.css('height', height)\n",
       "\n",
       "        canvas.attr('width', width * mpl.ratio);\n",
       "        canvas.attr('height', height * mpl.ratio);\n",
       "        canvas.attr('style', 'width: ' + width + 'px; height: ' + height + 'px;');\n",
       "\n",
       "        rubberband.attr('width', width);\n",
       "        rubberband.attr('height', height);\n",
       "    }\n",
       "\n",
       "    // Set the figure to an initial 600x600px, this will subsequently be updated\n",
       "    // upon first draw.\n",
       "    this._resize_canvas(600, 600);\n",
       "\n",
       "    // Disable right mouse context menu.\n",
       "    $(this.rubberband_canvas).bind(\"contextmenu\",function(e){\n",
       "        return false;\n",
       "    });\n",
       "\n",
       "    function set_focus () {\n",
       "        canvas.focus();\n",
       "        canvas_div.focus();\n",
       "    }\n",
       "\n",
       "    window.setTimeout(set_focus, 100);\n",
       "}\n",
       "\n",
       "mpl.figure.prototype._init_toolbar = function() {\n",
       "    var fig = this;\n",
       "\n",
       "    var nav_element = $('<div/>')\n",
       "    nav_element.attr('style', 'width: 100%');\n",
       "    this.root.append(nav_element);\n",
       "\n",
       "    // Define a callback function for later on.\n",
       "    function toolbar_event(event) {\n",
       "        return fig.toolbar_button_onclick(event['data']);\n",
       "    }\n",
       "    function toolbar_mouse_event(event) {\n",
       "        return fig.toolbar_button_onmouseover(event['data']);\n",
       "    }\n",
       "\n",
       "    for(var toolbar_ind in mpl.toolbar_items) {\n",
       "        var name = mpl.toolbar_items[toolbar_ind][0];\n",
       "        var tooltip = mpl.toolbar_items[toolbar_ind][1];\n",
       "        var image = mpl.toolbar_items[toolbar_ind][2];\n",
       "        var method_name = mpl.toolbar_items[toolbar_ind][3];\n",
       "\n",
       "        if (!name) {\n",
       "            // put a spacer in here.\n",
       "            continue;\n",
       "        }\n",
       "        var button = $('<button/>');\n",
       "        button.addClass('ui-button ui-widget ui-state-default ui-corner-all ' +\n",
       "                        'ui-button-icon-only');\n",
       "        button.attr('role', 'button');\n",
       "        button.attr('aria-disabled', 'false');\n",
       "        button.click(method_name, toolbar_event);\n",
       "        button.mouseover(tooltip, toolbar_mouse_event);\n",
       "\n",
       "        var icon_img = $('<span/>');\n",
       "        icon_img.addClass('ui-button-icon-primary ui-icon');\n",
       "        icon_img.addClass(image);\n",
       "        icon_img.addClass('ui-corner-all');\n",
       "\n",
       "        var tooltip_span = $('<span/>');\n",
       "        tooltip_span.addClass('ui-button-text');\n",
       "        tooltip_span.html(tooltip);\n",
       "\n",
       "        button.append(icon_img);\n",
       "        button.append(tooltip_span);\n",
       "\n",
       "        nav_element.append(button);\n",
       "    }\n",
       "\n",
       "    var fmt_picker_span = $('<span/>');\n",
       "\n",
       "    var fmt_picker = $('<select/>');\n",
       "    fmt_picker.addClass('mpl-toolbar-option ui-widget ui-widget-content');\n",
       "    fmt_picker_span.append(fmt_picker);\n",
       "    nav_element.append(fmt_picker_span);\n",
       "    this.format_dropdown = fmt_picker[0];\n",
       "\n",
       "    for (var ind in mpl.extensions) {\n",
       "        var fmt = mpl.extensions[ind];\n",
       "        var option = $(\n",
       "            '<option/>', {selected: fmt === mpl.default_extension}).html(fmt);\n",
       "        fmt_picker.append(option)\n",
       "    }\n",
       "\n",
       "    // Add hover states to the ui-buttons\n",
       "    $( \".ui-button\" ).hover(\n",
       "        function() { $(this).addClass(\"ui-state-hover\");},\n",
       "        function() { $(this).removeClass(\"ui-state-hover\");}\n",
       "    );\n",
       "\n",
       "    var status_bar = $('<span class=\"mpl-message\"/>');\n",
       "    nav_element.append(status_bar);\n",
       "    this.message = status_bar[0];\n",
       "}\n",
       "\n",
       "mpl.figure.prototype.request_resize = function(x_pixels, y_pixels) {\n",
       "    // Request matplotlib to resize the figure. Matplotlib will then trigger a resize in the client,\n",
       "    // which will in turn request a refresh of the image.\n",
       "    this.send_message('resize', {'width': x_pixels, 'height': y_pixels});\n",
       "}\n",
       "\n",
       "mpl.figure.prototype.send_message = function(type, properties) {\n",
       "    properties['type'] = type;\n",
       "    properties['figure_id'] = this.id;\n",
       "    this.ws.send(JSON.stringify(properties));\n",
       "}\n",
       "\n",
       "mpl.figure.prototype.send_draw_message = function() {\n",
       "    if (!this.waiting) {\n",
       "        this.waiting = true;\n",
       "        this.ws.send(JSON.stringify({type: \"draw\", figure_id: this.id}));\n",
       "    }\n",
       "}\n",
       "\n",
       "\n",
       "mpl.figure.prototype.handle_save = function(fig, msg) {\n",
       "    var format_dropdown = fig.format_dropdown;\n",
       "    var format = format_dropdown.options[format_dropdown.selectedIndex].value;\n",
       "    fig.ondownload(fig, format);\n",
       "}\n",
       "\n",
       "\n",
       "mpl.figure.prototype.handle_resize = function(fig, msg) {\n",
       "    var size = msg['size'];\n",
       "    if (size[0] != fig.canvas.width || size[1] != fig.canvas.height) {\n",
       "        fig._resize_canvas(size[0], size[1]);\n",
       "        fig.send_message(\"refresh\", {});\n",
       "    };\n",
       "}\n",
       "\n",
       "mpl.figure.prototype.handle_rubberband = function(fig, msg) {\n",
       "    var x0 = msg['x0'] / mpl.ratio;\n",
       "    var y0 = (fig.canvas.height - msg['y0']) / mpl.ratio;\n",
       "    var x1 = msg['x1'] / mpl.ratio;\n",
       "    var y1 = (fig.canvas.height - msg['y1']) / mpl.ratio;\n",
       "    x0 = Math.floor(x0) + 0.5;\n",
       "    y0 = Math.floor(y0) + 0.5;\n",
       "    x1 = Math.floor(x1) + 0.5;\n",
       "    y1 = Math.floor(y1) + 0.5;\n",
       "    var min_x = Math.min(x0, x1);\n",
       "    var min_y = Math.min(y0, y1);\n",
       "    var width = Math.abs(x1 - x0);\n",
       "    var height = Math.abs(y1 - y0);\n",
       "\n",
       "    fig.rubberband_context.clearRect(\n",
       "        0, 0, fig.canvas.width, fig.canvas.height);\n",
       "\n",
       "    fig.rubberband_context.strokeRect(min_x, min_y, width, height);\n",
       "}\n",
       "\n",
       "mpl.figure.prototype.handle_figure_label = function(fig, msg) {\n",
       "    // Updates the figure title.\n",
       "    fig.header.textContent = msg['label'];\n",
       "}\n",
       "\n",
       "mpl.figure.prototype.handle_cursor = function(fig, msg) {\n",
       "    var cursor = msg['cursor'];\n",
       "    switch(cursor)\n",
       "    {\n",
       "    case 0:\n",
       "        cursor = 'pointer';\n",
       "        break;\n",
       "    case 1:\n",
       "        cursor = 'default';\n",
       "        break;\n",
       "    case 2:\n",
       "        cursor = 'crosshair';\n",
       "        break;\n",
       "    case 3:\n",
       "        cursor = 'move';\n",
       "        break;\n",
       "    }\n",
       "    fig.rubberband_canvas.style.cursor = cursor;\n",
       "}\n",
       "\n",
       "mpl.figure.prototype.handle_message = function(fig, msg) {\n",
       "    fig.message.textContent = msg['message'];\n",
       "}\n",
       "\n",
       "mpl.figure.prototype.handle_draw = function(fig, msg) {\n",
       "    // Request the server to send over a new figure.\n",
       "    fig.send_draw_message();\n",
       "}\n",
       "\n",
       "mpl.figure.prototype.handle_image_mode = function(fig, msg) {\n",
       "    fig.image_mode = msg['mode'];\n",
       "}\n",
       "\n",
       "mpl.figure.prototype.updated_canvas_event = function() {\n",
       "    // Called whenever the canvas gets updated.\n",
       "    this.send_message(\"ack\", {});\n",
       "}\n",
       "\n",
       "// A function to construct a web socket function for onmessage handling.\n",
       "// Called in the figure constructor.\n",
       "mpl.figure.prototype._make_on_message_function = function(fig) {\n",
       "    return function socket_on_message(evt) {\n",
       "        if (evt.data instanceof Blob) {\n",
       "            /* FIXME: We get \"Resource interpreted as Image but\n",
       "             * transferred with MIME type text/plain:\" errors on\n",
       "             * Chrome.  But how to set the MIME type?  It doesn't seem\n",
       "             * to be part of the websocket stream */\n",
       "            evt.data.type = \"image/png\";\n",
       "\n",
       "            /* Free the memory for the previous frames */\n",
       "            if (fig.imageObj.src) {\n",
       "                (window.URL || window.webkitURL).revokeObjectURL(\n",
       "                    fig.imageObj.src);\n",
       "            }\n",
       "\n",
       "            fig.imageObj.src = (window.URL || window.webkitURL).createObjectURL(\n",
       "                evt.data);\n",
       "            fig.updated_canvas_event();\n",
       "            fig.waiting = false;\n",
       "            return;\n",
       "        }\n",
       "        else if (typeof evt.data === 'string' && evt.data.slice(0, 21) == \"data:image/png;base64\") {\n",
       "            fig.imageObj.src = evt.data;\n",
       "            fig.updated_canvas_event();\n",
       "            fig.waiting = false;\n",
       "            return;\n",
       "        }\n",
       "\n",
       "        var msg = JSON.parse(evt.data);\n",
       "        var msg_type = msg['type'];\n",
       "\n",
       "        // Call the  \"handle_{type}\" callback, which takes\n",
       "        // the figure and JSON message as its only arguments.\n",
       "        try {\n",
       "            var callback = fig[\"handle_\" + msg_type];\n",
       "        } catch (e) {\n",
       "            console.log(\"No handler for the '\" + msg_type + \"' message type: \", msg);\n",
       "            return;\n",
       "        }\n",
       "\n",
       "        if (callback) {\n",
       "            try {\n",
       "                // console.log(\"Handling '\" + msg_type + \"' message: \", msg);\n",
       "                callback(fig, msg);\n",
       "            } catch (e) {\n",
       "                console.log(\"Exception inside the 'handler_\" + msg_type + \"' callback:\", e, e.stack, msg);\n",
       "            }\n",
       "        }\n",
       "    };\n",
       "}\n",
       "\n",
       "// from http://stackoverflow.com/questions/1114465/getting-mouse-location-in-canvas\n",
       "mpl.findpos = function(e) {\n",
       "    //this section is from http://www.quirksmode.org/js/events_properties.html\n",
       "    var targ;\n",
       "    if (!e)\n",
       "        e = window.event;\n",
       "    if (e.target)\n",
       "        targ = e.target;\n",
       "    else if (e.srcElement)\n",
       "        targ = e.srcElement;\n",
       "    if (targ.nodeType == 3) // defeat Safari bug\n",
       "        targ = targ.parentNode;\n",
       "\n",
       "    // jQuery normalizes the pageX and pageY\n",
       "    // pageX,Y are the mouse positions relative to the document\n",
       "    // offset() returns the position of the element relative to the document\n",
       "    var x = e.pageX - $(targ).offset().left;\n",
       "    var y = e.pageY - $(targ).offset().top;\n",
       "\n",
       "    return {\"x\": x, \"y\": y};\n",
       "};\n",
       "\n",
       "/*\n",
       " * return a copy of an object with only non-object keys\n",
       " * we need this to avoid circular references\n",
       " * http://stackoverflow.com/a/24161582/3208463\n",
       " */\n",
       "function simpleKeys (original) {\n",
       "  return Object.keys(original).reduce(function (obj, key) {\n",
       "    if (typeof original[key] !== 'object')\n",
       "        obj[key] = original[key]\n",
       "    return obj;\n",
       "  }, {});\n",
       "}\n",
       "\n",
       "mpl.figure.prototype.mouse_event = function(event, name) {\n",
       "    var canvas_pos = mpl.findpos(event)\n",
       "\n",
       "    if (name === 'button_press')\n",
       "    {\n",
       "        this.canvas.focus();\n",
       "        this.canvas_div.focus();\n",
       "    }\n",
       "\n",
       "    var x = canvas_pos.x * mpl.ratio;\n",
       "    var y = canvas_pos.y * mpl.ratio;\n",
       "\n",
       "    this.send_message(name, {x: x, y: y, button: event.button,\n",
       "                             step: event.step,\n",
       "                             guiEvent: simpleKeys(event)});\n",
       "\n",
       "    /* This prevents the web browser from automatically changing to\n",
       "     * the text insertion cursor when the button is pressed.  We want\n",
       "     * to control all of the cursor setting manually through the\n",
       "     * 'cursor' event from matplotlib */\n",
       "    event.preventDefault();\n",
       "    return false;\n",
       "}\n",
       "\n",
       "mpl.figure.prototype._key_event_extra = function(event, name) {\n",
       "    // Handle any extra behaviour associated with a key event\n",
       "}\n",
       "\n",
       "mpl.figure.prototype.key_event = function(event, name) {\n",
       "\n",
       "    // Prevent repeat events\n",
       "    if (name == 'key_press')\n",
       "    {\n",
       "        if (event.which === this._key)\n",
       "            return;\n",
       "        else\n",
       "            this._key = event.which;\n",
       "    }\n",
       "    if (name == 'key_release')\n",
       "        this._key = null;\n",
       "\n",
       "    var value = '';\n",
       "    if (event.ctrlKey && event.which != 17)\n",
       "        value += \"ctrl+\";\n",
       "    if (event.altKey && event.which != 18)\n",
       "        value += \"alt+\";\n",
       "    if (event.shiftKey && event.which != 16)\n",
       "        value += \"shift+\";\n",
       "\n",
       "    value += 'k';\n",
       "    value += event.which.toString();\n",
       "\n",
       "    this._key_event_extra(event, name);\n",
       "\n",
       "    this.send_message(name, {key: value,\n",
       "                             guiEvent: simpleKeys(event)});\n",
       "    return false;\n",
       "}\n",
       "\n",
       "mpl.figure.prototype.toolbar_button_onclick = function(name) {\n",
       "    if (name == 'download') {\n",
       "        this.handle_save(this, null);\n",
       "    } else {\n",
       "        this.send_message(\"toolbar_button\", {name: name});\n",
       "    }\n",
       "};\n",
       "\n",
       "mpl.figure.prototype.toolbar_button_onmouseover = function(tooltip) {\n",
       "    this.message.textContent = tooltip;\n",
       "};\n",
       "mpl.toolbar_items = [[\"Home\", \"Reset original view\", \"fa fa-home icon-home\", \"home\"], [\"Back\", \"Back to  previous view\", \"fa fa-arrow-left icon-arrow-left\", \"back\"], [\"Forward\", \"Forward to next view\", \"fa fa-arrow-right icon-arrow-right\", \"forward\"], [\"\", \"\", \"\", \"\"], [\"Pan\", \"Pan axes with left mouse, zoom with right\", \"fa fa-arrows icon-move\", \"pan\"], [\"Zoom\", \"Zoom to rectangle\", \"fa fa-square-o icon-check-empty\", \"zoom\"], [\"\", \"\", \"\", \"\"], [\"Download\", \"Download plot\", \"fa fa-floppy-o icon-save\", \"download\"]];\n",
       "\n",
       "mpl.extensions = [\"eps\", \"jpeg\", \"pdf\", \"png\", \"ps\", \"raw\", \"svg\", \"tif\"];\n",
       "\n",
       "mpl.default_extension = \"png\";var comm_websocket_adapter = function(comm) {\n",
       "    // Create a \"websocket\"-like object which calls the given IPython comm\n",
       "    // object with the appropriate methods. Currently this is a non binary\n",
       "    // socket, so there is still some room for performance tuning.\n",
       "    var ws = {};\n",
       "\n",
       "    ws.close = function() {\n",
       "        comm.close()\n",
       "    };\n",
       "    ws.send = function(m) {\n",
       "        //console.log('sending', m);\n",
       "        comm.send(m);\n",
       "    };\n",
       "    // Register the callback with on_msg.\n",
       "    comm.on_msg(function(msg) {\n",
       "        //console.log('receiving', msg['content']['data'], msg);\n",
       "        // Pass the mpl event to the overriden (by mpl) onmessage function.\n",
       "        ws.onmessage(msg['content']['data'])\n",
       "    });\n",
       "    return ws;\n",
       "}\n",
       "\n",
       "mpl.mpl_figure_comm = function(comm, msg) {\n",
       "    // This is the function which gets called when the mpl process\n",
       "    // starts-up an IPython Comm through the \"matplotlib\" channel.\n",
       "\n",
       "    var id = msg.content.data.id;\n",
       "    // Get hold of the div created by the display call when the Comm\n",
       "    // socket was opened in Python.\n",
       "    var element = $(\"#\" + id);\n",
       "    var ws_proxy = comm_websocket_adapter(comm)\n",
       "\n",
       "    function ondownload(figure, format) {\n",
       "        window.open(figure.imageObj.src);\n",
       "    }\n",
       "\n",
       "    var fig = new mpl.figure(id, ws_proxy,\n",
       "                           ondownload,\n",
       "                           element.get(0));\n",
       "\n",
       "    // Call onopen now - mpl needs it, as it is assuming we've passed it a real\n",
       "    // web socket which is closed, not our websocket->open comm proxy.\n",
       "    ws_proxy.onopen();\n",
       "\n",
       "    fig.parent_element = element.get(0);\n",
       "    fig.cell_info = mpl.find_output_cell(\"<div id='\" + id + \"'></div>\");\n",
       "    if (!fig.cell_info) {\n",
       "        console.error(\"Failed to find cell for figure\", id, fig);\n",
       "        return;\n",
       "    }\n",
       "\n",
       "    var output_index = fig.cell_info[2]\n",
       "    var cell = fig.cell_info[0];\n",
       "\n",
       "};\n",
       "\n",
       "mpl.figure.prototype.handle_close = function(fig, msg) {\n",
       "    var width = fig.canvas.width/mpl.ratio\n",
       "    fig.root.unbind('remove')\n",
       "\n",
       "    // Update the output cell to use the data from the current canvas.\n",
       "    fig.push_to_output();\n",
       "    var dataURL = fig.canvas.toDataURL();\n",
       "    // Re-enable the keyboard manager in IPython - without this line, in FF,\n",
       "    // the notebook keyboard shortcuts fail.\n",
       "    IPython.keyboard_manager.enable()\n",
       "    $(fig.parent_element).html('<img src=\"' + dataURL + '\" width=\"' + width + '\">');\n",
       "    fig.close_ws(fig, msg);\n",
       "}\n",
       "\n",
       "mpl.figure.prototype.close_ws = function(fig, msg){\n",
       "    fig.send_message('closing', msg);\n",
       "    // fig.ws.close()\n",
       "}\n",
       "\n",
       "mpl.figure.prototype.push_to_output = function(remove_interactive) {\n",
       "    // Turn the data on the canvas into data in the output cell.\n",
       "    var width = this.canvas.width/mpl.ratio\n",
       "    var dataURL = this.canvas.toDataURL();\n",
       "    this.cell_info[1]['text/html'] = '<img src=\"' + dataURL + '\" width=\"' + width + '\">';\n",
       "}\n",
       "\n",
       "mpl.figure.prototype.updated_canvas_event = function() {\n",
       "    // Tell IPython that the notebook contents must change.\n",
       "    IPython.notebook.set_dirty(true);\n",
       "    this.send_message(\"ack\", {});\n",
       "    var fig = this;\n",
       "    // Wait a second, then push the new image to the DOM so\n",
       "    // that it is saved nicely (might be nice to debounce this).\n",
       "    setTimeout(function () { fig.push_to_output() }, 1000);\n",
       "}\n",
       "\n",
       "mpl.figure.prototype._init_toolbar = function() {\n",
       "    var fig = this;\n",
       "\n",
       "    var nav_element = $('<div/>')\n",
       "    nav_element.attr('style', 'width: 100%');\n",
       "    this.root.append(nav_element);\n",
       "\n",
       "    // Define a callback function for later on.\n",
       "    function toolbar_event(event) {\n",
       "        return fig.toolbar_button_onclick(event['data']);\n",
       "    }\n",
       "    function toolbar_mouse_event(event) {\n",
       "        return fig.toolbar_button_onmouseover(event['data']);\n",
       "    }\n",
       "\n",
       "    for(var toolbar_ind in mpl.toolbar_items){\n",
       "        var name = mpl.toolbar_items[toolbar_ind][0];\n",
       "        var tooltip = mpl.toolbar_items[toolbar_ind][1];\n",
       "        var image = mpl.toolbar_items[toolbar_ind][2];\n",
       "        var method_name = mpl.toolbar_items[toolbar_ind][3];\n",
       "\n",
       "        if (!name) { continue; };\n",
       "\n",
       "        var button = $('<button class=\"btn btn-default\" href=\"#\" title=\"' + name + '\"><i class=\"fa ' + image + ' fa-lg\"></i></button>');\n",
       "        button.click(method_name, toolbar_event);\n",
       "        button.mouseover(tooltip, toolbar_mouse_event);\n",
       "        nav_element.append(button);\n",
       "    }\n",
       "\n",
       "    // Add the status bar.\n",
       "    var status_bar = $('<span class=\"mpl-message\" style=\"text-align:right; float: right;\"/>');\n",
       "    nav_element.append(status_bar);\n",
       "    this.message = status_bar[0];\n",
       "\n",
       "    // Add the close button to the window.\n",
       "    var buttongrp = $('<div class=\"btn-group inline pull-right\"></div>');\n",
       "    var button = $('<button class=\"btn btn-mini btn-primary\" href=\"#\" title=\"Stop Interaction\"><i class=\"fa fa-power-off icon-remove icon-large\"></i></button>');\n",
       "    button.click(function (evt) { fig.handle_close(fig, {}); } );\n",
       "    button.mouseover('Stop Interaction', toolbar_mouse_event);\n",
       "    buttongrp.append(button);\n",
       "    var titlebar = this.root.find($('.ui-dialog-titlebar'));\n",
       "    titlebar.prepend(buttongrp);\n",
       "}\n",
       "\n",
       "mpl.figure.prototype._root_extra_style = function(el){\n",
       "    var fig = this\n",
       "    el.on(\"remove\", function(){\n",
       "\tfig.close_ws(fig, {});\n",
       "    });\n",
       "}\n",
       "\n",
       "mpl.figure.prototype._canvas_extra_style = function(el){\n",
       "    // this is important to make the div 'focusable\n",
       "    el.attr('tabindex', 0)\n",
       "    // reach out to IPython and tell the keyboard manager to turn it's self\n",
       "    // off when our div gets focus\n",
       "\n",
       "    // location in version 3\n",
       "    if (IPython.notebook.keyboard_manager) {\n",
       "        IPython.notebook.keyboard_manager.register_events(el);\n",
       "    }\n",
       "    else {\n",
       "        // location in version 2\n",
       "        IPython.keyboard_manager.register_events(el);\n",
       "    }\n",
       "\n",
       "}\n",
       "\n",
       "mpl.figure.prototype._key_event_extra = function(event, name) {\n",
       "    var manager = IPython.notebook.keyboard_manager;\n",
       "    if (!manager)\n",
       "        manager = IPython.keyboard_manager;\n",
       "\n",
       "    // Check for shift+enter\n",
       "    if (event.shiftKey && event.which == 13) {\n",
       "        this.canvas_div.blur();\n",
       "        event.shiftKey = false;\n",
       "        // Send a \"J\" for go to next cell\n",
       "        event.which = 74;\n",
       "        event.keyCode = 74;\n",
       "        manager.command_mode();\n",
       "        manager.handle_keydown(event);\n",
       "    }\n",
       "}\n",
       "\n",
       "mpl.figure.prototype.handle_save = function(fig, msg) {\n",
       "    fig.ondownload(fig, null);\n",
       "}\n",
       "\n",
       "\n",
       "mpl.find_output_cell = function(html_output) {\n",
       "    // Return the cell and output element which can be found *uniquely* in the notebook.\n",
       "    // Note - this is a bit hacky, but it is done because the \"notebook_saving.Notebook\"\n",
       "    // IPython event is triggered only after the cells have been serialised, which for\n",
       "    // our purposes (turning an active figure into a static one), is too late.\n",
       "    var cells = IPython.notebook.get_cells();\n",
       "    var ncells = cells.length;\n",
       "    for (var i=0; i<ncells; i++) {\n",
       "        var cell = cells[i];\n",
       "        if (cell.cell_type === 'code'){\n",
       "            for (var j=0; j<cell.output_area.outputs.length; j++) {\n",
       "                var data = cell.output_area.outputs[j];\n",
       "                if (data.data) {\n",
       "                    // IPython >= 3 moved mimebundle to data attribute of output\n",
       "                    data = data.data;\n",
       "                }\n",
       "                if (data['text/html'] == html_output) {\n",
       "                    return [cell, data, j];\n",
       "                }\n",
       "            }\n",
       "        }\n",
       "    }\n",
       "}\n",
       "\n",
       "// Register the function which deals with the matplotlib target/channel.\n",
       "// The kernel may be null if the page has been refreshed.\n",
       "if (IPython.notebook.kernel != null) {\n",
       "    IPython.notebook.kernel.comm_manager.register_target('matplotlib', mpl.mpl_figure_comm);\n",
       "}\n"
      ],
      "text/plain": [
       "<IPython.core.display.Javascript object>"
      ]
     },
     "metadata": {},
     "output_type": "display_data"
    },
    {
     "data": {
      "text/html": [
       "<img src=\"data:image/png;base64,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\" width=\"640\">"
      ],
      "text/plain": [
       "<IPython.core.display.HTML object>"
      ]
     },
     "metadata": {},
     "output_type": "display_data"
    }
   ],
   "source": [
    "%matplotlib notebook\n",
    "import matplotlib.pyplot as plt\n",
    "fig, ax = plt.subplots()\n",
    "x = [0, 1, 2, 3,  4,  5,  6,  7,  8,  9]\n",
    "y = [0, 1, 4, 9, 16, 25, 36, 49, 64, 81]  # プログラムについて教えていないことになっているので要素を書き出します。\n",
    "ax.plot(x, x)                             # y = x の直線\n",
    "ax.plot(x, y)                             # Default で重ね書きします。\n",
    "plt.show()"
   ]
  },
  {
   "cell_type": "markdown",
   "metadata": {
    "slideshow": {
     "slide_type": "subslide"
    }
   },
   "source": [
    "matplotlib の出力を画像ファイルとして保存するには `matplotlib.pyplot.savefig()`を利用すれば良い。  \n",
    "`savefig()`は `matplotlib.pyplot.show()`の前に呼ぶこと:"
   ]
  },
  {
   "cell_type": "code",
   "execution_count": 2,
   "metadata": {},
   "outputs": [
    {
     "data": {
      "application/javascript": [
       "/* Put everything inside the global mpl namespace */\n",
       "window.mpl = {};\n",
       "\n",
       "\n",
       "mpl.get_websocket_type = function() {\n",
       "    if (typeof(WebSocket) !== 'undefined') {\n",
       "        return WebSocket;\n",
       "    } else if (typeof(MozWebSocket) !== 'undefined') {\n",
       "        return MozWebSocket;\n",
       "    } else {\n",
       "        alert('Your browser does not have WebSocket support.' +\n",
       "              'Please try Chrome, Safari or Firefox ≥ 6. ' +\n",
       "              'Firefox 4 and 5 are also supported but you ' +\n",
       "              'have to enable WebSockets in about:config.');\n",
       "    };\n",
       "}\n",
       "\n",
       "mpl.figure = function(figure_id, websocket, ondownload, parent_element) {\n",
       "    this.id = figure_id;\n",
       "\n",
       "    this.ws = websocket;\n",
       "\n",
       "    this.supports_binary = (this.ws.binaryType != undefined);\n",
       "\n",
       "    if (!this.supports_binary) {\n",
       "        var warnings = document.getElementById(\"mpl-warnings\");\n",
       "        if (warnings) {\n",
       "            warnings.style.display = 'block';\n",
       "            warnings.textContent = (\n",
       "                \"This browser does not support binary websocket messages. \" +\n",
       "                    \"Performance may be slow.\");\n",
       "        }\n",
       "    }\n",
       "\n",
       "    this.imageObj = new Image();\n",
       "\n",
       "    this.context = undefined;\n",
       "    this.message = undefined;\n",
       "    this.canvas = undefined;\n",
       "    this.rubberband_canvas = undefined;\n",
       "    this.rubberband_context = undefined;\n",
       "    this.format_dropdown = undefined;\n",
       "\n",
       "    this.image_mode = 'full';\n",
       "\n",
       "    this.root = $('<div/>');\n",
       "    this._root_extra_style(this.root)\n",
       "    this.root.attr('style', 'display: inline-block');\n",
       "\n",
       "    $(parent_element).append(this.root);\n",
       "\n",
       "    this._init_header(this);\n",
       "    this._init_canvas(this);\n",
       "    this._init_toolbar(this);\n",
       "\n",
       "    var fig = this;\n",
       "\n",
       "    this.waiting = false;\n",
       "\n",
       "    this.ws.onopen =  function () {\n",
       "            fig.send_message(\"supports_binary\", {value: fig.supports_binary});\n",
       "            fig.send_message(\"send_image_mode\", {});\n",
       "            if (mpl.ratio != 1) {\n",
       "                fig.send_message(\"set_dpi_ratio\", {'dpi_ratio': mpl.ratio});\n",
       "            }\n",
       "            fig.send_message(\"refresh\", {});\n",
       "        }\n",
       "\n",
       "    this.imageObj.onload = function() {\n",
       "            if (fig.image_mode == 'full') {\n",
       "                // Full images could contain transparency (where diff images\n",
       "                // almost always do), so we need to clear the canvas so that\n",
       "                // there is no ghosting.\n",
       "                fig.context.clearRect(0, 0, fig.canvas.width, fig.canvas.height);\n",
       "            }\n",
       "            fig.context.drawImage(fig.imageObj, 0, 0);\n",
       "        };\n",
       "\n",
       "    this.imageObj.onunload = function() {\n",
       "        fig.ws.close();\n",
       "    }\n",
       "\n",
       "    this.ws.onmessage = this._make_on_message_function(this);\n",
       "\n",
       "    this.ondownload = ondownload;\n",
       "}\n",
       "\n",
       "mpl.figure.prototype._init_header = function() {\n",
       "    var titlebar = $(\n",
       "        '<div class=\"ui-dialog-titlebar ui-widget-header ui-corner-all ' +\n",
       "        'ui-helper-clearfix\"/>');\n",
       "    var titletext = $(\n",
       "        '<div class=\"ui-dialog-title\" style=\"width: 100%; ' +\n",
       "        'text-align: center; padding: 3px;\"/>');\n",
       "    titlebar.append(titletext)\n",
       "    this.root.append(titlebar);\n",
       "    this.header = titletext[0];\n",
       "}\n",
       "\n",
       "\n",
       "\n",
       "mpl.figure.prototype._canvas_extra_style = function(canvas_div) {\n",
       "\n",
       "}\n",
       "\n",
       "\n",
       "mpl.figure.prototype._root_extra_style = function(canvas_div) {\n",
       "\n",
       "}\n",
       "\n",
       "mpl.figure.prototype._init_canvas = function() {\n",
       "    var fig = this;\n",
       "\n",
       "    var canvas_div = $('<div/>');\n",
       "\n",
       "    canvas_div.attr('style', 'position: relative; clear: both; outline: 0');\n",
       "\n",
       "    function canvas_keyboard_event(event) {\n",
       "        return fig.key_event(event, event['data']);\n",
       "    }\n",
       "\n",
       "    canvas_div.keydown('key_press', canvas_keyboard_event);\n",
       "    canvas_div.keyup('key_release', canvas_keyboard_event);\n",
       "    this.canvas_div = canvas_div\n",
       "    this._canvas_extra_style(canvas_div)\n",
       "    this.root.append(canvas_div);\n",
       "\n",
       "    var canvas = $('<canvas/>');\n",
       "    canvas.addClass('mpl-canvas');\n",
       "    canvas.attr('style', \"left: 0; top: 0; z-index: 0; outline: 0\")\n",
       "\n",
       "    this.canvas = canvas[0];\n",
       "    this.context = canvas[0].getContext(\"2d\");\n",
       "\n",
       "    var backingStore = this.context.backingStorePixelRatio ||\n",
       "\tthis.context.webkitBackingStorePixelRatio ||\n",
       "\tthis.context.mozBackingStorePixelRatio ||\n",
       "\tthis.context.msBackingStorePixelRatio ||\n",
       "\tthis.context.oBackingStorePixelRatio ||\n",
       "\tthis.context.backingStorePixelRatio || 1;\n",
       "\n",
       "    mpl.ratio = (window.devicePixelRatio || 1) / backingStore;\n",
       "\n",
       "    var rubberband = $('<canvas/>');\n",
       "    rubberband.attr('style', \"position: absolute; left: 0; top: 0; z-index: 1;\")\n",
       "\n",
       "    var pass_mouse_events = true;\n",
       "\n",
       "    canvas_div.resizable({\n",
       "        start: function(event, ui) {\n",
       "            pass_mouse_events = false;\n",
       "        },\n",
       "        resize: function(event, ui) {\n",
       "            fig.request_resize(ui.size.width, ui.size.height);\n",
       "        },\n",
       "        stop: function(event, ui) {\n",
       "            pass_mouse_events = true;\n",
       "            fig.request_resize(ui.size.width, ui.size.height);\n",
       "        },\n",
       "    });\n",
       "\n",
       "    function mouse_event_fn(event) {\n",
       "        if (pass_mouse_events)\n",
       "            return fig.mouse_event(event, event['data']);\n",
       "    }\n",
       "\n",
       "    rubberband.mousedown('button_press', mouse_event_fn);\n",
       "    rubberband.mouseup('button_release', mouse_event_fn);\n",
       "    // Throttle sequential mouse events to 1 every 20ms.\n",
       "    rubberband.mousemove('motion_notify', mouse_event_fn);\n",
       "\n",
       "    rubberband.mouseenter('figure_enter', mouse_event_fn);\n",
       "    rubberband.mouseleave('figure_leave', mouse_event_fn);\n",
       "\n",
       "    canvas_div.on(\"wheel\", function (event) {\n",
       "        event = event.originalEvent;\n",
       "        event['data'] = 'scroll'\n",
       "        if (event.deltaY < 0) {\n",
       "            event.step = 1;\n",
       "        } else {\n",
       "            event.step = -1;\n",
       "        }\n",
       "        mouse_event_fn(event);\n",
       "    });\n",
       "\n",
       "    canvas_div.append(canvas);\n",
       "    canvas_div.append(rubberband);\n",
       "\n",
       "    this.rubberband = rubberband;\n",
       "    this.rubberband_canvas = rubberband[0];\n",
       "    this.rubberband_context = rubberband[0].getContext(\"2d\");\n",
       "    this.rubberband_context.strokeStyle = \"#000000\";\n",
       "\n",
       "    this._resize_canvas = function(width, height) {\n",
       "        // Keep the size of the canvas, canvas container, and rubber band\n",
       "        // canvas in synch.\n",
       "        canvas_div.css('width', width)\n",
       "        canvas_div.css('height', height)\n",
       "\n",
       "        canvas.attr('width', width * mpl.ratio);\n",
       "        canvas.attr('height', height * mpl.ratio);\n",
       "        canvas.attr('style', 'width: ' + width + 'px; height: ' + height + 'px;');\n",
       "\n",
       "        rubberband.attr('width', width);\n",
       "        rubberband.attr('height', height);\n",
       "    }\n",
       "\n",
       "    // Set the figure to an initial 600x600px, this will subsequently be updated\n",
       "    // upon first draw.\n",
       "    this._resize_canvas(600, 600);\n",
       "\n",
       "    // Disable right mouse context menu.\n",
       "    $(this.rubberband_canvas).bind(\"contextmenu\",function(e){\n",
       "        return false;\n",
       "    });\n",
       "\n",
       "    function set_focus () {\n",
       "        canvas.focus();\n",
       "        canvas_div.focus();\n",
       "    }\n",
       "\n",
       "    window.setTimeout(set_focus, 100);\n",
       "}\n",
       "\n",
       "mpl.figure.prototype._init_toolbar = function() {\n",
       "    var fig = this;\n",
       "\n",
       "    var nav_element = $('<div/>')\n",
       "    nav_element.attr('style', 'width: 100%');\n",
       "    this.root.append(nav_element);\n",
       "\n",
       "    // Define a callback function for later on.\n",
       "    function toolbar_event(event) {\n",
       "        return fig.toolbar_button_onclick(event['data']);\n",
       "    }\n",
       "    function toolbar_mouse_event(event) {\n",
       "        return fig.toolbar_button_onmouseover(event['data']);\n",
       "    }\n",
       "\n",
       "    for(var toolbar_ind in mpl.toolbar_items) {\n",
       "        var name = mpl.toolbar_items[toolbar_ind][0];\n",
       "        var tooltip = mpl.toolbar_items[toolbar_ind][1];\n",
       "        var image = mpl.toolbar_items[toolbar_ind][2];\n",
       "        var method_name = mpl.toolbar_items[toolbar_ind][3];\n",
       "\n",
       "        if (!name) {\n",
       "            // put a spacer in here.\n",
       "            continue;\n",
       "        }\n",
       "        var button = $('<button/>');\n",
       "        button.addClass('ui-button ui-widget ui-state-default ui-corner-all ' +\n",
       "                        'ui-button-icon-only');\n",
       "        button.attr('role', 'button');\n",
       "        button.attr('aria-disabled', 'false');\n",
       "        button.click(method_name, toolbar_event);\n",
       "        button.mouseover(tooltip, toolbar_mouse_event);\n",
       "\n",
       "        var icon_img = $('<span/>');\n",
       "        icon_img.addClass('ui-button-icon-primary ui-icon');\n",
       "        icon_img.addClass(image);\n",
       "        icon_img.addClass('ui-corner-all');\n",
       "\n",
       "        var tooltip_span = $('<span/>');\n",
       "        tooltip_span.addClass('ui-button-text');\n",
       "        tooltip_span.html(tooltip);\n",
       "\n",
       "        button.append(icon_img);\n",
       "        button.append(tooltip_span);\n",
       "\n",
       "        nav_element.append(button);\n",
       "    }\n",
       "\n",
       "    var fmt_picker_span = $('<span/>');\n",
       "\n",
       "    var fmt_picker = $('<select/>');\n",
       "    fmt_picker.addClass('mpl-toolbar-option ui-widget ui-widget-content');\n",
       "    fmt_picker_span.append(fmt_picker);\n",
       "    nav_element.append(fmt_picker_span);\n",
       "    this.format_dropdown = fmt_picker[0];\n",
       "\n",
       "    for (var ind in mpl.extensions) {\n",
       "        var fmt = mpl.extensions[ind];\n",
       "        var option = $(\n",
       "            '<option/>', {selected: fmt === mpl.default_extension}).html(fmt);\n",
       "        fmt_picker.append(option)\n",
       "    }\n",
       "\n",
       "    // Add hover states to the ui-buttons\n",
       "    $( \".ui-button\" ).hover(\n",
       "        function() { $(this).addClass(\"ui-state-hover\");},\n",
       "        function() { $(this).removeClass(\"ui-state-hover\");}\n",
       "    );\n",
       "\n",
       "    var status_bar = $('<span class=\"mpl-message\"/>');\n",
       "    nav_element.append(status_bar);\n",
       "    this.message = status_bar[0];\n",
       "}\n",
       "\n",
       "mpl.figure.prototype.request_resize = function(x_pixels, y_pixels) {\n",
       "    // Request matplotlib to resize the figure. Matplotlib will then trigger a resize in the client,\n",
       "    // which will in turn request a refresh of the image.\n",
       "    this.send_message('resize', {'width': x_pixels, 'height': y_pixels});\n",
       "}\n",
       "\n",
       "mpl.figure.prototype.send_message = function(type, properties) {\n",
       "    properties['type'] = type;\n",
       "    properties['figure_id'] = this.id;\n",
       "    this.ws.send(JSON.stringify(properties));\n",
       "}\n",
       "\n",
       "mpl.figure.prototype.send_draw_message = function() {\n",
       "    if (!this.waiting) {\n",
       "        this.waiting = true;\n",
       "        this.ws.send(JSON.stringify({type: \"draw\", figure_id: this.id}));\n",
       "    }\n",
       "}\n",
       "\n",
       "\n",
       "mpl.figure.prototype.handle_save = function(fig, msg) {\n",
       "    var format_dropdown = fig.format_dropdown;\n",
       "    var format = format_dropdown.options[format_dropdown.selectedIndex].value;\n",
       "    fig.ondownload(fig, format);\n",
       "}\n",
       "\n",
       "\n",
       "mpl.figure.prototype.handle_resize = function(fig, msg) {\n",
       "    var size = msg['size'];\n",
       "    if (size[0] != fig.canvas.width || size[1] != fig.canvas.height) {\n",
       "        fig._resize_canvas(size[0], size[1]);\n",
       "        fig.send_message(\"refresh\", {});\n",
       "    };\n",
       "}\n",
       "\n",
       "mpl.figure.prototype.handle_rubberband = function(fig, msg) {\n",
       "    var x0 = msg['x0'] / mpl.ratio;\n",
       "    var y0 = (fig.canvas.height - msg['y0']) / mpl.ratio;\n",
       "    var x1 = msg['x1'] / mpl.ratio;\n",
       "    var y1 = (fig.canvas.height - msg['y1']) / mpl.ratio;\n",
       "    x0 = Math.floor(x0) + 0.5;\n",
       "    y0 = Math.floor(y0) + 0.5;\n",
       "    x1 = Math.floor(x1) + 0.5;\n",
       "    y1 = Math.floor(y1) + 0.5;\n",
       "    var min_x = Math.min(x0, x1);\n",
       "    var min_y = Math.min(y0, y1);\n",
       "    var width = Math.abs(x1 - x0);\n",
       "    var height = Math.abs(y1 - y0);\n",
       "\n",
       "    fig.rubberband_context.clearRect(\n",
       "        0, 0, fig.canvas.width, fig.canvas.height);\n",
       "\n",
       "    fig.rubberband_context.strokeRect(min_x, min_y, width, height);\n",
       "}\n",
       "\n",
       "mpl.figure.prototype.handle_figure_label = function(fig, msg) {\n",
       "    // Updates the figure title.\n",
       "    fig.header.textContent = msg['label'];\n",
       "}\n",
       "\n",
       "mpl.figure.prototype.handle_cursor = function(fig, msg) {\n",
       "    var cursor = msg['cursor'];\n",
       "    switch(cursor)\n",
       "    {\n",
       "    case 0:\n",
       "        cursor = 'pointer';\n",
       "        break;\n",
       "    case 1:\n",
       "        cursor = 'default';\n",
       "        break;\n",
       "    case 2:\n",
       "        cursor = 'crosshair';\n",
       "        break;\n",
       "    case 3:\n",
       "        cursor = 'move';\n",
       "        break;\n",
       "    }\n",
       "    fig.rubberband_canvas.style.cursor = cursor;\n",
       "}\n",
       "\n",
       "mpl.figure.prototype.handle_message = function(fig, msg) {\n",
       "    fig.message.textContent = msg['message'];\n",
       "}\n",
       "\n",
       "mpl.figure.prototype.handle_draw = function(fig, msg) {\n",
       "    // Request the server to send over a new figure.\n",
       "    fig.send_draw_message();\n",
       "}\n",
       "\n",
       "mpl.figure.prototype.handle_image_mode = function(fig, msg) {\n",
       "    fig.image_mode = msg['mode'];\n",
       "}\n",
       "\n",
       "mpl.figure.prototype.updated_canvas_event = function() {\n",
       "    // Called whenever the canvas gets updated.\n",
       "    this.send_message(\"ack\", {});\n",
       "}\n",
       "\n",
       "// A function to construct a web socket function for onmessage handling.\n",
       "// Called in the figure constructor.\n",
       "mpl.figure.prototype._make_on_message_function = function(fig) {\n",
       "    return function socket_on_message(evt) {\n",
       "        if (evt.data instanceof Blob) {\n",
       "            /* FIXME: We get \"Resource interpreted as Image but\n",
       "             * transferred with MIME type text/plain:\" errors on\n",
       "             * Chrome.  But how to set the MIME type?  It doesn't seem\n",
       "             * to be part of the websocket stream */\n",
       "            evt.data.type = \"image/png\";\n",
       "\n",
       "            /* Free the memory for the previous frames */\n",
       "            if (fig.imageObj.src) {\n",
       "                (window.URL || window.webkitURL).revokeObjectURL(\n",
       "                    fig.imageObj.src);\n",
       "            }\n",
       "\n",
       "            fig.imageObj.src = (window.URL || window.webkitURL).createObjectURL(\n",
       "                evt.data);\n",
       "            fig.updated_canvas_event();\n",
       "            fig.waiting = false;\n",
       "            return;\n",
       "        }\n",
       "        else if (typeof evt.data === 'string' && evt.data.slice(0, 21) == \"data:image/png;base64\") {\n",
       "            fig.imageObj.src = evt.data;\n",
       "            fig.updated_canvas_event();\n",
       "            fig.waiting = false;\n",
       "            return;\n",
       "        }\n",
       "\n",
       "        var msg = JSON.parse(evt.data);\n",
       "        var msg_type = msg['type'];\n",
       "\n",
       "        // Call the  \"handle_{type}\" callback, which takes\n",
       "        // the figure and JSON message as its only arguments.\n",
       "        try {\n",
       "            var callback = fig[\"handle_\" + msg_type];\n",
       "        } catch (e) {\n",
       "            console.log(\"No handler for the '\" + msg_type + \"' message type: \", msg);\n",
       "            return;\n",
       "        }\n",
       "\n",
       "        if (callback) {\n",
       "            try {\n",
       "                // console.log(\"Handling '\" + msg_type + \"' message: \", msg);\n",
       "                callback(fig, msg);\n",
       "            } catch (e) {\n",
       "                console.log(\"Exception inside the 'handler_\" + msg_type + \"' callback:\", e, e.stack, msg);\n",
       "            }\n",
       "        }\n",
       "    };\n",
       "}\n",
       "\n",
       "// from http://stackoverflow.com/questions/1114465/getting-mouse-location-in-canvas\n",
       "mpl.findpos = function(e) {\n",
       "    //this section is from http://www.quirksmode.org/js/events_properties.html\n",
       "    var targ;\n",
       "    if (!e)\n",
       "        e = window.event;\n",
       "    if (e.target)\n",
       "        targ = e.target;\n",
       "    else if (e.srcElement)\n",
       "        targ = e.srcElement;\n",
       "    if (targ.nodeType == 3) // defeat Safari bug\n",
       "        targ = targ.parentNode;\n",
       "\n",
       "    // jQuery normalizes the pageX and pageY\n",
       "    // pageX,Y are the mouse positions relative to the document\n",
       "    // offset() returns the position of the element relative to the document\n",
       "    var x = e.pageX - $(targ).offset().left;\n",
       "    var y = e.pageY - $(targ).offset().top;\n",
       "\n",
       "    return {\"x\": x, \"y\": y};\n",
       "};\n",
       "\n",
       "/*\n",
       " * return a copy of an object with only non-object keys\n",
       " * we need this to avoid circular references\n",
       " * http://stackoverflow.com/a/24161582/3208463\n",
       " */\n",
       "function simpleKeys (original) {\n",
       "  return Object.keys(original).reduce(function (obj, key) {\n",
       "    if (typeof original[key] !== 'object')\n",
       "        obj[key] = original[key]\n",
       "    return obj;\n",
       "  }, {});\n",
       "}\n",
       "\n",
       "mpl.figure.prototype.mouse_event = function(event, name) {\n",
       "    var canvas_pos = mpl.findpos(event)\n",
       "\n",
       "    if (name === 'button_press')\n",
       "    {\n",
       "        this.canvas.focus();\n",
       "        this.canvas_div.focus();\n",
       "    }\n",
       "\n",
       "    var x = canvas_pos.x * mpl.ratio;\n",
       "    var y = canvas_pos.y * mpl.ratio;\n",
       "\n",
       "    this.send_message(name, {x: x, y: y, button: event.button,\n",
       "                             step: event.step,\n",
       "                             guiEvent: simpleKeys(event)});\n",
       "\n",
       "    /* This prevents the web browser from automatically changing to\n",
       "     * the text insertion cursor when the button is pressed.  We want\n",
       "     * to control all of the cursor setting manually through the\n",
       "     * 'cursor' event from matplotlib */\n",
       "    event.preventDefault();\n",
       "    return false;\n",
       "}\n",
       "\n",
       "mpl.figure.prototype._key_event_extra = function(event, name) {\n",
       "    // Handle any extra behaviour associated with a key event\n",
       "}\n",
       "\n",
       "mpl.figure.prototype.key_event = function(event, name) {\n",
       "\n",
       "    // Prevent repeat events\n",
       "    if (name == 'key_press')\n",
       "    {\n",
       "        if (event.which === this._key)\n",
       "            return;\n",
       "        else\n",
       "            this._key = event.which;\n",
       "    }\n",
       "    if (name == 'key_release')\n",
       "        this._key = null;\n",
       "\n",
       "    var value = '';\n",
       "    if (event.ctrlKey && event.which != 17)\n",
       "        value += \"ctrl+\";\n",
       "    if (event.altKey && event.which != 18)\n",
       "        value += \"alt+\";\n",
       "    if (event.shiftKey && event.which != 16)\n",
       "        value += \"shift+\";\n",
       "\n",
       "    value += 'k';\n",
       "    value += event.which.toString();\n",
       "\n",
       "    this._key_event_extra(event, name);\n",
       "\n",
       "    this.send_message(name, {key: value,\n",
       "                             guiEvent: simpleKeys(event)});\n",
       "    return false;\n",
       "}\n",
       "\n",
       "mpl.figure.prototype.toolbar_button_onclick = function(name) {\n",
       "    if (name == 'download') {\n",
       "        this.handle_save(this, null);\n",
       "    } else {\n",
       "        this.send_message(\"toolbar_button\", {name: name});\n",
       "    }\n",
       "};\n",
       "\n",
       "mpl.figure.prototype.toolbar_button_onmouseover = function(tooltip) {\n",
       "    this.message.textContent = tooltip;\n",
       "};\n",
       "mpl.toolbar_items = [[\"Home\", \"Reset original view\", \"fa fa-home icon-home\", \"home\"], [\"Back\", \"Back to  previous view\", \"fa fa-arrow-left icon-arrow-left\", \"back\"], [\"Forward\", \"Forward to next view\", \"fa fa-arrow-right icon-arrow-right\", \"forward\"], [\"\", \"\", \"\", \"\"], [\"Pan\", \"Pan axes with left mouse, zoom with right\", \"fa fa-arrows icon-move\", \"pan\"], [\"Zoom\", \"Zoom to rectangle\", \"fa fa-square-o icon-check-empty\", \"zoom\"], [\"\", \"\", \"\", \"\"], [\"Download\", \"Download plot\", \"fa fa-floppy-o icon-save\", \"download\"]];\n",
       "\n",
       "mpl.extensions = [\"eps\", \"jpeg\", \"pdf\", \"png\", \"ps\", \"raw\", \"svg\", \"tif\"];\n",
       "\n",
       "mpl.default_extension = \"png\";var comm_websocket_adapter = function(comm) {\n",
       "    // Create a \"websocket\"-like object which calls the given IPython comm\n",
       "    // object with the appropriate methods. Currently this is a non binary\n",
       "    // socket, so there is still some room for performance tuning.\n",
       "    var ws = {};\n",
       "\n",
       "    ws.close = function() {\n",
       "        comm.close()\n",
       "    };\n",
       "    ws.send = function(m) {\n",
       "        //console.log('sending', m);\n",
       "        comm.send(m);\n",
       "    };\n",
       "    // Register the callback with on_msg.\n",
       "    comm.on_msg(function(msg) {\n",
       "        //console.log('receiving', msg['content']['data'], msg);\n",
       "        // Pass the mpl event to the overriden (by mpl) onmessage function.\n",
       "        ws.onmessage(msg['content']['data'])\n",
       "    });\n",
       "    return ws;\n",
       "}\n",
       "\n",
       "mpl.mpl_figure_comm = function(comm, msg) {\n",
       "    // This is the function which gets called when the mpl process\n",
       "    // starts-up an IPython Comm through the \"matplotlib\" channel.\n",
       "\n",
       "    var id = msg.content.data.id;\n",
       "    // Get hold of the div created by the display call when the Comm\n",
       "    // socket was opened in Python.\n",
       "    var element = $(\"#\" + id);\n",
       "    var ws_proxy = comm_websocket_adapter(comm)\n",
       "\n",
       "    function ondownload(figure, format) {\n",
       "        window.open(figure.imageObj.src);\n",
       "    }\n",
       "\n",
       "    var fig = new mpl.figure(id, ws_proxy,\n",
       "                           ondownload,\n",
       "                           element.get(0));\n",
       "\n",
       "    // Call onopen now - mpl needs it, as it is assuming we've passed it a real\n",
       "    // web socket which is closed, not our websocket->open comm proxy.\n",
       "    ws_proxy.onopen();\n",
       "\n",
       "    fig.parent_element = element.get(0);\n",
       "    fig.cell_info = mpl.find_output_cell(\"<div id='\" + id + \"'></div>\");\n",
       "    if (!fig.cell_info) {\n",
       "        console.error(\"Failed to find cell for figure\", id, fig);\n",
       "        return;\n",
       "    }\n",
       "\n",
       "    var output_index = fig.cell_info[2]\n",
       "    var cell = fig.cell_info[0];\n",
       "\n",
       "};\n",
       "\n",
       "mpl.figure.prototype.handle_close = function(fig, msg) {\n",
       "    var width = fig.canvas.width/mpl.ratio\n",
       "    fig.root.unbind('remove')\n",
       "\n",
       "    // Update the output cell to use the data from the current canvas.\n",
       "    fig.push_to_output();\n",
       "    var dataURL = fig.canvas.toDataURL();\n",
       "    // Re-enable the keyboard manager in IPython - without this line, in FF,\n",
       "    // the notebook keyboard shortcuts fail.\n",
       "    IPython.keyboard_manager.enable()\n",
       "    $(fig.parent_element).html('<img src=\"' + dataURL + '\" width=\"' + width + '\">');\n",
       "    fig.close_ws(fig, msg);\n",
       "}\n",
       "\n",
       "mpl.figure.prototype.close_ws = function(fig, msg){\n",
       "    fig.send_message('closing', msg);\n",
       "    // fig.ws.close()\n",
       "}\n",
       "\n",
       "mpl.figure.prototype.push_to_output = function(remove_interactive) {\n",
       "    // Turn the data on the canvas into data in the output cell.\n",
       "    var width = this.canvas.width/mpl.ratio\n",
       "    var dataURL = this.canvas.toDataURL();\n",
       "    this.cell_info[1]['text/html'] = '<img src=\"' + dataURL + '\" width=\"' + width + '\">';\n",
       "}\n",
       "\n",
       "mpl.figure.prototype.updated_canvas_event = function() {\n",
       "    // Tell IPython that the notebook contents must change.\n",
       "    IPython.notebook.set_dirty(true);\n",
       "    this.send_message(\"ack\", {});\n",
       "    var fig = this;\n",
       "    // Wait a second, then push the new image to the DOM so\n",
       "    // that it is saved nicely (might be nice to debounce this).\n",
       "    setTimeout(function () { fig.push_to_output() }, 1000);\n",
       "}\n",
       "\n",
       "mpl.figure.prototype._init_toolbar = function() {\n",
       "    var fig = this;\n",
       "\n",
       "    var nav_element = $('<div/>')\n",
       "    nav_element.attr('style', 'width: 100%');\n",
       "    this.root.append(nav_element);\n",
       "\n",
       "    // Define a callback function for later on.\n",
       "    function toolbar_event(event) {\n",
       "        return fig.toolbar_button_onclick(event['data']);\n",
       "    }\n",
       "    function toolbar_mouse_event(event) {\n",
       "        return fig.toolbar_button_onmouseover(event['data']);\n",
       "    }\n",
       "\n",
       "    for(var toolbar_ind in mpl.toolbar_items){\n",
       "        var name = mpl.toolbar_items[toolbar_ind][0];\n",
       "        var tooltip = mpl.toolbar_items[toolbar_ind][1];\n",
       "        var image = mpl.toolbar_items[toolbar_ind][2];\n",
       "        var method_name = mpl.toolbar_items[toolbar_ind][3];\n",
       "\n",
       "        if (!name) { continue; };\n",
       "\n",
       "        var button = $('<button class=\"btn btn-default\" href=\"#\" title=\"' + name + '\"><i class=\"fa ' + image + ' fa-lg\"></i></button>');\n",
       "        button.click(method_name, toolbar_event);\n",
       "        button.mouseover(tooltip, toolbar_mouse_event);\n",
       "        nav_element.append(button);\n",
       "    }\n",
       "\n",
       "    // Add the status bar.\n",
       "    var status_bar = $('<span class=\"mpl-message\" style=\"text-align:right; float: right;\"/>');\n",
       "    nav_element.append(status_bar);\n",
       "    this.message = status_bar[0];\n",
       "\n",
       "    // Add the close button to the window.\n",
       "    var buttongrp = $('<div class=\"btn-group inline pull-right\"></div>');\n",
       "    var button = $('<button class=\"btn btn-mini btn-primary\" href=\"#\" title=\"Stop Interaction\"><i class=\"fa fa-power-off icon-remove icon-large\"></i></button>');\n",
       "    button.click(function (evt) { fig.handle_close(fig, {}); } );\n",
       "    button.mouseover('Stop Interaction', toolbar_mouse_event);\n",
       "    buttongrp.append(button);\n",
       "    var titlebar = this.root.find($('.ui-dialog-titlebar'));\n",
       "    titlebar.prepend(buttongrp);\n",
       "}\n",
       "\n",
       "mpl.figure.prototype._root_extra_style = function(el){\n",
       "    var fig = this\n",
       "    el.on(\"remove\", function(){\n",
       "\tfig.close_ws(fig, {});\n",
       "    });\n",
       "}\n",
       "\n",
       "mpl.figure.prototype._canvas_extra_style = function(el){\n",
       "    // this is important to make the div 'focusable\n",
       "    el.attr('tabindex', 0)\n",
       "    // reach out to IPython and tell the keyboard manager to turn it's self\n",
       "    // off when our div gets focus\n",
       "\n",
       "    // location in version 3\n",
       "    if (IPython.notebook.keyboard_manager) {\n",
       "        IPython.notebook.keyboard_manager.register_events(el);\n",
       "    }\n",
       "    else {\n",
       "        // location in version 2\n",
       "        IPython.keyboard_manager.register_events(el);\n",
       "    }\n",
       "\n",
       "}\n",
       "\n",
       "mpl.figure.prototype._key_event_extra = function(event, name) {\n",
       "    var manager = IPython.notebook.keyboard_manager;\n",
       "    if (!manager)\n",
       "        manager = IPython.keyboard_manager;\n",
       "\n",
       "    // Check for shift+enter\n",
       "    if (event.shiftKey && event.which == 13) {\n",
       "        this.canvas_div.blur();\n",
       "        event.shiftKey = false;\n",
       "        // Send a \"J\" for go to next cell\n",
       "        event.which = 74;\n",
       "        event.keyCode = 74;\n",
       "        manager.command_mode();\n",
       "        manager.handle_keydown(event);\n",
       "    }\n",
       "}\n",
       "\n",
       "mpl.figure.prototype.handle_save = function(fig, msg) {\n",
       "    fig.ondownload(fig, null);\n",
       "}\n",
       "\n",
       "\n",
       "mpl.find_output_cell = function(html_output) {\n",
       "    // Return the cell and output element which can be found *uniquely* in the notebook.\n",
       "    // Note - this is a bit hacky, but it is done because the \"notebook_saving.Notebook\"\n",
       "    // IPython event is triggered only after the cells have been serialised, which for\n",
       "    // our purposes (turning an active figure into a static one), is too late.\n",
       "    var cells = IPython.notebook.get_cells();\n",
       "    var ncells = cells.length;\n",
       "    for (var i=0; i<ncells; i++) {\n",
       "        var cell = cells[i];\n",
       "        if (cell.cell_type === 'code'){\n",
       "            for (var j=0; j<cell.output_area.outputs.length; j++) {\n",
       "                var data = cell.output_area.outputs[j];\n",
       "                if (data.data) {\n",
       "                    // IPython >= 3 moved mimebundle to data attribute of output\n",
       "                    data = data.data;\n",
       "                }\n",
       "                if (data['text/html'] == html_output) {\n",
       "                    return [cell, data, j];\n",
       "                }\n",
       "            }\n",
       "        }\n",
       "    }\n",
       "}\n",
       "\n",
       "// Register the function which deals with the matplotlib target/channel.\n",
       "// The kernel may be null if the page has been refreshed.\n",
       "if (IPython.notebook.kernel != null) {\n",
       "    IPython.notebook.kernel.comm_manager.register_target('matplotlib', mpl.mpl_figure_comm);\n",
       "}\n"
      ],
      "text/plain": [
       "<IPython.core.display.Javascript object>"
      ]
     },
     "metadata": {},
     "output_type": "display_data"
    },
    {
     "data": {
      "text/html": [
       "<img src=\"data:image/png;base64,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\" width=\"640\">"
      ],
      "text/plain": [
       "<IPython.core.display.HTML object>"
      ]
     },
     "metadata": {},
     "output_type": "display_data"
    }
   ],
   "source": [
    "%matplotlib notebook\n",
    "import matplotlib.pyplot as plt\n",
    "fig, ax = plt.subplots()\n",
    "x = [0, 1, 2, 3,  4,  5,  6,  7,  8,  9]\n",
    "y = [0, 1, 4, 9, 16, 25, 36, 49, 64, 81]  # プログラムについて教えていないことになっているので要素を書き出します。\n",
    "# 前のセルの描画はすでに壊れているのでもう一度呼ぶ\n",
    "ax.plot(x, x)                                   # y = x の直線\n",
    "ax.plot(x, y)                                   # Default で重ね書きします。\n",
    "ax.set_aspect(0.1)                              # 縦横比を指定したいとき\n",
    "plt.savefig(\"sample.png\", bbox_inches=\"tight\")  # グラフのハミ出しを抑制するオプションをいれてある\n",
    "plt.show()"
   ]
  },
  {
   "cell_type": "markdown",
   "metadata": {
    "slideshow": {
     "slide_type": "subslide"
    }
   },
   "source": [
    "## 練習\n",
    "実行後、保存したファイルを表示してみること。\n",
    "例えば、Jupyter Notebook のファイルブラウザでクリックすれば良い。"
   ]
  }
 ],
 "metadata": {
  "celltoolbar": "Slideshow",
  "kernelspec": {
   "display_name": "Python 3",
   "language": "python",
   "name": "python3"
  },
  "language_info": {
   "codemirror_mode": {
    "name": "ipython",
    "version": 3
   },
   "file_extension": ".py",
   "mimetype": "text/x-python",
   "name": "python",
   "nbconvert_exporter": "python",
   "pygments_lexer": "ipython3",
   "version": "3.6.4"
  }
 },
 "nbformat": 4,
 "nbformat_minor": 2
}
