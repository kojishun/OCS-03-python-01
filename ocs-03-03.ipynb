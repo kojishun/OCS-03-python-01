{
 "cells": [
  {
   "cell_type": "markdown",
   "metadata": {
    "slideshow": {
     "slide_type": "skip"
    }
   },
   "source": [
    "## Python の基本\n",
    "\n",
    "この資料は[The Python Tutorial](https://docs.python.org/3.6/tutorial/index.html#the-python-tutorial)\n",
    "    ([日本語版](https://docs.python.jp/3/tutorial/)) および [Python for Data Analysis:Wrangling with Pandas, Numpy and IPython](http://shop.oreilly.com/product/0636920050896.do)を参考に作成した。  \n",
    "このチュートリアルでは他のプログラミング言語を習得している方を想定し、Python の特徴などを説明する。"
   ]
  },
  {
   "cell_type": "markdown",
   "metadata": {
    "slideshow": {
     "slide_type": "slide"
    }
   },
   "source": [
    "## ミュータブル、イミュータブル(mutable, immutable)なオブジェクト\n",
    "Python プログラミングでは変数・オブジェクトがmutable（可変）あるいはimmutable（不変）かに注意しなければならない。  \n",
    "たとえば、文字列、`\"str\"`　は immutable で変更できない、一方リスト `[\"s\", \"t\", \"r\"]`は mutable で変更可能となっている。"
   ]
  },
  {
   "cell_type": "markdown",
   "metadata": {
    "slideshow": {
     "slide_type": "slide"
    }
   },
   "source": [
    "# Python の組み込み型\n",
    "これまでに説明した、数(int, float)型を含め以下のような組み込み型がある:\n",
    "\n",
    "スカラー型:\n",
    "1. 数\n",
    "1. ブーリアン（真理値判定）\n",
    "1. 文字列\n",
    "1. None  \n",
    "\n",
    "データ構造:\n",
    "1. リスト\n",
    "1. タプル\n",
    "1. 集合\n",
    "1. 辞書"
   ]
  },
  {
   "cell_type": "markdown",
   "metadata": {
    "slideshow": {
     "slide_type": "skip"
    }
   },
   "source": [
    "ここではスカラー型のブーリアン型から説明する。\n",
    "## ブーリアン型\n",
    "条件分岐・ループといった制御構造で重要になる、ブーリアン（ブール、論理値）型は、`True`あるいは `False` の２値をとる。  \n",
    "ブーリアン型の演算子として、`or`, `and`, `not` が用意されている:"
   ]
  },
  {
   "cell_type": "code",
   "execution_count": null,
   "metadata": {
    "slideshow": {
     "slide_type": "skip"
    }
   },
   "outputs": [],
   "source": [
    "# すべて True\n",
    "print(True)\n",
    "\n",
    "print (not False)\n",
    "print (True and True)\n",
    "print (True or False)\n",
    "print (not(False and False))"
   ]
  },
  {
   "cell_type": "markdown",
   "metadata": {
    "slideshow": {
     "slide_type": "slide"
    }
   },
   "source": [
    "### 比較演算子\n",
    "数値の比較演算子、`<`,`<=`, `>`, `>=`, `==`, `!=` はブーリアン型を返す。  \n",
    "また、変数・オブジェクトの同一性を比較する、`is`, `is not`もブーリアン型を返す。\n",
    "\n",
    "詳しくは[リファレンスマニュアル](https://docs.python.jp/3/library/stdtypes.html#comparisons)を参照のこと:"
   ]
  },
  {
   "cell_type": "code",
   "execution_count": null,
   "metadata": {
    "slideshow": {
     "slide_type": "skip"
    }
   },
   "outputs": [],
   "source": [
    "# すべて True\n",
    "print( 1 == 1)\n",
    "print( 1 < 2)\n",
    "print( 1 <= 1)\n",
    "\n",
    "a = 1\n",
    "b = 1\n",
    "print( a is b)\n",
    "c = a\n",
    "print( a is c)\n",
    "\n",
    "# 新しいオブジェクトが生成される\n",
    "c = c + 1\n"
   ]
  },
  {
   "cell_type": "markdown",
   "metadata": {
    "slideshow": {
     "slide_type": "slide"
    }
   },
   "source": [
    "## 文字列型\n",
    "\n",
    "### 既定の文字コード(参考)\n",
    "なにも指定がなければ Python は UTF-8 を既定の文字コードとして扱う。\n",
    "したがって、コメントをはじめとする文字列に日本語も利用することができる。\n",
    "\n",
    "### 文字列\n",
    "プログラム中の文字列は引用符`'`あるいは二重引用符`\"`の囲みで記述する。  \n",
    "引用符はどちらを使ってもよい。  \n",
    "複数行にまたがる文字列は３つの引用符`'''`、あるいは二重引用符`\"\"\"`でブロックを囲む。\n",
    "この場合改行も文字列の文字となることに注意する。"
   ]
  },
  {
   "cell_type": "code",
   "execution_count": null,
   "metadata": {
    "slideshow": {
     "slide_type": "skip"
    }
   },
   "outputs": [],
   "source": [
    "a = \"This is a comment.\"\n",
    "b = \"\"\"\n",
    "    This is a block comennt.\n",
    "    \"\"\"\n",
    "print(a)\n",
    "print(b)"
   ]
  },
  {
   "cell_type": "markdown",
   "metadata": {
    "slideshow": {
     "slide_type": "skip"
    }
   },
   "source": [
    "### エスケープシーケンス\n",
    "\n",
    "いずれかの引用符が文字列中にある場合、バックスラッシュ`\\`でエスケープする。  \n",
    "見やすさのため文字列にない引用符が使われる。  \n",
    "付け加えると、`\\`自身をエスケープするには、２回バックスラッシュを繰り返す。  \n",
    "\n",
    "したがって、以下の `a`,`b` は同じ文字列である:"
   ]
  },
  {
   "cell_type": "code",
   "execution_count": null,
   "metadata": {
    "slideshow": {
     "slide_type": "skip"
    }
   },
   "outputs": [],
   "source": [
    "a = \"I'm a student.\"\n",
    "b = 'I\\'m a student.'\n",
    "\n",
    "a == b"
   ]
  },
  {
   "cell_type": "markdown",
   "metadata": {
    "slideshow": {
     "slide_type": "skip"
    }
   },
   "source": [
    "### raw 表記\n",
    "\n",
    "Windows のディレクトリなど`\\` が多い場合は文字列前に `r` を加える raw 表記が使える:"
   ]
  },
  {
   "cell_type": "code",
   "execution_count": null,
   "metadata": {
    "slideshow": {
     "slide_type": "skip"
    }
   },
   "outputs": [],
   "source": [
    "r'C:\\System\\System32\\command.com'"
   ]
  },
  {
   "cell_type": "markdown",
   "metadata": {
    "slideshow": {
     "slide_type": "skip"
    }
   },
   "source": [
    "### 文字列の連結\n",
    "`+` によって文字列の連結、`*` によって反復する。  \n",
    "引用符で囲った連続する文字列はそのまま連結されるため`+` は不要:"
   ]
  },
  {
   "cell_type": "code",
   "execution_count": null,
   "metadata": {
    "slideshow": {
     "slide_type": "skip"
    }
   },
   "outputs": [],
   "source": [
    "a = \"foo \"\n",
    "b = \"bar \"\n",
    "\n",
    "print(a+b)\n",
    "print(a+b*3)\n",
    "\n",
    "c = \"foo \" \"bar \"\n",
    "d = \"foo \" + \"bar \" \n",
    "print(c)\n",
    "print(d)"
   ]
  },
  {
   "cell_type": "markdown",
   "metadata": {
    "slideshow": {
     "slide_type": "slide"
    }
   },
   "source": [
    "### 文字列のインデックス（添字表現）\n",
    "`[]`内の添字(インデックス)で文字列の位置を指定、文字列の一部を得る。  \n",
    "インデックスに数字のみ与えると、先頭から数えた位置の一文字の文字列を得る。  \n",
    "基本型に*文字*はないことに注意する。  \n",
    "インデックスに負数を与えると末尾から数えた位置となる。  \n",
    "\n",
    "インデックスに`:`を使うことで取り出す範囲を指定することができる（*スライス*）。  \n",
    "`:`の右辺を省略すると 0 (先頭)が、左辺を省略すると文字列の末尾とみなされる:"
   ]
  },
  {
   "cell_type": "code",
   "execution_count": null,
   "metadata": {},
   "outputs": [],
   "source": [
    "alphabet = \"abcdefghijklmnopqrstuvwxyz\"\n",
    "print(alphabet[0], alphabet[1])   # a, b\n",
    "print(alphabet[-1], alphabet[-2]) # z, y\n",
    "\n",
    "print(alphabet[0:3])              # abd\n",
    "print(alphabet[-6:-3])            # uvw\n",
    "\n",
    "print(alphabet[:3])               # abc\n",
    "print(alphabet[-3:])              # xyz\n",
    "\n",
    "print(alphabet[3:0])              # 逆順は空文字列となる"
   ]
  },
  {
   "cell_type": "markdown",
   "metadata": {
    "slideshow": {
     "slide_type": "subslide"
    }
   },
   "source": [
    "ただし、インデックス付きの文字列変数に代入するといった方法で文字列を変更することはできない:"
   ]
  },
  {
   "cell_type": "code",
   "execution_count": null,
   "metadata": {},
   "outputs": [],
   "source": [
    "alphabet = \"abcdefghijklmnopqrstuvwxyz\"\n",
    "alphabet[0]=\"A\"                         # intend to change 1st character"
   ]
  },
  {
   "cell_type": "markdown",
   "metadata": {
    "slideshow": {
     "slide_type": "subslide"
    }
   },
   "source": [
    "このような場合は、文字列を分解してリスト(後述)化し、その一部を置き換え、再結合する:"
   ]
  },
  {
   "cell_type": "code",
   "execution_count": null,
   "metadata": {},
   "outputs": [],
   "source": [
    "alphabet = \"abcdefghijklmnopqrstuvwxyz\"\n",
    "list_alpha = list(alphabet)             # [\"a\", \"b\", \"c\",....]\n",
    "list_alpha[0] = \"A\"                     # [\"a\" -> \"A\", \"b\", \"c\",....]\n",
    "\"\".join(list_alpha)"
   ]
  },
  {
   "cell_type": "markdown",
   "metadata": {},
   "source": [
    "#### 練習問題(文字列型)\n",
    "文字列のインデックスとして `[:]`が与えられたとき、上の`alphabet` のどの範囲が得られるか予想する。\n",
    "実際にセルで試して、予想と合っているか確認する。"
   ]
  },
  {
   "cell_type": "code",
   "execution_count": null,
   "metadata": {},
   "outputs": [],
   "source": [
    "alphabet[:]"
   ]
  },
  {
   "cell_type": "markdown",
   "metadata": {
    "slideshow": {
     "slide_type": "slide"
    }
   },
   "source": [
    "### `str.format()` による整形\n",
    "文字列を整形する `format()`メソッドが用意されている。\n",
    "メソッドを呼び出す文字列には`{}` で囲われた置換フィールドを含む。\n",
    "置換フィールドの数字は引数の順番を示す。\n",
    "インデックスに続く`:`以降に文字列の長さ、型を指定することもできる:"
   ]
  },
  {
   "cell_type": "code",
   "execution_count": 4,
   "metadata": {},
   "outputs": [
    {
     "name": "stdout",
     "output_type": "stream",
     "text": [
      "Apple:10, Orange:20\n",
      "997905.41 JPY 1 BTC\n"
     ]
    }
   ],
   "source": [
    "#引数だけを指定\n",
    "print('Apple:{0}, Orange:{1}'.format(10,20))\n",
    "\n",
    "#次行は先頭の引数は浮動小数点、小数点以下2桁、2番目は文字列、3番目は整数....とする書式\n",
    "complex_format = '{0:.2f} {1:s} {2:d} {3:s}'\n",
    "btc_eu = 7384.5\n",
    "jp_eu = 0.0074\n",
    "print(complex_format.format(btc_eu / jp_eu, 'JPY', 1, 'BTC'))"
   ]
  },
  {
   "cell_type": "markdown",
   "metadata": {
    "slideshow": {
     "slide_type": "slide"
    }
   },
   "source": [
    "### 型変換\n",
    "これまで紹介したスカラー型(数、ブーリアン、文字列)は以下のようにおこなえる。\n",
    "ここで、`type()` は変数の型を返す関数:"
   ]
  },
  {
   "cell_type": "code",
   "execution_count": 8,
   "metadata": {},
   "outputs": [
    {
     "name": "stdout",
     "output_type": "stream",
     "text": [
      "<class 'str'> 3.1415\n"
     ]
    }
   ],
   "source": [
    "sval = '3.1415'    ; print(type(sval), sval)"
   ]
  },
  {
   "cell_type": "code",
   "execution_count": 9,
   "metadata": {},
   "outputs": [
    {
     "name": "stdout",
     "output_type": "stream",
     "text": [
      "<class 'float'> 3.1415\n"
     ]
    }
   ],
   "source": [
    "fval = float(sval) ; print(type(fval), sval)"
   ]
  },
  {
   "cell_type": "code",
   "execution_count": 10,
   "metadata": {},
   "outputs": [
    {
     "name": "stdout",
     "output_type": "stream",
     "text": [
      "<class 'str'> 3.1415\n"
     ]
    }
   ],
   "source": [
    "s2val = str(fval)  ; print(type(s2val), s2val)"
   ]
  },
  {
   "cell_type": "code",
   "execution_count": 11,
   "metadata": {},
   "outputs": [
    {
     "name": "stdout",
     "output_type": "stream",
     "text": [
      "<class 'int'> 3\n"
     ]
    }
   ],
   "source": [
    "val = int(fval)    ; print(type(val), val)"
   ]
  },
  {
   "cell_type": "code",
   "execution_count": 12,
   "metadata": {},
   "outputs": [
    {
     "name": "stdout",
     "output_type": "stream",
     "text": [
      "<class 'bool'> True\n"
     ]
    }
   ],
   "source": [
    "val = bool(fval)   ; print(type(val), val)"
   ]
  },
  {
   "cell_type": "code",
   "execution_count": 13,
   "metadata": {},
   "outputs": [
    {
     "name": "stdout",
     "output_type": "stream",
     "text": [
      "<class 'complex'> (3.1415+0j)\n"
     ]
    }
   ],
   "source": [
    "cval = complex(fval); print(type(cval), cval)"
   ]
  },
  {
   "cell_type": "markdown",
   "metadata": {},
   "source": [
    "### 日付・時刻\n",
    "\n",
    "基本型ではないが、`datetime`モジュールは、日付・時刻をあつかう`datetime`, `date`, `time`　型を提供する。  \n",
    "日付・時刻には様々な書式がある、多様な書式に対応するには `datetime.strptime(文字列,書式)` が有用である。  \n",
    "詳細については[リファレンスマニュアル](https://docs.python.jp/3/library/datetime.html)を参照のこと:"
   ]
  },
  {
   "cell_type": "code",
   "execution_count": null,
   "metadata": {},
   "outputs": [],
   "source": [
    "from datetime import datetime, date, time\n",
    "dt = datetime(2018,4,1, 23, 50, 20)\n",
    "\n",
    "print(dt.date())                                 # 日付部分のみとりだす\n",
    "print(dt.time())                                 # 時刻部分のみとりだす\n",
    "\n",
    "                                                 # 同じ日時だが書式が違う、コンピュータの地域設定によってはエラーになるかもしれない\n",
    "print(datetime.strptime(\n",
    "    \"2018/4/1 23:50:20\", \"%Y/%m/%d %H:%M:%S\"))\n",
    "print(datetime.strptime(\n",
    "    \"11PM 50:20 April 1, 2018\", \"%I%p %M:%S %B %d, %Y\"))"
   ]
  }
 ],
 "metadata": {
  "celltoolbar": "Slideshow",
  "kernelspec": {
   "display_name": "Python 3",
   "language": "python",
   "name": "python3"
  },
  "language_info": {
   "codemirror_mode": {
    "name": "ipython",
    "version": 3
   },
   "file_extension": ".py",
   "mimetype": "text/x-python",
   "name": "python",
   "nbconvert_exporter": "python",
   "pygments_lexer": "ipython3",
   "version": "3.6.4"
  }
 },
 "nbformat": 4,
 "nbformat_minor": 2
}
