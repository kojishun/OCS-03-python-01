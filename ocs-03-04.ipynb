{
 "cells": [
  {
   "cell_type": "markdown",
   "metadata": {
    "slideshow": {
     "slide_type": "skip"
    }
   },
   "source": [
    "## Python の基本\n",
    "この資料は[The Python Tutorial](https://docs.python.org/3.6/tutorial/index.html#the-python-tutorial)\n",
    "    ([日本語版](https://docs.python.jp/3/tutorial/)) および [Python for Data Analysis:Wrangling with Pandas, Numpy and IPython](http://shop.oreilly.com/product/0636920050896.do)を参考に作成した。  \n",
    "このチュートリアルでは他のプログラミング言語を習得している方を想定し、Python の特徴などを説明する。"
   ]
  },
  {
   "cell_type": "markdown",
   "metadata": {
    "slideshow": {
     "slide_type": "skip"
    }
   },
   "source": [
    "## Python の組み込み型(再掲)\n",
    "前述したとおり、Python には以下のような組み込み型がある:\n",
    "\n",
    "スカラー型:\n",
    "1. 数\n",
    "1. ブーリアン（真理値判定）\n",
    "1. 文字列\n",
    "1. None  \n",
    "\n",
    "データ構造:\n",
    "1. リスト\n",
    "1. タプル\n",
    "1. 集合\n",
    "1. 辞書\n",
    "\n",
    "ここではリスト型から説明する:"
   ]
  },
  {
   "cell_type": "markdown",
   "metadata": {
    "slideshow": {
     "slide_type": "slide"
    }
   },
   "source": [
    "### リスト型\n",
    "リストはオブジェクトの配列(sequence)で、リストの長さおよび要素は変更可能（mutable）。  \n",
    "リストは`[]`で囲い、コンマ区切りで要素を記述する。  \n",
    "リスト要素の型に制約はなく、同じリストに異なる型を混在させることもできる:"
   ]
  },
  {
   "cell_type": "code",
   "execution_count": 3,
   "metadata": {},
   "outputs": [
    {
     "name": "stdout",
     "output_type": "stream",
     "text": [
      "1. ['Apple', 1, 0.75]\n",
      "2. Apple 1 0.75\n",
      "3. 0.75 [1]\n",
      "4. []\n",
      "5. ['a', 'b', 'c', 'd']\n"
     ]
    }
   ],
   "source": [
    "list_a = [\"Apple\", 1, 3/4]                   # 文字列、整数、浮動小数点が混在したリスト\n",
    "print(\"1.\", list_a)\n",
    "print(\"2.\", list_a[0], list_a[1], list_a[2])       # 文字列型のような添字\n",
    "print(\"3.\", list_a[-1], list_a[1:2])               # 負の添字、スライスも使えます\n",
    "\n",
    "list_b = []                                  # 空のリスト、要素はこの後の処理で追加される（おそらく）\n",
    "print(\"4.\", list_b)\n",
    "\n",
    "list_c = list(\"abcd\")                        # 文字列をリストに型変換（既出）\n",
    "print(\"5.\", list_c)"
   ]
  },
  {
   "cell_type": "markdown",
   "metadata": {
    "slideshow": {
     "slide_type": "slide"
    }
   },
   "source": [
    "リストもオブジェクトですので、リストの要素とすることもできます。  \n",
    "つまりリストの入れ子（ネスト）も扱えます。下記の例は 2 次元の 3x3 のリストです:"
   ]
  },
  {
   "cell_type": "code",
   "execution_count": 99,
   "metadata": {},
   "outputs": [
    {
     "data": {
      "text/plain": [
       "[[0, 1, 2], [3, 4, 5], [6, 7, 8]]"
      ]
     },
     "execution_count": 99,
     "metadata": {},
     "output_type": "execute_result"
    }
   ],
   "source": [
    "[[0, 1 , 2], [3, 4 , 5], [6, 7, 8]]"
   ]
  },
  {
   "cell_type": "markdown",
   "metadata": {
    "slideshow": {
     "slide_type": "slide"
    }
   },
   "source": [
    "リストの要素を変更する組み込み関数・メソッドとして以下がある:\n",
    "\n",
    "1. 長さを知るには `len(リスト)` （下記 1.）\n",
    "1. 要素を追加するには `list.append(要素)` （下記 2.） \n",
    "1. 要素を指定した位置に追加するには `list.insert(インデックス,要素)`  （下記 3.）\n",
    "1. 要素を削除するには `list.remove(要素)` 要素が複数ある場合はリスト先頭側が削除される（下記 4.）\n",
    "1. 要素を指定した位置から削除するには `list.pop(インデックス)` 戻り値は削除された要素  （下記 5.）"
   ]
  },
  {
   "cell_type": "code",
   "execution_count": 1,
   "metadata": {},
   "outputs": [
    {
     "name": "stdout",
     "output_type": "stream",
     "text": [
      "1. 5\n",
      "2. ['foo', 'bar', 'baz', 'qux', 'quux', 'corge']\n",
      "3. ['foo', 'bar', 'baz', 'foo', 'qux', 'quux', 'corge']\n",
      "4. ['bar', 'baz', 'foo', 'qux', 'quux', 'corge']\n",
      "5. foo\n",
      "6. ['bar', 'baz', 'qux', 'quux', 'corge']\n"
     ]
    }
   ],
   "source": [
    "foo_bar1 = [\"foo\", \"bar\", \"baz\", \"qux\", \"quux\"] # \"corge\", \"grault\", \"garply\",\"waldo\", \"fred\", \"plugh\", \"xyzzy\", \"thud\" とつづく\n",
    "print(\"1.\", len(foo_bar1))\n",
    "\n",
    "foo_bar1.append(\"corge\")\n",
    "print(\"2.\", foo_bar1)\n",
    "\n",
    "foo_bar1.insert(3, \"foo\")                       # 3 番目に \"foo\" を挿入\n",
    "print(\"3.\", foo_bar1)\n",
    "\n",
    "foo_bar1.remove(\"foo\")                          # \"foo\" を削除、先頭の \"foo\" だけが削除される\n",
    "print(\"4.\", foo_bar1)\n",
    "print(\"5.\", foo_bar1.pop(2))                    # \"2\" 番目を削除、要素を出力\n",
    "print(\"6.\", foo_bar1)"
   ]
  },
  {
   "cell_type": "markdown",
   "metadata": {
    "slideshow": {
     "slide_type": "slide"
    }
   },
   "source": [
    "リスト中の要素の有無を検査するには `in` または `not in` 演算子を使う。  \n",
    "`in`演算子の左辺の要素があれば `True` を、その他では `False` を返し、 \n",
    "`not in` では逆を返す。(下記 1-4)\n",
    "\n",
    "要素の位置まで知るには `list.index(要素)` を、要素の数は`list.count(要素)` を使う。(下記 5-6)  \n",
    "いずれも該当する要素がなければ、エラーとなるので注意:"
   ]
  },
  {
   "cell_type": "code",
   "execution_count": 15,
   "metadata": {},
   "outputs": [
    {
     "name": "stdout",
     "output_type": "stream",
     "text": [
      "1. True\n",
      "2. True\n",
      "3. False\n",
      "4. True\n",
      "5. 2\n",
      "6. 1\n"
     ]
    }
   ],
   "source": [
    "foo_bar2 = [\"foo\", \"bar\", \"baz\"] \n",
    "print(\"1.\", \"foo\" in foo_bar2)\n",
    "print(\"2.\", \"baz\" in foo_bar2)\n",
    "\n",
    "print(\"3.\", \"qux\" in foo_bar2)\n",
    "print(\"4.\", \"qux\" not in foo_bar2)\n",
    "\n",
    "print(\"5.\", foo_bar2.index(\"baz\"))\n",
    "print(\"6.\", foo_bar2.count(\"bar\"))"
   ]
  },
  {
   "cell_type": "markdown",
   "metadata": {
    "slideshow": {
     "slide_type": "slide"
    }
   },
   "source": [
    "リストは、文字列同様に`+`演算子で結合させることができる。\n",
    "リスト変数がすでに定義されているときは、そのリストを拡張する`list.extend(リスト)`も使える。\n",
    "\n",
    "付け加えると、上の例で、A. B. とも同じリストを返しますが、A. の方がより多くの資源を必要とするため、B. の方が好ましい。"
   ]
  },
  {
   "cell_type": "code",
   "execution_count": 105,
   "metadata": {},
   "outputs": [
    {
     "name": "stdout",
     "output_type": "stream",
     "text": [
      "['foo', 'bar', 'baz', 'qux']\n",
      "['foo', 'bar', 'baz', 'qux']\n",
      "['foo', 'bar', 'baz', 'qux']\n"
     ]
    }
   ],
   "source": [
    "print([\"foo\", \"bar\"]+[\"baz\", \"qux\"])\n",
    "foo_bar = [\"foo\", \"bar\"]\n",
    "\n",
    "foo_bar2 = foo_bar + [\"baz\", \"qux\"]       # A. あらたにリストが作られます\n",
    "print(foo_bar2)\n",
    "\n",
    "foo_bar.extend([\"baz\", \"qux\"])            # B. 既存のリストを拡張します、Python ではこちらが推奨される\n",
    "print(foo_bar)"
   ]
  },
  {
   "cell_type": "markdown",
   "metadata": {
    "slideshow": {
     "slide_type": "slide"
    }
   },
   "source": [
    "逆に代入`=` では左辺に変数を`,`区切りで並べ、リスト要素を分解できる。(下記 1.,5.)  \n",
    "左辺の変数列に `*_` があれば未分解の要素はこれに代入される。(下記 2-4)  \n",
    "おなじ記法で変数の値も交換できる（プログラム言語によっては一時変数が必要)(下記 6, 7):"
   ]
  },
  {
   "cell_type": "code",
   "execution_count": 18,
   "metadata": {},
   "outputs": [
    {
     "name": "stdout",
     "output_type": "stream",
     "text": [
      "1. Apple 1 0.75 青森\n",
      "2. Apple\n",
      "3. 1 0.75 青森\n",
      "4. Apple 青森\n",
      "5. Orange 2 0.75 0.625 和歌山\n",
      "6. 1 0\n",
      "7. 0 1\n"
     ]
    }
   ],
   "source": [
    "list_a = [\"Apple\", 1, 3/4, \"青森\"]\n",
    "fruite, number, weight, origin = list_a              #リスト要素を分解して代入、要素数は合わせること\n",
    "print(\"1.\", fruite, number, weight, origin)\n",
    "\n",
    "fruite_a, *_ = list_a                                # *_ を使えば要素数を合っていなくても良い\n",
    "print(\"2.\", fruite_a)\n",
    "*_, number_b, weight_b, origin_b = list_a                  # *_ は冒頭、途中でも可能\n",
    "print(\"3.\", number_b, weight_b, origin_b)\n",
    "fruite_c, *_, origin_c = list_a\n",
    "print(\"4.\", fruite_c, origin_c)\n",
    "\n",
    "\n",
    "list_o = [\"Orange\", 2, [3/4, 5/8], \"和歌山\"]\n",
    "fruite_d, number_d, [weight1, weight2], origin_d = list_o #入れ子の場合、リストの構造とあわせること\n",
    "print(\"5.\", fruite_d, number_d, weight1, weight2, origin_d) \n",
    "\n",
    "a = 1\n",
    "b = 0\n",
    "print(\"6.\", a, b)\n",
    "a,b = b,a                                           # a, b を交換する、C では tmp = a; a = b ; b = tmp; となる \n",
    "print(\"7.\", a, b)"
   ]
  },
  {
   "cell_type": "markdown",
   "metadata": {},
   "source": [
    "リストを並べ替えるメソッドとして以下のようなものがある:\n",
    "\n",
    "- リストの順番を逆にするには　`list.reverse()`(下記 1.)  \n",
    "- リストを昇順にソートするには `list.sort()`    \n",
    "    `list.sort(key=ソートキー)`でソートキー（大小を判断する基準）を指定することもできる(下記 2-3)  \n",
    "これらは、インプレースなメソッドであり元のリストは書き換えられる。\n",
    "\n",
    "元のリストを残したい場合は `sorted(リスト)` でリストを作る(下記 4):"
   ]
  },
  {
   "cell_type": "code",
   "execution_count": 22,
   "metadata": {},
   "outputs": [
    {
     "name": "stdout",
     "output_type": "stream",
     "text": [
      "1. [3, 4, 2, 5, 1, 6, 0, 7]\n",
      "2. ['The', 'brown', 'fox', 'jumps', 'quick']\n",
      "3. ['The', 'fox', 'brown', 'jumps', 'quick']\n",
      "4. [7, 0, 6, 1, 5, 2, 4, 3] [0, 1, 2, 3, 4, 5, 6, 7]\n"
     ]
    }
   ],
   "source": [
    "numbers_a = [ 7, 0, 6, 1, 5, 2, 4, 3]\n",
    "numbers_a.reverse()\n",
    "print(\"1.\", numbers_a)\n",
    "\n",
    "strings_b = [\"The\", \"quick\", \"brown\", \"fox\", \"jumps\"]\n",
    "strings_b.sort()\n",
    "print(\"2.\", strings_b)                  # A-Za-z の順番\n",
    "strings_b.sort(key=len)                   # 単語の短い順\n",
    "print(\"3.\", strings_b)\n",
    "\n",
    "numbers_c = [ 7, 0, 6, 1, 5, 2, 4, 3]\n",
    "numbers_d = sorted(numbers_c)\n",
    "print(\"4.\", numbers_c, numbers_d)\n"
   ]
  },
  {
   "cell_type": "markdown",
   "metadata": {
    "slideshow": {
     "slide_type": "slide"
    }
   },
   "source": [
    "### リスト内包表記\n",
    "\n",
    "Python では内包表記(complehensive)が利用できる。内包表記も Python の特徴の一つである。  \n",
    "Python 初心者は内包表記を使いこなす必要はないが、プログラムに現れた場合驚かないこと。  \n",
    "たとえば、0 - 5 までの整数の自乗を要素にもつリストは以下のように得ることができる。:"
   ]
  },
  {
   "cell_type": "code",
   "execution_count": 26,
   "metadata": {
    "slideshow": {
     "slide_type": "slide"
    }
   },
   "outputs": [
    {
     "data": {
      "text/plain": [
       "[0, 1, 4, 9, 16, 25]"
      ]
     },
     "execution_count": 26,
     "metadata": {},
     "output_type": "execute_result"
    }
   ],
   "source": [
    "squares1 = []\n",
    "for x in range(6):\n",
    "    squares1.append(x**2) \n",
    "squares1"
   ]
  },
  {
   "cell_type": "markdown",
   "metadata": {
    "slideshow": {
     "slide_type": "slide"
    }
   },
   "source": [
    "`squares` として `[0, 1, 4, 9, 16, 25]` が得られる。  \n",
    "これを内包表記を用いて書き換えると、以下のように一行で書けプログラムが読みやすくなる:"
   ]
  },
  {
   "cell_type": "code",
   "execution_count": 25,
   "metadata": {
    "slideshow": {
     "slide_type": "slide"
    }
   },
   "outputs": [
    {
     "data": {
      "text/plain": [
       "[0, 1, 4, 9, 16, 25]"
      ]
     },
     "execution_count": 25,
     "metadata": {},
     "output_type": "execute_result"
    }
   ],
   "source": [
    "squares2 = [x**2 for x in range(6)]\n",
    "squares2"
   ]
  },
  {
   "cell_type": "markdown",
   "metadata": {
    "slideshow": {
     "slide_type": "slide"
    }
   },
   "source": [
    "内包表記をネスト（入れ子）にすることも可能である:"
   ]
  },
  {
   "cell_type": "code",
   "execution_count": null,
   "metadata": {
    "slideshow": {
     "slide_type": "slide"
    }
   },
   "outputs": [],
   "source": [
    "table =  [[x*y for y in range(3)] for x in range(3)]\n",
    "vector = [x*y for y in range(3) for x in range(3)]"
   ]
  },
  {
   "cell_type": "markdown",
   "metadata": {
    "slideshow": {
     "slide_type": "slide"
    }
   },
   "source": [
    "内包表記は`for`に加えて`if`を使うこともできる:"
   ]
  },
  {
   "cell_type": "code",
   "execution_count": 29,
   "metadata": {
    "slideshow": {
     "slide_type": "slide"
    }
   },
   "outputs": [
    {
     "data": {
      "text/plain": [
       "[3, 3, 8, 7]"
      ]
     },
     "execution_count": 29,
     "metadata": {},
     "output_type": "execute_result"
    }
   ],
   "source": [
    "words = [\"cat\", \"dog\", \"elephant\", None, \"giraffe\"]\n",
    "lengths = [len(w) for w in words if w != None]\n",
    "lengths"
   ]
  },
  {
   "cell_type": "markdown",
   "metadata": {},
   "source": [
    "上記で `if` を使わないと、`None` の長さを取得する際にエラーになる。:"
   ]
  },
  {
   "cell_type": "code",
   "execution_count": 30,
   "metadata": {},
   "outputs": [
    {
     "ename": "TypeError",
     "evalue": "object of type 'NoneType' has no len()",
     "output_type": "error",
     "traceback": [
      "\u001b[0;31m---------------------------------------------------------------------------\u001b[0m",
      "\u001b[0;31mTypeError\u001b[0m                                 Traceback (most recent call last)",
      "\u001b[0;32m<ipython-input-30-defd7322a98c>\u001b[0m in \u001b[0;36m<module>\u001b[0;34m()\u001b[0m\n\u001b[1;32m      1\u001b[0m \u001b[0mwords\u001b[0m \u001b[0;34m=\u001b[0m \u001b[0;34m[\u001b[0m\u001b[0;34m\"cat\"\u001b[0m\u001b[0;34m,\u001b[0m \u001b[0;34m\"dog\"\u001b[0m\u001b[0;34m,\u001b[0m \u001b[0;34m\"elephant\"\u001b[0m\u001b[0;34m,\u001b[0m \u001b[0;32mNone\u001b[0m\u001b[0;34m,\u001b[0m \u001b[0;34m\"giraffe\"\u001b[0m\u001b[0;34m]\u001b[0m\u001b[0;34m\u001b[0m\u001b[0m\n\u001b[0;32m----> 2\u001b[0;31m \u001b[0mlengths2\u001b[0m \u001b[0;34m=\u001b[0m \u001b[0;34m[\u001b[0m\u001b[0mlen\u001b[0m\u001b[0;34m(\u001b[0m\u001b[0mw\u001b[0m\u001b[0;34m)\u001b[0m \u001b[0;32mfor\u001b[0m \u001b[0mw\u001b[0m \u001b[0;32min\u001b[0m \u001b[0mwords\u001b[0m\u001b[0;34m]\u001b[0m\u001b[0;34m\u001b[0m\u001b[0m\n\u001b[0m\u001b[1;32m      3\u001b[0m \u001b[0mlengths2\u001b[0m\u001b[0;34m\u001b[0m\u001b[0m\n",
      "\u001b[0;32m<ipython-input-30-defd7322a98c>\u001b[0m in \u001b[0;36m<listcomp>\u001b[0;34m(.0)\u001b[0m\n\u001b[1;32m      1\u001b[0m \u001b[0mwords\u001b[0m \u001b[0;34m=\u001b[0m \u001b[0;34m[\u001b[0m\u001b[0;34m\"cat\"\u001b[0m\u001b[0;34m,\u001b[0m \u001b[0;34m\"dog\"\u001b[0m\u001b[0;34m,\u001b[0m \u001b[0;34m\"elephant\"\u001b[0m\u001b[0;34m,\u001b[0m \u001b[0;32mNone\u001b[0m\u001b[0;34m,\u001b[0m \u001b[0;34m\"giraffe\"\u001b[0m\u001b[0;34m]\u001b[0m\u001b[0;34m\u001b[0m\u001b[0m\n\u001b[0;32m----> 2\u001b[0;31m \u001b[0mlengths2\u001b[0m \u001b[0;34m=\u001b[0m \u001b[0;34m[\u001b[0m\u001b[0mlen\u001b[0m\u001b[0;34m(\u001b[0m\u001b[0mw\u001b[0m\u001b[0;34m)\u001b[0m \u001b[0;32mfor\u001b[0m \u001b[0mw\u001b[0m \u001b[0;32min\u001b[0m \u001b[0mwords\u001b[0m\u001b[0;34m]\u001b[0m\u001b[0;34m\u001b[0m\u001b[0m\n\u001b[0m\u001b[1;32m      3\u001b[0m \u001b[0mlengths2\u001b[0m\u001b[0;34m\u001b[0m\u001b[0m\n",
      "\u001b[0;31mTypeError\u001b[0m: object of type 'NoneType' has no len()"
     ]
    }
   ],
   "source": [
    "words = [\"cat\", \"dog\", \"elephant\", None, \"giraffe\"]\n",
    "lengths2 = [len(w) for w in words]\n",
    "lengths2"
   ]
  },
  {
   "cell_type": "markdown",
   "metadata": {
    "slideshow": {
     "slide_type": "slide"
    }
   },
   "source": [
    "### タプル(tuple)型\n",
    "タプルはオブジェクトの配列(sequence)だが、リストと異なり変更することはできない(immutable)。\n",
    "タプルは`()`で囲い、コンマ区切りで要素を記述する。要素の変更を伴わない機能はリストとほぼ同じ:"
   ]
  },
  {
   "cell_type": "code",
   "execution_count": 31,
   "metadata": {},
   "outputs": [
    {
     "name": "stdout",
     "output_type": "stream",
     "text": [
      "1. ('Apple', 1, 0.75)\n",
      "2. Apple 1 0.75\n",
      "3. 3\n",
      "4. True\n",
      "5. 2\n",
      "6. 1\n",
      "7. Apple 1 0.75\n"
     ]
    }
   ],
   "source": [
    "tuple_a = (\"Apple\", 1, 3/4)                    # 文字列、整数、浮動小数点が混在したタプル\n",
    "print(\"1.\", tuple_a)\n",
    "print(\"2.\", tuple_a[0], tuple_a[1], tuple_a[2])      # 文字列型のような添字\n",
    "\n",
    "print(\"3.\", len(tuple_a))\n",
    "\n",
    "print(\"4.\", \"Apple\" in tuple_a)\n",
    "print(\"5.\", tuple_a.index(3/4))\n",
    "print(\"6.\", tuple_a.count(\"Apple\"))\n",
    "\n",
    "fruite, number, weight = tuple_a\n",
    "print(\"7.\", fruite, number, weight)"
   ]
  },
  {
   "cell_type": "markdown",
   "metadata": {},
   "source": [
    "タプルの要素を変更するには、`list(タプル)`でリストを生成し、\n",
    "要素を更新後`tuple(リスト)`に戻せばよい:"
   ]
  },
  {
   "cell_type": "code",
   "execution_count": 32,
   "metadata": {},
   "outputs": [
    {
     "ename": "TypeError",
     "evalue": "'tuple' object does not support item assignment",
     "output_type": "error",
     "traceback": [
      "\u001b[0;31m---------------------------------------------------------------------------\u001b[0m",
      "\u001b[0;31mTypeError\u001b[0m                                 Traceback (most recent call last)",
      "\u001b[0;32m<ipython-input-32-79657b5a96bc>\u001b[0m in \u001b[0;36m<module>\u001b[0;34m()\u001b[0m\n\u001b[1;32m      1\u001b[0m \u001b[0mtuple_a\u001b[0m \u001b[0;34m=\u001b[0m \u001b[0;34m(\u001b[0m\u001b[0;34m\"Apple\"\u001b[0m\u001b[0;34m,\u001b[0m \u001b[0;36m1\u001b[0m\u001b[0;34m,\u001b[0m \u001b[0;36m3\u001b[0m\u001b[0;34m/\u001b[0m\u001b[0;36m4\u001b[0m\u001b[0;34m)\u001b[0m\u001b[0;34m\u001b[0m\u001b[0m\n\u001b[0;32m----> 2\u001b[0;31m \u001b[0mtuple_a\u001b[0m\u001b[0;34m[\u001b[0m\u001b[0;36m0\u001b[0m\u001b[0;34m]\u001b[0m \u001b[0;34m=\u001b[0m \u001b[0;34m\"Orange\"\u001b[0m                \u001b[0;31m# エラーになる。\u001b[0m\u001b[0;34m\u001b[0m\u001b[0m\n\u001b[0m",
      "\u001b[0;31mTypeError\u001b[0m: 'tuple' object does not support item assignment"
     ]
    }
   ],
   "source": [
    "tuple_b = (\"Apple\", 1, 3/4)\n",
    "tuple_b[0] = \"Orange\"                # エラーになる。"
   ]
  },
  {
   "cell_type": "code",
   "execution_count": 35,
   "metadata": {},
   "outputs": [
    {
     "name": "stdout",
     "output_type": "stream",
     "text": [
      "1. ('Apple', 1, 0.75)\n",
      "2. ['Orange', 1, 0.75]\n",
      "3. ('Orange', 1, 0.75)\n"
     ]
    }
   ],
   "source": [
    "tuple_c = (\"Apple\", 1, 3/4)\n",
    "print(\"1.\", tuple_c)\n",
    "list_c = list(tuple_c)\n",
    "list_c[0] = \"Orange\"\n",
    "\n",
    "print(\"2.\", list_c)\n",
    "tuple_c = tuple(list_c)\n",
    "print(\"3.\", tuple_c)"
   ]
  },
  {
   "cell_type": "markdown",
   "metadata": {},
   "source": [
    "### generator 式(参考)\n",
    "Python ではタプル、`()`、で内包表記を利用することはできないが、\n",
    "小括弧内`()`に内包表記（厳密には違う）を記述するとタプルではなく generator オブジェクトがつくられる。\n",
    "\n",
    "したがって、以下のプログラムは動作するがオブジェクト `squares_gen` はタプルではない。\n",
    "\n",
    "---\n",
    "```Python:generator_sample.py\n",
    "squares_gen = (x**2 for x in range(6))\n",
    "for x in squares_gen:\n",
    "    print(x)\n",
    "```"
   ]
  },
  {
   "cell_type": "markdown",
   "metadata": {},
   "source": [
    "### 辞書(dict)型\n",
    "辞書型は重要な Python 組み込みデータ構造である。  \n",
    "一般的にはハッシュあるいは連想配列とも呼ばれる。  \n",
    "辞書は可変長でキーおよび値(key-value)ペアから構成されている。  \n",
    "辞書は`:`で`キー:値`を、`{}`で囲うことで生成することができる。  \n",
    "キーを指定した辞書要素へのアクセスは`辞書[キー]`でおこなう。  \n",
    "削除は `del 辞書[キー]` 式あるいは `辞書.pop(キー)`メソッドでおこなえる:"
   ]
  },
  {
   "cell_type": "code",
   "execution_count": 37,
   "metadata": {},
   "outputs": [
    {
     "name": "stdout",
     "output_type": "stream",
     "text": [
      "1, 100\n",
      "2. 0\n",
      "3. {'apple': 0, 'orange': 200}\n",
      "4. {'apple': 0, 'orange': 200, 'peach': 200}\n",
      "5. {'orange': 200, 'peach': 200}\n",
      "6. {'orange': 200}\n",
      "7. 200\n",
      "8. {}\n"
     ]
    }
   ],
   "source": [
    "dict_a = {\"apple\":100, \"orange\":200}    #\n",
    "\n",
    "print(\"1,\", dict_a[\"apple\"])\n",
    "dict_a[\"apple\"] = 0                     # 辞書の変更\n",
    "print(\"2.\", dict_a[\"apple\"])\n",
    "\n",
    "print(\"3.\", dict_a)\n",
    "dict_a[\"peach\"] = 200                   # 要素の追加\n",
    "print(\"4.\", dict_a)\n",
    "del dict_a[\"apple\"]                     # 要素の削除\n",
    "print(\"5.\", dict_a)\n",
    "\n",
    "number = dict_a.pop(\"peach\")            # 要素を削除し、値を返す\n",
    "print(\"6.\", dict_a)\n",
    "print(\"7.\", number)\n",
    "\n",
    "dict_b = {}                             # 空の辞書も作れる\n",
    "print(\"8.\", dict_b)"
   ]
  },
  {
   "cell_type": "markdown",
   "metadata": {},
   "source": [
    "辞書のキーの有無を検査するには `in` 演算子が使える:"
   ]
  },
  {
   "cell_type": "code",
   "execution_count": 38,
   "metadata": {},
   "outputs": [
    {
     "name": "stdout",
     "output_type": "stream",
     "text": [
      "1. True\n",
      "2. False\n"
     ]
    }
   ],
   "source": [
    "dict_a = {\"apple\":100, \"orange\":200}    #\n",
    "\n",
    "print(\"1.\", \"apple\" in dict_a)\n",
    "print(\"2.\", \"kiwi\" in dict_a)"
   ]
  },
  {
   "cell_type": "markdown",
   "metadata": {},
   "source": [
    "辞書をまとめて更新するには、`辞書.update(辞書)`を使う:"
   ]
  },
  {
   "cell_type": "code",
   "execution_count": 39,
   "metadata": {},
   "outputs": [
    {
     "name": "stdout",
     "output_type": "stream",
     "text": [
      "1. {'apple': 100, 'orange': 200}\n",
      "2. {'apple': 100, 'orange': 200, 'kewi': 300, 'peach': 50}\n",
      "3. {'apple': 0, 'orange': 0, 'kewi': 300, 'peach': 50}\n"
     ]
    }
   ],
   "source": [
    "dict_a = {\"apple\":100, \"orange\":200} \n",
    "print(\"1.\", dict_a)\n",
    "dict_a.update({\"kewi\":300, \"peach\":50})\n",
    "print(\"2.\", dict_a)\n",
    "dict_a.update({\"apple\":0, \"orange\":0})\n",
    "print(\"3.\", dict_a)                          # 既存のキーがあれば値が更新される"
   ]
  },
  {
   "cell_type": "markdown",
   "metadata": {},
   "source": [
    "キーと値が別のリストで与えられるときは、`zip(リスト1, リスト2)`が便利である。"
   ]
  },
  {
   "cell_type": "code",
   "execution_count": 40,
   "metadata": {},
   "outputs": [
    {
     "name": "stdout",
     "output_type": "stream",
     "text": [
      "1. {'apple': 100, 'orange': 200}\n",
      "2. {'apple': 100, 'orange': 200}\n"
     ]
    }
   ],
   "source": [
    "fruite_names = [\"apple\", \"orange\"]\n",
    "fruite_numbers = [100,200]\n",
    "dict_a = {}\n",
    "\n",
    "for key, value in zip(fruite_names, fruite_numbers):  # 普通はこう書く\n",
    "    dict_a[key] = value\n",
    "    \n",
    "print(\"1.\", dict_a)\n",
    "\n",
    "dict_b = dict(zip(fruite_names, fruite_numbers))     # こういう書き方もできる\n",
    "print(\"2.\", dict_b)"
   ]
  },
  {
   "cell_type": "markdown",
   "metadata": {
    "slideshow": {
     "slide_type": "skip"
    }
   },
   "source": [
    "キーに対応する値を返す `辞書.get(キー)`は、キーが存在しなければ `None`を返すが、\n",
    "第二引数に既定値を与え  `辞書.get(キー,既定値)`とすることもできる:"
   ]
  },
  {
   "cell_type": "code",
   "execution_count": 50,
   "metadata": {
    "slideshow": {
     "slide_type": "skip"
    }
   },
   "outputs": [
    {
     "name": "stdout",
     "output_type": "stream",
     "text": [
      "None\n",
      "0\n"
     ]
    }
   ],
   "source": [
    "dict_a = {\"apple\":100, \"orange\":200} \n",
    "print(\"1.\", dict_a.get(\"kiwi\"))              # print None\n",
    "\n",
    "print(\"2.\", dict_a.get(\"kiwi\", 0))           # return default value 0 instead of None"
   ]
  },
  {
   "cell_type": "markdown",
   "metadata": {},
   "source": [
    "#### 辞書のキーの制約\n",
    "\n",
    "辞書型のキーは immutable オブジェクトしかとれないことに注意すること。  \n",
    "つまり数型、文字列型、タプルなどはエラーとならないが、リストは mutable オブジェクトでありキーとすることはできない。\n",
    "以下の最終行はエラーとなる:"
   ]
  },
  {
   "cell_type": "code",
   "execution_count": 41,
   "metadata": {},
   "outputs": [
    {
     "name": "stdout",
     "output_type": "stream",
     "text": [
      "1. {'apple': [100, 200]}\n",
      "2. {'apple', 100}\n",
      "3. {'apple', (100, 200)}\n"
     ]
    },
    {
     "ename": "TypeError",
     "evalue": "unhashable type: 'list'",
     "output_type": "error",
     "traceback": [
      "\u001b[0;31m---------------------------------------------------------------------------\u001b[0m",
      "\u001b[0;31mTypeError\u001b[0m                                 Traceback (most recent call last)",
      "\u001b[0;32m<ipython-input-41-078dc526b83b>\u001b[0m in \u001b[0;36m<module>\u001b[0;34m()\u001b[0m\n\u001b[1;32m      8\u001b[0m \u001b[0mprint\u001b[0m\u001b[0;34m(\u001b[0m\u001b[0;34m\"3.\"\u001b[0m\u001b[0;34m,\u001b[0m \u001b[0mdict_a\u001b[0m\u001b[0;34m)\u001b[0m\u001b[0;34m\u001b[0m\u001b[0m\n\u001b[1;32m      9\u001b[0m \u001b[0;34m\u001b[0m\u001b[0m\n\u001b[0;32m---> 10\u001b[0;31m \u001b[0mdict_a\u001b[0m \u001b[0;34m=\u001b[0m \u001b[0;34m{\u001b[0m\u001b[0;34m[\u001b[0m\u001b[0;36m100\u001b[0m\u001b[0;34m,\u001b[0m \u001b[0;36m200\u001b[0m\u001b[0;34m]\u001b[0m\u001b[0;34m,\u001b[0m \u001b[0;34m\"apple\"\u001b[0m\u001b[0;34m}\u001b[0m    \u001b[0;31m# エラーになります\u001b[0m\u001b[0;34m\u001b[0m\u001b[0m\n\u001b[0m",
      "\u001b[0;31mTypeError\u001b[0m: unhashable type: 'list'"
     ]
    }
   ],
   "source": [
    "dict_a = {\"apple\":[100,200]}      # No error\n",
    "print(\"1.\", dict_a)\n",
    "\n",
    "dict_a = {100, \"apple\"}           # No error\n",
    "print(\"2.\", dict_a)\n",
    "\n",
    "dict_a = {(100,200), \"apple\"}     # No error\n",
    "print(\"3.\", dict_a)\n",
    "\n",
    "dict_a = {[100, 200], \"apple\"}    # エラーになります"
   ]
  },
  {
   "cell_type": "markdown",
   "metadata": {},
   "source": [
    "#### 辞書型の内包表記\n",
    "内包表記は辞書型でも使うことができる:"
   ]
  },
  {
   "cell_type": "code",
   "execution_count": 42,
   "metadata": {},
   "outputs": [
    {
     "data": {
      "text/plain": [
       "{'cat': 3, 'dog': 3, 'elephant': 8, 'giraffe': 7}"
      ]
     },
     "execution_count": 42,
     "metadata": {},
     "output_type": "execute_result"
    }
   ],
   "source": [
    "words = [\"cat\", \"dog\", \"elephant\", None, \"giraffe\"]\n",
    "length_dir = {w:len(w) for w in words if w != None}       # 内包表記\n",
    "length_dir"
   ]
  },
  {
   "cell_type": "markdown",
   "metadata": {},
   "source": [
    "### 集合(set)型\n",
    "\n",
    "集合型重複のない(ユニークな)要素からなる配列である。  \n",
    "集合は `{`, `}` で要素を囲うか、`set()`で生成される。\n",
    "ただし、空の集合は `{}` では生成されない（代わりに辞書が生成される）:"
   ]
  },
  {
   "cell_type": "code",
   "execution_count": 45,
   "metadata": {},
   "outputs": [
    {
     "name": "stdout",
     "output_type": "stream",
     "text": [
      "1. {'orange', 'kiwi', 'apple'}\n",
      "2. [1, 2, 3, 4]\n"
     ]
    }
   ],
   "source": [
    "set_a = {\"apple\", \"orange\", \"kiwi\", \"apple\"} # apple が重複した\n",
    "print(\"1.\", set_a)                                 # apple は重複していない\n",
    "\n",
    "list_b = list(set([1,2,3,4,4,3,2,1]))        # いい加減に作ったリストから重複を除きたい\n",
    "print(\"2.\", list_b)                          # リスト -> 集合 -> リスト、とする"
   ]
  },
  {
   "cell_type": "markdown",
   "metadata": {},
   "source": [
    "2 つの集合の和集合 $\\bigcup$ は `集合.union(集合)` または演算子 `|`、  \n",
    "共通部分 $\\bigcap$は `集合.intersection(集合)` または演算子 `&`　から得られる:"
   ]
  },
  {
   "cell_type": "code",
   "execution_count": 50,
   "metadata": {},
   "outputs": [
    {
     "name": "stdout",
     "output_type": "stream",
     "text": [
      "1. {1, 2, 3, 4, 5, 6, 7, 8, 9}\n",
      "2. {1, 2, 3, 4, 5, 6, 7, 8, 9}\n",
      "3. {4, 5, 6}\n",
      "4. {4, 5, 6}\n"
     ]
    }
   ],
   "source": [
    "set_b = {1,2,3,4,5,6}\n",
    "set_c = {4,5,6,7,8,9}\n",
    "\n",
    "print(\"1.\", set_b.union(set_c))\n",
    "print(\"2.\", set_b | set_c)\n",
    "print(\"3.\", set_b.intersection(set_c))\n",
    "print(\"4.\", set_b & set_c)"
   ]
  },
  {
   "cell_type": "markdown",
   "metadata": {},
   "source": [
    "### 集合の内包表記\n",
    "内包表記は集合型、`{}`、でも使うことができる:\n",
    "集合型なので、リストと異なり重複する要素は除かれる。"
   ]
  },
  {
   "cell_type": "code",
   "execution_count": 73,
   "metadata": {},
   "outputs": [
    {
     "name": "stdout",
     "output_type": "stream",
     "text": [
      "{8, 3, 7}\n"
     ]
    }
   ],
   "source": [
    "words = [\"cat\", \"dog\", \"elephant\", None, \"giraffe\"]\n",
    "length_set = {len(w) for w in words if w != None}\n",
    "print(length_set)"
   ]
  }
 ],
 "metadata": {
  "celltoolbar": "Slideshow",
  "kernelspec": {
   "display_name": "Python 3",
   "language": "python",
   "name": "python3"
  },
  "language_info": {
   "codemirror_mode": {
    "name": "ipython",
    "version": 3
   },
   "file_extension": ".py",
   "mimetype": "text/x-python",
   "name": "python",
   "nbconvert_exporter": "python",
   "pygments_lexer": "ipython3",
   "version": "3.6.4"
  }
 },
 "nbformat": 4,
 "nbformat_minor": 2
}
