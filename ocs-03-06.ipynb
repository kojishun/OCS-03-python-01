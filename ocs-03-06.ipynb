{
 "cells": [
  {
   "cell_type": "markdown",
   "metadata": {
    "slideshow": {
     "slide_type": "skip"
    }
   },
   "source": [
    "## Python の基本\n",
    "この資料は[The Python Tutorial](https://docs.python.org/3.6/tutorial/index.html#the-python-tutorial)\n",
    "    ([日本語版](https://docs.python.jp/3/tutorial/)) および [Python for Data Analysis:Wrangling with Pandas, Numpy and IPython](http://shop.oreilly.com/product/0636920050896.do)を参考に作成した。  \n",
    "このチュートリアルでは他のプログラミング言語を習得している方を想定し、Python の特徴などを説明する。"
   ]
  },
  {
   "cell_type": "markdown",
   "metadata": {
    "slideshow": {
     "slide_type": "slide"
    }
   },
   "source": [
    "## 関数\n",
    "\n",
    "関数(Function)は Python （に限らず多くのプログラム）においてプログラムの構造化、再利用に最も重要な方法である。\n",
    "ざっくりいえば、似たプログラムコードを 2 回以上書くのであれば、関数でプログラムを書く価値がある。\n",
    "\n",
    "関数は、`def 関数名(引数1, 引数2,...):`（ヘッダ行）ではじまり、その後コードブロックが続き、  \n",
    "戻り値は `return` で返す。  \n",
    "以下は、与えられた２つの引数から大きいものを返す関数:"
   ]
  },
  {
   "cell_type": "code",
   "execution_count": 1,
   "metadata": {},
   "outputs": [
    {
     "name": "stdout",
     "output_type": "stream",
     "text": [
      "10\n"
     ]
    }
   ],
   "source": [
    "def max(x, y):\n",
    "    if(x > y ):\n",
    "        return x\n",
    "    else:\n",
    "        return y\n",
    "\n",
    "print(max(9,10))"
   ]
  },
  {
   "cell_type": "markdown",
   "metadata": {
    "slideshow": {
     "slide_type": "subslide"
    }
   },
   "source": [
    "Python では関数のなかにいくつ `return` があってもよい。\n",
    "また、`return` なしにコードブロックの最後に到達すれば、`None` を返す。"
   ]
  },
  {
   "cell_type": "code",
   "execution_count": 1,
   "metadata": {},
   "outputs": [
    {
     "name": "stdout",
     "output_type": "stream",
     "text": [
      "None\n"
     ]
    }
   ],
   "source": [
    "def x_max(x, y):\n",
    "    if(x > y ):\n",
    "        return x\n",
    "    \n",
    "print(x_max(9,10))"
   ]
  },
  {
   "cell_type": "markdown",
   "metadata": {
    "slideshow": {
     "slide_type": "skip"
    }
   },
   "source": [
    "### Python の引数の与え方（再掲）\n",
    "\n",
    "Python では引数は以下の3 種類の与え方が可能である。\n",
    "\n",
    "1. 順番  \n",
    "    `f(10, 100, \"foo\", \"bar\")`  \n",
    "2. キーワード  \n",
    "    `f(keyword1 = 100, keyword3 = \"foo\", keyword2 = 100, keyword4 = \"bar\")`\n",
    "3. 1.,2, の混在  \n",
    "    `f(10, 100, keyword4 = \"bar\",keyword3 = \"foo\")`\n",
    "\n",
    "付け加えると、関数・オブジェクトメソッド側で引数の既定値が設定されていれば、呼び出し時にその引数を省略できる。  \n",
    "キーワードと、省略可能な引数は Pytgon の特徴の一つで、オプションの多い描画関係の関数・メソッドでしばしば登場する。\n",
    "\n",
    "### Python の引数定義\n",
    "\n",
    "キーワード引数のキーワードは関数定義時の変数名が使われる:"
   ]
  },
  {
   "cell_type": "code",
   "execution_count": 3,
   "metadata": {},
   "outputs": [
    {
     "name": "stdout",
     "output_type": "stream",
     "text": [
      "10\n"
     ]
    }
   ],
   "source": [
    "def x_max(x, y):\n",
    "    if(x > y ):\n",
    "        return x\n",
    "    else:\n",
    "        return y\n",
    "    \n",
    "print(x_max(y = 9,x = 10))"
   ]
  },
  {
   "cell_type": "markdown",
   "metadata": {
    "slideshow": {
     "slide_type": "skip"
    }
   },
   "source": [
    "また、既定値の設定は関数定義のヘッダ行でおこなう。  \n",
    "以下は `y` の既定値を `0` とした例:"
   ]
  },
  {
   "cell_type": "code",
   "execution_count": 6,
   "metadata": {},
   "outputs": [
    {
     "name": "stdout",
     "output_type": "stream",
     "text": [
      "0\n"
     ]
    }
   ],
   "source": [
    "def x_max(x, y = 0):\n",
    "    if(x > y ):\n",
    "        return x\n",
    "    else:\n",
    "        return y\n",
    "    \n",
    "print(x_max(-3))"
   ]
  },
  {
   "cell_type": "markdown",
   "metadata": {
    "slideshow": {
     "slide_type": "slide"
    }
   },
   "source": [
    "### 変数のスコープ\n",
    "関数は２つの異なるスコープ、global および local、の変数にアクセスする。\n",
    "既定のスコープは local であり、以下の関数内のリスト `list_a` は関数を実行後破壊される。\n",
    "組み込み関数　`id()` はオブジェクトの識別値を返す。標準的な実装では格納されているメモリアドレス:"
   ]
  },
  {
   "cell_type": "code",
   "execution_count": 9,
   "metadata": {},
   "outputs": [
    {
     "name": "stdout",
     "output_type": "stream",
     "text": [
      "inner function: [0, 1, 2, 3, 4] 4451763016\n",
      "after function: None 4414560664\n"
     ]
    }
   ],
   "source": [
    "list_a = None\n",
    "def local_list():\n",
    "    list_a = []             # 既定の local scope \n",
    "    for i in range(5):\n",
    "        list_a.append(i)\n",
    "    print(\"inner function:\", list_a, id(list_a))\n",
    "\n",
    "local_list()\n",
    "print(\"after function:\",list_a, id(list_a))"
   ]
  },
  {
   "cell_type": "markdown",
   "metadata": {
    "slideshow": {
     "slide_type": "subslide"
    }
   },
   "source": [
    "### global 変数\n",
    "関数から関数外の変数にアクセスするには、global 変数を宣言すればよい:"
   ]
  },
  {
   "cell_type": "code",
   "execution_count": 5,
   "metadata": {},
   "outputs": [
    {
     "name": "stdout",
     "output_type": "stream",
     "text": [
      "inner function: [0, 1, 2, 3, 4]\n",
      "after function: [0, 1, 2, 3, 4]\n"
     ]
    }
   ],
   "source": [
    "list_a = None\n",
    "def local_list():\n",
    "    global list_a           # global として宣言\n",
    "    list_a = []\n",
    "    for i in range(5):\n",
    "        list_a.append(i)\n",
    "    print(\"inner function:\", list_a)\n",
    "        \n",
    "local_list()\n",
    "print(\"after function:\",list_a)"
   ]
  },
  {
   "cell_type": "markdown",
   "metadata": {
    "slideshow": {
     "slide_type": "slide"
    }
   },
   "source": [
    "### 複数の戻り値\n",
    "関数で複数の戻り値が必要な場合、return に渡す結果を列挙すれば戻り値は tuple となる:"
   ]
  },
  {
   "cell_type": "code",
   "execution_count": 11,
   "metadata": {},
   "outputs": [
    {
     "name": "stdout",
     "output_type": "stream",
     "text": [
      "(1, 2, 3)\n"
     ]
    }
   ],
   "source": [
    "def multiple_returns():\n",
    "    return 1, 2, 3\n",
    "\n",
    "print(multiple_returns())"
   ]
  },
  {
   "cell_type": "markdown",
   "metadata": {
    "slideshow": {
     "slide_type": "subslide"
    }
   },
   "source": [
    "他の方法として、戻り値を辞書とすることもできる:"
   ]
  },
  {
   "cell_type": "code",
   "execution_count": 22,
   "metadata": {},
   "outputs": [
    {
     "name": "stdout",
     "output_type": "stream",
     "text": [
      "{'apple': 1, 'orange': 2, 'peach': 3}\n"
     ]
    }
   ],
   "source": [
    "def multiple_returns():\n",
    "    return {\"apple\":1, \"orange\":2, \"peach\":3}\n",
    "\n",
    "print(multiple_returns())"
   ]
  },
  {
   "cell_type": "markdown",
   "metadata": {
    "slideshow": {
     "slide_type": "skip"
    }
   },
   "source": [
    "### オブジェクトとしての関数(参考)\n",
    "Python は関数もオブジェクトの一種である。関数をリスト・辞書のメンバー・値とすることもできる。  \n",
    "キーワードで呼び出し先の関数を変えたい場合は:"
   ]
  },
  {
   "cell_type": "code",
   "execution_count": 43,
   "metadata": {},
   "outputs": [
    {
     "name": "stdout",
     "output_type": "stream",
     "text": [
      "APPLE\n",
      "ORANGE\n",
      "NONE\n"
     ]
    }
   ],
   "source": [
    "def print_apple():\n",
    "    print(\"APPLE\")\n",
    "    \n",
    "def print_orange():\n",
    "    print(\"ORANGE\")\n",
    "\n",
    "def print_default():\n",
    "    print(\"NONE\")\n",
    "    \n",
    "dict_functions = {\"apple\":print_apple, \"orange\":print_orange}\n",
    "\n",
    "for fruite in [\"apple\", \"orange\", \"kiwi\"]:\n",
    "    dict_functions.get(fruite, print_default)()\n"
   ]
  },
  {
   "cell_type": "markdown",
   "metadata": {
    "slideshow": {
     "slide_type": "skip"
    }
   },
   "source": [
    "### 無名(Lambda)関数(参考)\n",
    "Python では無名関数(Lambda 式)が利用できる。Lambda 式の書式は以下となる:\n",
    "\n",
    "```Python\n",
    "lambda 引数1, 引数2, .... : 引数を含む式\n",
    "```\n",
    "\n",
    "---\n",
    "そして、以下の Lambda 式と関数定義は等価である:\n",
    "\n",
    "```Python\n",
    "\n",
    "f1 = lambda x, y : x + y\n",
    "\n",
    "def f1(x, y):\n",
    "    return x + y\n",
    "\n",
    "```\n",
    "\n",
    "---\n",
    "\n",
    "Lambda 式はデータの並べ替えなどのソートキーの指定に利用されている。\n",
    "以下のプログラムは、２重リストをソートするプログラムで、そーとキーは２つ目の要素となっている:"
   ]
  },
  {
   "cell_type": "code",
   "execution_count": 7,
   "metadata": {},
   "outputs": [
    {
     "name": "stdout",
     "output_type": "stream",
     "text": [
      "[['orange', 50], ['apple', 100], ['kiwi', 200]]\n"
     ]
    }
   ],
   "source": [
    "list_input = [[\"apple\", 100], [\"orange\", 50], [\"kiwi\", 200]]\n",
    "\n",
    "print(sorted(list_input, key=lambda x:x[1]))"
   ]
  },
  {
   "cell_type": "markdown",
   "metadata": {
    "slideshow": {
     "slide_type": "skip"
    }
   },
   "source": [
    "### Generator(参考)\n",
    "Python の重要な特徴としてリストやファイルの行にまたがるような繰り返し処理の一貫した取り扱いが挙げられる。\n",
    "generator によって繰り返しに対応した関数を簡単に構成できる。\n",
    "通常の関数は `return` によって結果を返し、動作を終了するが、\n",
    "generator は複数の戻り値を順番に返す、そして次の戻り値の要求があるまで動作は停止する。\n",
    "generator を生成するには、`return` に代えて `yield` を使えば良い："
   ]
  },
  {
   "cell_type": "code",
   "execution_count": 11,
   "metadata": {},
   "outputs": [
    {
     "name": "stdout",
     "output_type": "stream",
     "text": [
      "0\n",
      "1\n",
      "4\n",
      "9\n",
      "16\n",
      "25\n",
      "36\n",
      "49\n",
      "64\n",
      "81\n"
     ]
    }
   ],
   "source": [
    "def squares(n):\n",
    "    for i in range (0, n):\n",
    "        yield i**2\n",
    "\n",
    "for s in squares(10):\n",
    "    print(s)"
   ]
  },
  {
   "cell_type": "markdown",
   "metadata": {
    "slideshow": {
     "slide_type": "skip"
    }
   },
   "source": [
    "### generator 式(参考)\n",
    "Python ではタプル、`()`、で内包表記を利用することはできないが、\n",
    "小括弧内`()`に内包表記（厳密には違う）を記述するとタプルではなく generator オブジェクトがつくられる。\n",
    "\n",
    "したがって、以下のプログラムは動作するがオブジェクト `squares_gen` はタプルではない。\n",
    "\n",
    "---\n",
    "```Python:generator_sample.py\n",
    "squares_gen = (x**2 for x in range(6))\n",
    "for x in squares_gen:\n",
    "    print(x)\n",
    "```"
   ]
  },
  {
   "cell_type": "markdown",
   "metadata": {
    "slideshow": {
     "slide_type": "skip"
    }
   },
   "source": [
    "### エラーおよび例外処理(参考)\n",
    "\n",
    "たとえば、以下の型変換処理はエラーとなり、プログラムは終了する:"
   ]
  },
  {
   "cell_type": "code",
   "execution_count": 12,
   "metadata": {
    "slideshow": {
     "slide_type": "skip"
    }
   },
   "outputs": [
    {
     "ename": "ValueError",
     "evalue": "invalid literal for int() with base 10: 'abc'",
     "output_type": "error",
     "traceback": [
      "\u001b[0;31m---------------------------------------------------------------------------\u001b[0m",
      "\u001b[0;31mValueError\u001b[0m                                Traceback (most recent call last)",
      "\u001b[0;32m<ipython-input-12-2dda1cc00c48>\u001b[0m in \u001b[0;36m<module>\u001b[0;34m()\u001b[0m\n\u001b[0;32m----> 1\u001b[0;31m \u001b[0mint\u001b[0m\u001b[0;34m(\u001b[0m\u001b[0;34m\"abc\"\u001b[0m\u001b[0;34m)\u001b[0m\u001b[0;34m\u001b[0m\u001b[0m\n\u001b[0m",
      "\u001b[0;31mValueError\u001b[0m: invalid literal for int() with base 10: 'abc'"
     ]
    }
   ],
   "source": [
    "int(\"abc\")"
   ]
  },
  {
   "cell_type": "markdown",
   "metadata": {
    "slideshow": {
     "slide_type": "skip"
    }
   },
   "source": [
    "Python でエラー発生時の例外処理は、`try`, `except` で記述できる。  \n",
    "以下は型変換でエラーが生じた場合は、引数をそのまま返す関数 `example_f()`の例:"
   ]
  },
  {
   "cell_type": "code",
   "execution_count": 13,
   "metadata": {},
   "outputs": [
    {
     "data": {
      "text/plain": [
       "'abc'"
      ]
     },
     "execution_count": 13,
     "metadata": {},
     "output_type": "execute_result"
    }
   ],
   "source": [
    "def example_f(x):\n",
    "    try:\n",
    "        return int(x)\n",
    "    except:\n",
    "        return(x)\n",
    "\n",
    "example_f(\"abc\")"
   ]
  },
  {
   "cell_type": "markdown",
   "metadata": {
    "slideshow": {
     "slide_type": "skip"
    }
   },
   "source": [
    "エラーごとに処理を変えたい場合は`except` にエラーコードを加えて並記していく:"
   ]
  },
  {
   "cell_type": "code",
   "execution_count": 14,
   "metadata": {},
   "outputs": [
    {
     "data": {
      "text/plain": [
       "'abc'"
      ]
     },
     "execution_count": 14,
     "metadata": {},
     "output_type": "execute_result"
    }
   ],
   "source": [
    "def example_f2(x):\n",
    "    try:\n",
    "        return int(x)\n",
    "    except (ValueError, TypeError):\n",
    "        return(x)\n",
    "    except SystemError:\n",
    "        return(None)\n",
    "\n",
    "example_f2(\"abc\")"
   ]
  },
  {
   "cell_type": "markdown",
   "metadata": {
    "slideshow": {
     "slide_type": "skip"
    }
   },
   "source": [
    "### エラーおよび例外生成(参考)\n",
    "Python で簡単に例外を発生させるには、`assert 条件式` を利用する。\n",
    "条件が `False` のときに例外が発生する。"
   ]
  },
  {
   "cell_type": "code",
   "execution_count": 23,
   "metadata": {},
   "outputs": [
    {
     "name": "stdout",
     "output_type": "stream",
     "text": [
      "None\n"
     ]
    },
    {
     "ename": "AssertionError",
     "evalue": "",
     "output_type": "error",
     "traceback": [
      "\u001b[0;31m---------------------------------------------------------------------------\u001b[0m",
      "\u001b[0;31mAssertionError\u001b[0m                            Traceback (most recent call last)",
      "\u001b[0;32m<ipython-input-23-58fd6cb1a181>\u001b[0m in \u001b[0;36m<module>\u001b[0;34m()\u001b[0m\n\u001b[1;32m      4\u001b[0m \u001b[0mprint\u001b[0m\u001b[0;34m(\u001b[0m\u001b[0mjust_assert\u001b[0m\u001b[0;34m(\u001b[0m\u001b[0;36m1\u001b[0m\u001b[0;34m,\u001b[0m\u001b[0;36m1\u001b[0m\u001b[0;34m)\u001b[0m\u001b[0;34m)\u001b[0m\u001b[0;34m\u001b[0m\u001b[0m\n\u001b[1;32m      5\u001b[0m \u001b[0;34m\u001b[0m\u001b[0m\n\u001b[0;32m----> 6\u001b[0;31m \u001b[0mprint\u001b[0m\u001b[0;34m(\u001b[0m\u001b[0mjust_assert\u001b[0m\u001b[0;34m(\u001b[0m\u001b[0;36m1\u001b[0m\u001b[0;34m,\u001b[0m\u001b[0;36m0\u001b[0m\u001b[0;34m)\u001b[0m\u001b[0;34m)\u001b[0m\u001b[0;34m\u001b[0m\u001b[0m\n\u001b[0m",
      "\u001b[0;32m<ipython-input-23-58fd6cb1a181>\u001b[0m in \u001b[0;36mjust_assert\u001b[0;34m(x, y)\u001b[0m\n\u001b[1;32m      1\u001b[0m \u001b[0;32mdef\u001b[0m \u001b[0mjust_assert\u001b[0m\u001b[0;34m(\u001b[0m \u001b[0mx\u001b[0m\u001b[0;34m,\u001b[0m \u001b[0my\u001b[0m\u001b[0;34m)\u001b[0m\u001b[0;34m:\u001b[0m\u001b[0;34m\u001b[0m\u001b[0m\n\u001b[0;32m----> 2\u001b[0;31m     \u001b[0;32massert\u001b[0m \u001b[0mx\u001b[0m \u001b[0;34m==\u001b[0m \u001b[0my\u001b[0m\u001b[0;34m\u001b[0m\u001b[0m\n\u001b[0m\u001b[1;32m      3\u001b[0m \u001b[0;34m\u001b[0m\u001b[0m\n\u001b[1;32m      4\u001b[0m \u001b[0mprint\u001b[0m\u001b[0;34m(\u001b[0m\u001b[0mjust_assert\u001b[0m\u001b[0;34m(\u001b[0m\u001b[0;36m1\u001b[0m\u001b[0;34m,\u001b[0m\u001b[0;36m1\u001b[0m\u001b[0;34m)\u001b[0m\u001b[0;34m)\u001b[0m\u001b[0;34m\u001b[0m\u001b[0m\n\u001b[1;32m      5\u001b[0m \u001b[0;34m\u001b[0m\u001b[0m\n",
      "\u001b[0;31mAssertionError\u001b[0m: "
     ]
    }
   ],
   "source": [
    "def just_assert( x, y):\n",
    "    assert x == y\n",
    "    \n",
    "print(just_assert(1,1))\n",
    "\n",
    "print(just_assert(1,0))"
   ]
  }
 ],
 "metadata": {
  "celltoolbar": "Slideshow",
  "kernelspec": {
   "display_name": "Python 3",
   "language": "python",
   "name": "python3"
  },
  "language_info": {
   "codemirror_mode": {
    "name": "ipython",
    "version": 3
   },
   "file_extension": ".py",
   "mimetype": "text/x-python",
   "name": "python",
   "nbconvert_exporter": "python",
   "pygments_lexer": "ipython3",
   "version": "3.6.4"
  }
 },
 "nbformat": 4,
 "nbformat_minor": 2
}
