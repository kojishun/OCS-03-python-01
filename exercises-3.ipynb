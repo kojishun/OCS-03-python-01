{
 "cells": [
  {
   "cell_type": "markdown",
   "metadata": {
    "slideshow": {
     "slide_type": "slide"
    }
   },
   "source": [
    "## jupyter-notebook で Python プログラムをあつかう(再掲)\n",
    "\n",
    "jupyter-notebook で Python プログラムをあつかうには大きく２種類の方法がある:\n",
    "\n",
    "1. jupyter-notebook で Python プログラムを開く\n",
    "1. jupyter-notebook 形式を Python プログラム(.py)に変換する\n",
    "\n",
    "### 1. jupyter-notebook で Python プログラムを開く\n",
    "jupyter-notebook で直接 Python プログラムファイルを開くには。\n",
    "（jupyter-notebook 起動時に表示される）ファイルマネージャ画面で、`New -> Text file` を選択すると、エディタ画面に遷移する。\n",
    "エディタで .py 拡張子をもつファイル名に変更すれば良い。\n",
    "\n",
    "### 2. jupyter-notebook 形式を Python プログラム(.py)に変換する\n",
    "講義で利用している jupyter-notebook を .py としてセーブするには、`File -> Download as -> Python(.py)`を選択すればよい。\n",
    "コードセルだけがプログラム行として有効になりその他の行は # でコメントアウトされた Python プログラムファイルがダウンロードファイルに生成される。\n",
    "環境によっては、.py ではなく .htmlファイルとして保存されるかもしれないが、ファイル名を変更すれば Python プログラムファイルとして利用できる。\n",
    "jupyter-notebook を Python ファイルとして保存した場合、全てのコードセルの内容を一度に実行するプログラムとして保存されます。jupyter-notebook のようにセル単位の実行とはならないことに注意する必要があります。"
   ]
  },
  {
   "cell_type": "markdown",
   "metadata": {
    "slideshow": {
     "slide_type": "slide"
    }
   },
   "source": [
    "### 講義での利用方法（＊＊重要＊＊）\n",
    "講義では、とくに指定のない限り（動作する） Python プログラム形式 (.py)として提出すること。\n",
    "実際には、セルで動作を確認したプログラムスクリプトをクリップボードにコピー、Python プログラムエディタにペーストする\n",
    "という方法が現実的と思われる。  \n",
    "もちろん自身が普段使い慣れているエディタを利用してもかまわない。"
   ]
  },
  {
   "cell_type": "markdown",
   "metadata": {},
   "source": [
    "### 提出の前に（＊＊重要＊＊）\n",
    "1. プログラム (.py)が動作するか、コマンドシェルから確認すること。\n",
    "1. ファイル名を間違えないこと。教員は課題評価の際にファイルを漁ったりしない。"
   ]
  },
  {
   "cell_type": "markdown",
   "metadata": {
    "slideshow": {
     "slide_type": "slide"
    }
   },
   "source": [
    "## 練習 1. Hello World\n",
    "\n",
    "GitHub による Python プログラムの課題提出に慣れる目的でおこなう。自信のある受講生はこの課題をスキップしてよい。\n",
    "自信のない学生が多ければ教員がデモを実施する。\n",
    "\n",
    "`print()` 関数で文字列 Hello U-Tokyo を印字する、Python プログラム、`hello_u_tokyo.py` を作成せよ。\n",
    "提出は指示にしたがって GitHub Classroom でおこなうこと。"
   ]
  },
  {
   "cell_type": "code",
   "execution_count": null,
   "metadata": {},
   "outputs": [],
   "source": [
    "print(\"Hello U-Tokyo\")"
   ]
  },
  {
   "cell_type": "markdown",
   "metadata": {
    "slideshow": {
     "slide_type": "slide"
    }
   },
   "source": [
    "## 課題 1.  2 次方程式の解\n",
    "\n",
    "以下の形式の２次方程式の全ての解を返す関数、`solve2(a, b, c)` をプログラムせよ。\n",
    "a, b, c はいずれも実数とする。\n",
    "\n",
    "プログラムファイルは `solve2.py` として GitHub にアップロードせよ：\n",
    "\n",
    "$$\n",
    "a x^2 + b x + c = 0\n",
    "$$\n",
    "\n",
    "1. 複素数の解も求めること。\n",
    "2. 解なしの場合は `None` を返すこと。\n",
    "\n",
    "Python では正数の平方根を求める関数として一般数学関数ライブラリに `math.sqrt()`、が用意されている。\n",
    "利用方法は以下のとおり:\n",
    "\n",
    "```Python\n",
    "from math import sqrt\n",
    "print(sqrt(3))\n",
    "```\n",
    "\n",
    "以下のセルのサンプルを修正してもよい。サンプルでは常に、$x = 0\\ (重解)$を返す:"
   ]
  },
  {
   "cell_type": "code",
   "execution_count": 3,
   "metadata": {},
   "outputs": [
    {
     "data": {
      "text/plain": [
       "(0, 0)"
      ]
     },
     "execution_count": 3,
     "metadata": {},
     "output_type": "execute_result"
    }
   ],
   "source": [
    "def solve2(a,b,c):\n",
    "    return 0,0\n",
    "\n",
    "solve2(1,0,0)"
   ]
  },
  {
   "cell_type": "markdown",
   "metadata": {
    "slideshow": {
     "slide_type": "slide"
    }
   },
   "source": [
    "## 課題 2. FizzBuzz\n",
    "自然数を 1 から昇順に答える FizzBuzz という遊びがある（日本でも流行した）。  \n",
    "ただし、数が 3 で割り切れる場合 `Fizz`, 5 で割り切れる場合 `Buzz`、両方で割り切れる場合 `FizzBuzz` と答える。  \n",
    "引数として、自然数が与えられ、このルールで答えるべき文字列を返す関数 `fizzbuzz(n)` をプログラムせよ。\n",
    "\n",
    "ちなみに、FizzBuzz はプログラマの採用面接に際し応募者の能力を簡単に判定するスクリーニング課題として広く知られている。  \n",
    "もちろん面接ではさらに高度な課題が課される。\n",
    "\n",
    "プログラムファイルは `fizzbuzz.py` として GitHub にアップロードせよ。\n",
    "\n",
    "以下のセルのサンプルを修正してもよい。サンプルでは常に数を返す:"
   ]
  },
  {
   "cell_type": "code",
   "execution_count": null,
   "metadata": {},
   "outputs": [],
   "source": [
    "def fizzbuzz(n):\n",
    "    return str(n)\n",
    "\n",
    "for i in range(1,100):\n",
    "    print(fizzbuzz(i))"
   ]
  },
  {
   "cell_type": "markdown",
   "metadata": {
    "slideshow": {
     "slide_type": "slide"
    }
   },
   "source": [
    "## 課題 3. フィボナッチ数\n",
    "\n",
    "フィボナッチ数列は以下のように定義される:\n",
    "$$\n",
    "F_0 = 0\n",
    "$$\n",
    "$$\n",
    "F_1 = 1\n",
    "$$\n",
    "$$\n",
    "F_{n + 2} = F_{n} + F{n + 1} \\ (n \\geq 0)\n",
    "$$\n",
    "具体的には以下の数列となる:\n",
    "$$\n",
    "0, 1, 1, 2, 3, 5, 8, 13, 21, 34, ...\n",
    "$$\n",
    "\n",
    "引数として与えられる項数, `n`, のフィボナッチ数列をリストとして返す関数 `fib(n)` をプログラムせよ。\n",
    "\n",
    "プログラムファイルは `fib.py` として GitHub にアップロードせよ。\n",
    "\n",
    "以下のセルのサンプルを修正してもよい。サンプルは 1 から n までの n 個の自然数を返す:"
   ]
  },
  {
   "cell_type": "code",
   "execution_count": null,
   "metadata": {},
   "outputs": [],
   "source": [
    "def fib(n):\n",
    "    return list(range(1, n + 1))\n",
    "\n",
    "fib(10)"
   ]
  },
  {
   "cell_type": "markdown",
   "metadata": {
    "slideshow": {
     "slide_type": "slide"
    }
   },
   "source": [
    "## 課題 4. フィボナッチ数の可視化(1)\n",
    "前の課題で求めたフィボナッチ数列は、隣り合う数の比が黄金比 $(1 + \\sqrt{5}) / 2$ に収束することがよく知られている。  \n",
    "これを可視化によって説明する jupyter-notebook を作成せよ（証明は不要）。  \n",
    "ファイル名は `fib_plot.ipynb` とすること。  \n",
    "notebook には自分以外によって手続き（画像生成など）が再現できるような説明も加えること。\n",
    "\n",
    "以下は説明用の図の一例：\n",
    "\n",
    "1. x 軸に項数、y 軸にフィボナッチ数をプロット、画像ファイル `fib_plot.png` として保存する。\n",
    "2. 補助線として、y 軸に黄金比を示す直線を加える。\n",
    "\n",
    "作成した Python プログラムを含めてすべてのファイルを GitHub にアップロードせよ。 "
   ]
  },
  {
   "cell_type": "markdown",
   "metadata": {
    "slideshow": {
     "slide_type": "slide"
    }
   },
   "source": [
    "## 課題 5. フィボナッチ数の可視化(2)(発展)\n",
    "\n",
    "以下の画像は、フィボナッチ数列を用いて黄金比の長方形をつくる可視化例としてよく知られている。  \n",
    "$F_{n+2}$ のフィボナッチ数に対応する正方形の辺が $F_{n-1}, F_{n}$ の辺の合計となっている。  \n",
    "このような図を描画するプログラム `fib_square.py`を作成せよ。  \n",
    "\n",
    "$F_{n}$ に対応する一片の長さ $F_{n}$ の正方形の左下座標 $(x_n, y_n)$ は直前の座標 $(x_{n-1}, y_{n-1})$ を利用して以下のように場合分け\n",
    "できる。ここで、$m = x \\ mod \\ 4$ :\n",
    "\n",
    "$$\n",
    "\\begin {array}{ll}\n",
    "(x_{n - 1} - F_{n}, y_{n-1} - F_{n - 1}) & (m \\  =\\  0)\\\\\n",
    "(x_{n - 1}, y_{n - 1} - F{n}) & (m \\  =\\  1)\\\\\n",
    "(x_{n-1} + F_{n - 1}, y_{n-1}) & (m \\  =\\  2)\\\\\n",
    "(x_{n-1}  - F_{n - 2}, y_{n -1} + F_{n -1}) & (m \\  =\\  3)\\\\\n",
    "\\end{array}\n",
    "$$\n",
    "\n",
    "以下に任意の場所・大きさの長方形(Rectangle)および文字列をを描画するサンプルを示した。  \n",
    "\n",
    "個々の関数・メソッドの意味・利用方法は [Matplotlib](https://matplotlib.org)を参考にすること。\n",
    "\n",
    "![フィボナッチ数列可視化](fib_rectangle.png)"
   ]
  },
  {
   "cell_type": "code",
   "execution_count": 1,
   "metadata": {},
   "outputs": [
    {
     "data": {
      "text/plain": [
       "<matplotlib.figure.Figure at 0x1129fd6a0>"
      ]
     },
     "metadata": {},
     "output_type": "display_data"
    }
   ],
   "source": [
    "import matplotlib.pyplot as plt\n",
    "import matplotlib.patches as patches\n",
    "\n",
    "fig, ax = plt.subplots(1)\n",
    "\n",
    "x, y = 3, 3\n",
    "width = 4\n",
    "height = 2\n",
    "r = patches.Rectangle((x, y), width, height,\n",
    "    fill=False, transform=ax.transAxes, clip_on=False, lw=3)\n",
    "ax.add_patch(r)\n",
    "\n",
    "ax.text(x + width / 2, y + height / 2, \"sample\", horizontalalignment=\"left\",\n",
    "        verticalalignment='top', size = 24, transform=ax.transAxes)\n",
    "\n",
    "ax.set_axis_off()\n",
    "ax.set_aspect(1)\n",
    "\n",
    "plt.savefig(\"sample.png\", bbox_inches=\"tight\")\n",
    "plt.show()"
   ]
  },
  {
   "cell_type": "markdown",
   "metadata": {
    "slideshow": {
     "slide_type": "slide"
    }
   },
   "source": [
    "## 課題 6. フィボナッチ数の可視化(3)(発展)\n",
    "\n",
    "以下の画像は、前の黄金比の長方形に内接する螺旋を加えた可視化例である。\n",
    "この図を出力するプログラム　`fib_spiral.py` を作成せよ。\n",
    "$F_{n}$ に対応する円弧の半径は $F_{n}$、中心点は、**正方形の左下座標**を利用して\n",
    "以下のように場合分けできる。ここで、$m = x \\ mod \\ 4$ :\n",
    "\n",
    "$$\n",
    "\\begin {array}{ll}\n",
    "(x_{n - 1}, y_{n - 1} - F_{n - 2}) & (m \\  =\\  0)\\\\\n",
    "(x_{n - 1} + F_{n}, y_{n-1}) & (m \\  =\\  1)\\\\\n",
    "(x_{n - 1} + F_{n - 1}, y_{n - 1} + F_{n} & (m \\  =\\  2)\\\\\n",
    "(x_{n - 1} - F{n-2}, y_{n - 1} + F_{n-1}) & (m \\  =\\  3)\n",
    "\\end{array}\n",
    "$$\n",
    "\n",
    "円弧の描画には、`matplotlib.patches.Arc()` が利用できる。\n",
    "\n",
    "個々の関数・メソッドの意味・利用方法は [Matplotlib](https://matplotlib.org)を参考にすること。\n",
    "\n",
    "![フィボナッチ数列可視化螺旋つき](fib_spiral.png)"
   ]
  }
 ],
 "metadata": {
  "celltoolbar": "Slideshow",
  "kernelspec": {
   "display_name": "Python 3",
   "language": "python",
   "name": "python3"
  },
  "language_info": {
   "codemirror_mode": {
    "name": "ipython",
    "version": 3
   },
   "file_extension": ".py",
   "mimetype": "text/x-python",
   "name": "python",
   "nbconvert_exporter": "python",
   "pygments_lexer": "ipython3",
   "version": "3.7.6"
  }
 },
 "nbformat": 4,
 "nbformat_minor": 2
}
