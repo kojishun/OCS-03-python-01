{
 "cells": [
  {
   "cell_type": "markdown",
   "metadata": {
    "slideshow": {
     "slide_type": "skip"
    }
   },
   "source": [
    "## Python の基本\n",
    "\n",
    "この資料は[The Python Tutorial](https://docs.python.org/3.6/tutorial/index.html#the-python-tutorial)\n",
    "    ([日本語版](https://docs.python.jp/3/tutorial/)) および [Python for Data Analysis:Wrangling with Pandas, Numpy and IPython](http://shop.oreilly.com/product/0636920050896.do)を参考に作成した。  \n",
    "このチュートリアルでは他のプログラミング言語を習得している方を想定し、Python の特徴などを説明する。"
   ]
  },
  {
   "cell_type": "markdown",
   "metadata": {
    "slideshow": {
     "slide_type": "slide"
    }
   },
   "source": [
    "## オブジェクト\n",
    "Python の重要な特徴に、一貫したオブジェクトモデルが挙げられる。\n",
    "全ての数、文字列、データ構造、関数、クラス、モジュールなどは Python でオブジェクトとして参照される「箱」として扱われる。  \n",
    "全てのオブジェクトは（文字列、関数といった）型と内部データを持ち、これによって Python は言語としての柔軟性を実現している、\n",
    "例えば、全ての関数が他のオブジェクトと同様に扱うことができる、例えば関数を変数に代入することもできる。 　\n",
    "\n",
    "*近代的な手続き型言語はほぼオブジェクト指向を取り入れており Python の特徴とはもはや言えないかもしれない。*"
   ]
  },
  {
   "cell_type": "markdown",
   "metadata": {
    "slideshow": {
     "slide_type": "slide"
    }
   },
   "source": [
    "## インデント\n",
    "\n",
    "Python では行頭の字下げ（インデント）でプログラムを構造化している。  \n",
    "同じインデントレベルの一連のプログラム文をコードブロックと呼び、インデントによる構造化は Python の特徴である。  \n",
    "他方、C, Java, Ruby といった他の言語では構造化にはおもに括弧 `{}` 、（開始から終了までがコードブロック）が利用されている。\n",
    "\n",
    "インデントはタブ、スペース(空白)いずれも使えるが、Python 標準ライブラリでは\n",
    "スペース[4文字を標準](http://pep8-ja.readthedocs.io/ja/latest/)とするスタイル(書式)を採用している。  \n",
    "**Jupyter の標準もこれを採っており講義でもこの書式を利用する。** セルでタブを入力すれば勝手に変換されるのであまり気にする必要はない。"
   ]
  },
  {
   "cell_type": "markdown",
   "metadata": {
    "slideshow": {
     "slide_type": "subslide"
    }
   },
   "source": [
    "プログラムの例を使って説明する。  \n",
    "変数 `x, y` の符号を印字するプログラムは、`if` 文と `print()` 関数で以下のように書ける:  "
   ]
  },
  {
   "cell_type": "code",
   "execution_count": null,
   "metadata": {},
   "outputs": [],
   "source": [
    "x = 1\n",
    "y = 1\n",
    "if x > 0 :\n",
    "    print (\"x has the positive sign, but y is unknown\")\n",
    "    if y > 0 :\n",
    "        print (\"Both 'x' and 'y' have the positive.\")\n",
    "        \n",
    "print(\"Sign check is done.\")"
   ]
  },
  {
   "cell_type": "markdown",
   "metadata": {},
   "source": [
    "3行目の `if` 文の行末の`:` はコードブロックの先頭を意味し、これに続く同じ字数だけインデントされた行の続く範囲までコードブロックは続く。そのコードブロックが直前の `if` 行の制御対象となる。\n",
    "\n",
    "5 行目から二重の `if` 文となり、この制御範囲は、二重にインデントされた 6 行目の `print()`関数のみのコードブロックとなる。\n",
    "\n",
    "\n",
    "8 行目のインデントされていない `print()`行は、いずれの `if` 文の制御範囲ではなく、\n",
    "    （`x,y` の符号にかかわらず）かならず実行される。"
   ]
  },
  {
   "cell_type": "markdown",
   "metadata": {
    "slideshow": {
     "slide_type": "skip"
    }
   },
   "source": [
    "### セミコロン(参考)\n",
    "Python の文はセミコロン`;`で終わらせる必要はない。  \n",
    "ただし、複数のプログラム文を一行にまとめるためセミコロンを使うこともできる。"
   ]
  },
  {
   "cell_type": "code",
   "execution_count": null,
   "metadata": {
    "slideshow": {
     "slide_type": "skip"
    }
   },
   "outputs": [],
   "source": [
    "print(\"The\"); print(\"quick\"); print (\"brown\") ; print (\"fox\"); print(\"jumps\")"
   ]
  },
  {
   "cell_type": "markdown",
   "metadata": {
    "slideshow": {
     "slide_type": "skip"
    }
   },
   "source": [
    "## コメント\n",
    "ハッシュマーク、または pound sign、`#`に続く文字は Python では全て無視されます。\n",
    "このため、`#` はプログラム中にコメントを書くために使われます。\n",
    "そして、コメントはプログラム行の後ろに置くこともできる。  \n",
    "付け加えると、コーディング中には一部のプログラム機能を無効化（コメントアウト）するためにも使われる。\n",
    "\n",
    "以下のコードでは、冗長な `print()` 文をコメントアウトしている:"
   ]
  },
  {
   "cell_type": "code",
   "execution_count": 4,
   "metadata": {
    "slideshow": {
     "slide_type": "skip"
    }
   },
   "outputs": [
    {
     "name": "stdout",
     "output_type": "stream",
     "text": [
      "0\n",
      "1\n",
      "2\n",
      "3\n",
      "4\n",
      "5\n",
      "6\n",
      "7\n",
      "8\n",
      "9\n",
      "45\n"
     ]
    }
   ],
   "source": [
    "#\n",
    "j = 0\n",
    "for i in range(10):\n",
    "    j += i\n",
    "    print(i) # i を出力\n",
    "    # print(j)   # j の途中結果を出力\n",
    "    \n",
    "print(j)          # 結果を出力"
   ]
  },
  {
   "cell_type": "markdown",
   "metadata": {
    "slideshow": {
     "slide_type": "skip"
    }
   },
   "source": [
    "### 複数行のコメント\n",
    "著作権表示のようにコメントが複数行にわたる場合は、\n",
    "\n",
    "- 全ての行頭に `#` を置きます\n",
    "- 全ての行をそれぞれ引用符で囲む\n",
    "- ３つの引用符`'''`、あるいは二重引用符`\"\"\"`でブロックを囲む   \n",
    "    下２つの方法は文字列を表現する手段であるが、Python は文字列のみのプログラム文は無視する仕様を利用している\n",
    "\n",
    "以下は Python プログラム冒頭に書く著作権表示の例:"
   ]
  },
  {
   "cell_type": "code",
   "execution_count": null,
   "metadata": {
    "slideshow": {
     "slide_type": "skip"
    }
   },
   "outputs": [],
   "source": [
    "#\n",
    "# Copyright (C) 2018 Katsushi Kobayashi\n",
    "# All Rights Reserved.\n",
    "#\n",
    "print(\"Longevity and prosperity\")"
   ]
  },
  {
   "cell_type": "markdown",
   "metadata": {
    "slideshow": {
     "slide_type": "slide"
    }
   },
   "source": [
    "## 関数、オブジェクトメソッドの呼び出し\n",
    "関数、オブジェクトメソッドは`()`内に引数を、複数の場合はコンマ`,`区切りで与えて呼び出す。\n",
    "\n",
    "### Python の引数の与え方\n",
    "Python では引数は以下の3 種類の与え方が可能である。\n",
    "\n",
    "1. 順番: `f(10, 100, \"foo\", \"bar\")`  \n",
    "2. キーワード:  `f(keyword1 = 100, keyword3 = \"foo\", keyword2 = 100, keyword4 = \"bar\")`\n",
    "3. 1.,2, の混在:  `f(10, 100, keyword4 = \"bar\",keyword3 = \"foo\")`\n",
    "\n",
    "付け加えると、関数・オブジェクトメソッド側で引数の既定値が設定されていれば、呼び出し時にその引数を省略できる。  \n",
    "キーワードと、省略可能な引数は Pytgon の特徴の一つで、オプションの多い描画関係の関数・メソッドでしばしば登場する。"
   ]
  },
  {
   "cell_type": "code",
   "execution_count": null,
   "metadata": {},
   "outputs": [],
   "source": [
    "def foo(x, y, z):      #z を印字して、x + y の結果を返すデモ関数\n",
    "    print(z)\n",
    "    return x + y\n",
    "\n",
    "# 以下 2 つは同じ意味\n",
    "print(foo(3, 4, \"foo\"))\n",
    "print(foo(z = \"foo\", x = 3, y = 4))"
   ]
  },
  {
   "cell_type": "markdown",
   "metadata": {
    "slideshow": {
     "slide_type": "slide"
    }
   },
   "source": [
    "### 変数と引数\n",
    "\n",
    "関数・メソッドの呼び出しでは引数として与える変数に注意する必要がある。  \n",
    "少し面倒になるが、具体例を示しながら説明する:"
   ]
  },
  {
   "cell_type": "code",
   "execution_count": null,
   "metadata": {
    "slideshow": {
     "slide_type": "subslide"
    }
   },
   "outputs": [],
   "source": [
    "def foo(lst):            # リスト(配列)に要素 99 を追加する関数\n",
    "    lst.append(99)\n",
    "\n",
    "a = [1, 2, 3]                  # リストをつくる\n",
    "tmp = a                        # tmp に a を代入、a を保存したつもり"
   ]
  },
  {
   "cell_type": "code",
   "execution_count": null,
   "metadata": {},
   "outputs": [],
   "source": [
    "tmp                            # 中身を確認"
   ]
  },
  {
   "cell_type": "code",
   "execution_count": null,
   "metadata": {},
   "outputs": [],
   "source": [
    "foo(a)                         # 関数を呼ぶ"
   ]
  },
  {
   "cell_type": "code",
   "execution_count": null,
   "metadata": {},
   "outputs": [],
   "source": [
    "tmp                            # tmp を確認、あれ？"
   ]
  },
  {
   "cell_type": "markdown",
   "metadata": {
    "slideshow": {
     "slide_type": "-"
    }
   },
   "source": [
    "Python による代入・引数の引き渡しでは、変数・オブジェクトの複製はおこなわれず\n",
    "変数・オブジェクトへの参照(情報)が渡されるだけである。\n",
    "したがって、最初のセル 5 行目の `=` による代入では、右辺`a`の参照のみを`tmp`に代入している。\n",
    "続く関数呼び出しでは、`a` の参照を関数のローカル変数 `some_list` にコピーしている。\n",
    "したがって、`a`, `tmp`, `some_list` はすべて同じオブジェクトを参照していることから、\n",
    "関数内で、`some_list` に対しておこなった変更が、`tmp` に及ぶ。"
   ]
  },
  {
   "cell_type": "markdown",
   "metadata": {
    "slideshow": {
     "slide_type": "slide"
    }
   },
   "source": [
    "### リストの例\n",
    "Python では変数・オブジェクトが巨大となっても、代入・関数への引き渡しのコストが抑えられている。\n",
    "一方で、変数・オブジェクトの内容のコピーを必要とするときは明示的に指定する必要がある。"
   ]
  },
  {
   "cell_type": "code",
   "execution_count": null,
   "metadata": {},
   "outputs": [],
   "source": [
    "a = [1,2,3]     # リスト（配列を作る）\n",
    "b = a           # b に a を代入（a への参照を作る）\n",
    "print(b)\n",
    "a.append(4)     # 配列に加えてみる\n",
    "print(b)        # あれ？"
   ]
  },
  {
   "cell_type": "code",
   "execution_count": null,
   "metadata": {},
   "outputs": [],
   "source": [
    "a = [1,2,3]     # リスト（配列を作る）\n",
    "b = a.copy()    # コピーしたリストを代入する\n",
    "print(b)\n",
    "a.append(4)     # 配列に加えてみる\n",
    "print(b)        # OK"
   ]
  },
  {
   "cell_type": "markdown",
   "metadata": {
    "slideshow": {
     "slide_type": "skip"
    }
   },
   "source": [
    "## Python の型(参考)\n",
    "\n",
    "Python では型付けは動的に行われ、変数宣言は不要である。\n",
    "以下の例で `type()` は変数・オブジェクトの型を返す関数:"
   ]
  },
  {
   "cell_type": "code",
   "execution_count": null,
   "metadata": {
    "slideshow": {
     "slide_type": "skip"
    }
   },
   "outputs": [],
   "source": [
    "a = \"foo\"\n",
    "print(type(a))\n",
    "\n",
    "a = 5\n",
    "print(type(a))\n",
    "\n",
    "a = a / 4\n",
    "print(type(a))"
   ]
  },
  {
   "cell_type": "markdown",
   "metadata": {
    "slideshow": {
     "slide_type": "skip"
    }
   },
   "source": [
    "もちろん、あきらに矛盾する場合はエラーとなる:"
   ]
  },
  {
   "cell_type": "code",
   "execution_count": null,
   "metadata": {
    "slideshow": {
     "slide_type": "skip"
    }
   },
   "outputs": [],
   "source": [
    "a = \"foo\" + 5"
   ]
  },
  {
   "cell_type": "markdown",
   "metadata": {
    "slideshow": {
     "slide_type": "skip"
    }
   },
   "source": [
    "### 型・クラス検査\n",
    "\n",
    "変数・オブジェクトが特定の型・クラスかどうかを検査するには、`isinstance()`を使う。\n",
    "以下は動的な型付けの例:"
   ]
  },
  {
   "cell_type": "code",
   "execution_count": null,
   "metadata": {
    "slideshow": {
     "slide_type": "skip"
    }
   },
   "outputs": [],
   "source": [
    "a = \"foo\"\n",
    "print(isinstance(a, int))\n",
    "print(isinstance(a, str))\n",
    "\n",
    "a = 5\n",
    "print(isinstance(a, int))\n",
    "print(isinstance(a, str))\n",
    "\n",
    "a = a / 4\n",
    "print(isinstance(a, float))"
   ]
  },
  {
   "cell_type": "markdown",
   "metadata": {
    "slideshow": {
     "slide_type": "slide"
    }
   },
   "source": [
    "## オブジェクト属性とメソッド(参考)\n",
    "オブジェクトは属性（Attribute）とメソッドを持つ。\n",
    "属性はオブジェクト内部に置かれる他の変数・オブジェクトであり、\n",
    "メソッドはオブジェクトに結びつく関数で、オブジェクト内部のデータアクセスに使われる。\n",
    "属性、メソッドいずれも`obj.attribute_name` によってアクセスされる。\n",
    "jupyter では変数・オブジェクトの直後にカーソルのある状態で Tab キーを押せば、属性一覧を得ることができる:"
   ]
  },
  {
   "cell_type": "code",
   "execution_count": null,
   "metadata": {},
   "outputs": [],
   "source": [
    "# 最終行末尾ににカーソルを合わせて Tab キーを押す：\n",
    "a=\"foo\"\n",
    "a."
   ]
  },
  {
   "cell_type": "markdown",
   "metadata": {},
   "source": [
    "属性・メソッドを得るには、`getattr()`を使う:"
   ]
  },
  {
   "cell_type": "code",
   "execution_count": null,
   "metadata": {},
   "outputs": [],
   "source": [
    "a=\"foo\"                       # a は文字列型\n",
    "a_count = getattr(a,'count')  # a.count() 関数を a_count という変数に代入\n",
    "a_count(\"o\")                  # Count the number of \"o\" in \"foo\""
   ]
  },
  {
   "cell_type": "markdown",
   "metadata": {
    "slideshow": {
     "slide_type": "slide"
    }
   },
   "source": [
    "## モジュールの読み込み(import)\n",
    "\n",
    "Python では多様な拡張機能がモジュールとして提供されており、\n",
    "これらは `import` によって読み込むことができる。\n",
    "演習率 `\\pi` や、指数関数`exp()`は数学関数モジュール `math`　に定義されており、\n",
    "モジュール読み込み、利用は、`import`, `from`, `as`を利用して以下のようにおこなえる:"
   ]
  },
  {
   "cell_type": "code",
   "execution_count": null,
   "metadata": {},
   "outputs": [],
   "source": [
    "# 基本的な方法\n",
    "import math\n",
    "print(math.pi)\n",
    "print(math.exp(1.0))\n",
    "print()\n",
    "\n",
    "# モジュールの一部のみ読み込む\n",
    "from math import pi, exp\n",
    "print(pi)\n",
    "print(exp(1))\n",
    "print()\n",
    "\n",
    "# モジュール名が長いので別名で読み込む\n",
    "import math as m\n",
    "print(m.pi)\n",
    "print(m.exp(1))"
   ]
  },
  {
   "cell_type": "markdown",
   "metadata": {},
   "source": [
    "Python プログラムであればモジュールとして読み込むことができる。\n",
    "また、複数のファイルでモジュールを構築する場合はそれらをまとめてディレクトリに配置、パッケージ化することもできる。この場合、ディレクトリに `__init__.py` ファイルを置きパッケージディレクトリであることを示す。"
   ]
  }
 ],
 "metadata": {
  "celltoolbar": "Slideshow",
  "kernelspec": {
   "display_name": "Python 3",
   "language": "python",
   "name": "python3"
  },
  "language_info": {
   "codemirror_mode": {
    "name": "ipython",
    "version": 3
   },
   "file_extension": ".py",
   "mimetype": "text/x-python",
   "name": "python",
   "nbconvert_exporter": "python",
   "pygments_lexer": "ipython3",
   "version": "3.6.4"
  }
 },
 "nbformat": 4,
 "nbformat_minor": 2
}
